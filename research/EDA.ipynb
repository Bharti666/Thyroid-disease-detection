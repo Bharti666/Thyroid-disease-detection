{
 "cells": [
  {
   "cell_type": "markdown",
   "metadata": {},
   "source": [
    "## Thyroid disease detection"
   ]
  },
  {
   "cell_type": "markdown",
   "metadata": {},
   "source": [
    "### Table of content\n",
    "- Introduction\n",
    "- Executive summary\n",
    "- Data and methods\n",
    "- Data cleaning and feature engineering\n",
    "- EDA\n",
    "- Model training\n",
    "- Conclusion\n",
    "- Future recommendation"
   ]
  },
  {
   "cell_type": "markdown",
   "metadata": {},
   "source": [
    "## Introduction\n",
    "Thyroid is an important butterfly shaped gland present in front of our neck. This gland produce thyroid hormone\n",
    "which is reponsible for controlling and maintaining essential functions of our body such as metablism.\n",
    "Due to many reasons funcitoning of thyroid gland may get affected. The two main abnormalities of thyroid gland is \n",
    "hypothyroidism and hyperthyroidism. In hyperthyroidism there may be excess production of thyroid hormones \n",
    "whereas in hypothyroidism there may be less produciton of thyroid hormone.\n",
    "Now it is very difficult to diagnose thyroid disorder just by looking sign and symptoms. so, laboratory test \n",
    "are important to diagnose thyroid disorder."
   ]
  },
  {
   "cell_type": "markdown",
   "metadata": {},
   "source": [
    "## Executive Summary"
   ]
  },
  {
   "cell_type": "markdown",
   "metadata": {},
   "source": [
    "## Data and Methods\n",
    "we got this dataset from UCI Machine repository named 'Thyroid Disease'. There are many databases in this repository.\n",
    "But we are working with dataset named thyroid0387.txt. \n",
    "This dataset contain 29 independent columns and one dependent columns. Dependent column is having categorical featueres with 7 classes. \n",
    "There are 9173 rows. \n",
    "\n"
   ]
  },
  {
   "cell_type": "markdown",
   "metadata": {},
   "source": [
    "1. Data Summary and Overview. \n",
    "2. check columns for missing values, if missing column have more than 50% missing data than dorp it. \n",
    "3. Drop the \"measured\" columns as measurement are already available. \n",
    "4. Replace M:0 and F:1, f:0 and t:1. \n",
    "5. Check for outliers values.       \n",
    "6. Ecnode \"referal_code using\" get_dummies(). \n",
    "7. convert the classes into encodings. \n",
    "8. Check for categorical columns for unexpected value \n",
    "9. check numerical column for outlier  \n",
    "10. apply imputers to replace missing values. \n",
    "11. Check for numerical and categorical features, (categorical can be converted to OHV) \n",
    "12. check for duplicate data \n",
    "13. visualize various features to check for distribution. if distribution is not proper apply log transform. \n",
    "14. check the points that belong to classes. if imbalanced  appy over sampling techniques. "
   ]
  },
  {
   "cell_type": "markdown",
   "metadata": {},
   "source": [
    "## Data Cleaning and Feature Engineering"
   ]
  },
  {
   "cell_type": "code",
   "execution_count": 1,
   "metadata": {},
   "outputs": [],
   "source": [
    "#import all the necessary libraries\n",
    "import pandas as pd\n",
    "import numpy as np\n",
    "import seaborn as sns\n",
    "import matplotlib.pyplot as plt\n",
    "import os"
   ]
  },
  {
   "cell_type": "code",
   "execution_count": 2,
   "metadata": {},
   "outputs": [
    {
     "data": {
      "text/plain": [
       "'c:\\\\Users\\\\aakas\\\\Documents\\\\Projects\\\\Thyroid-disease-detection\\\\research'"
      ]
     },
     "execution_count": 2,
     "metadata": {},
     "output_type": "execute_result"
    }
   ],
   "source": [
    "%pwd"
   ]
  },
  {
   "cell_type": "code",
   "execution_count": 3,
   "metadata": {},
   "outputs": [],
   "source": [
    "os.chdir(\"../\")"
   ]
  },
  {
   "cell_type": "code",
   "execution_count": 4,
   "metadata": {},
   "outputs": [
    {
     "data": {
      "text/plain": [
       "'c:\\\\Users\\\\aakas\\\\Documents\\\\Projects\\\\Thyroid-disease-detection'"
      ]
     },
     "execution_count": 4,
     "metadata": {},
     "output_type": "execute_result"
    }
   ],
   "source": [
    "%pwd"
   ]
  },
  {
   "cell_type": "code",
   "execution_count": 5,
   "metadata": {},
   "outputs": [],
   "source": [
    "file_path = './artifact/ingested_data/thyroid_merged_20230825_173422.csv'\n",
    "\n",
    "# Read the CSV file into a Pandas DataFrame\n",
    "df = pd.read_csv(file_path)\n"
   ]
  },
  {
   "cell_type": "code",
   "execution_count": 6,
   "metadata": {},
   "outputs": [
    {
     "data": {
      "text/html": [
       "<div>\n",
       "<style scoped>\n",
       "    .dataframe tbody tr th:only-of-type {\n",
       "        vertical-align: middle;\n",
       "    }\n",
       "\n",
       "    .dataframe tbody tr th {\n",
       "        vertical-align: top;\n",
       "    }\n",
       "\n",
       "    .dataframe thead th {\n",
       "        text-align: right;\n",
       "    }\n",
       "</style>\n",
       "<table border=\"1\" class=\"dataframe\">\n",
       "  <thead>\n",
       "    <tr style=\"text-align: right;\">\n",
       "      <th></th>\n",
       "      <th>age</th>\n",
       "      <th>sex</th>\n",
       "      <th>on_thyroxine</th>\n",
       "      <th>query_on_thyroxine</th>\n",
       "      <th>on_antithyroid_medication</th>\n",
       "      <th>sick</th>\n",
       "      <th>pregnant</th>\n",
       "      <th>thyroid_surgery</th>\n",
       "      <th>I131_treatment</th>\n",
       "      <th>query_hypothyroid</th>\n",
       "      <th>...</th>\n",
       "      <th>TT4_measured</th>\n",
       "      <th>TT4</th>\n",
       "      <th>T4U_measured</th>\n",
       "      <th>T4U</th>\n",
       "      <th>FTI_measured</th>\n",
       "      <th>FTI</th>\n",
       "      <th>TBG_measured</th>\n",
       "      <th>TBG</th>\n",
       "      <th>referral_source</th>\n",
       "      <th>class</th>\n",
       "    </tr>\n",
       "  </thead>\n",
       "  <tbody>\n",
       "    <tr>\n",
       "      <th>0</th>\n",
       "      <td>41.0</td>\n",
       "      <td>F</td>\n",
       "      <td>f</td>\n",
       "      <td>f</td>\n",
       "      <td>f</td>\n",
       "      <td>f</td>\n",
       "      <td>f</td>\n",
       "      <td>f</td>\n",
       "      <td>f</td>\n",
       "      <td>f</td>\n",
       "      <td>...</td>\n",
       "      <td>t</td>\n",
       "      <td>125.0</td>\n",
       "      <td>t</td>\n",
       "      <td>1.14</td>\n",
       "      <td>t</td>\n",
       "      <td>109.0</td>\n",
       "      <td>f</td>\n",
       "      <td>NaN</td>\n",
       "      <td>SVHC</td>\n",
       "      <td>negative</td>\n",
       "    </tr>\n",
       "    <tr>\n",
       "      <th>1</th>\n",
       "      <td>23.0</td>\n",
       "      <td>F</td>\n",
       "      <td>f</td>\n",
       "      <td>f</td>\n",
       "      <td>f</td>\n",
       "      <td>f</td>\n",
       "      <td>f</td>\n",
       "      <td>f</td>\n",
       "      <td>f</td>\n",
       "      <td>f</td>\n",
       "      <td>...</td>\n",
       "      <td>t</td>\n",
       "      <td>102.0</td>\n",
       "      <td>f</td>\n",
       "      <td>NaN</td>\n",
       "      <td>f</td>\n",
       "      <td>NaN</td>\n",
       "      <td>f</td>\n",
       "      <td>NaN</td>\n",
       "      <td>other</td>\n",
       "      <td>negative</td>\n",
       "    </tr>\n",
       "    <tr>\n",
       "      <th>2</th>\n",
       "      <td>46.0</td>\n",
       "      <td>M</td>\n",
       "      <td>f</td>\n",
       "      <td>f</td>\n",
       "      <td>f</td>\n",
       "      <td>f</td>\n",
       "      <td>f</td>\n",
       "      <td>f</td>\n",
       "      <td>f</td>\n",
       "      <td>f</td>\n",
       "      <td>...</td>\n",
       "      <td>t</td>\n",
       "      <td>109.0</td>\n",
       "      <td>t</td>\n",
       "      <td>0.91</td>\n",
       "      <td>t</td>\n",
       "      <td>120.0</td>\n",
       "      <td>f</td>\n",
       "      <td>NaN</td>\n",
       "      <td>other</td>\n",
       "      <td>negative</td>\n",
       "    </tr>\n",
       "    <tr>\n",
       "      <th>3</th>\n",
       "      <td>70.0</td>\n",
       "      <td>F</td>\n",
       "      <td>t</td>\n",
       "      <td>f</td>\n",
       "      <td>f</td>\n",
       "      <td>f</td>\n",
       "      <td>f</td>\n",
       "      <td>f</td>\n",
       "      <td>f</td>\n",
       "      <td>f</td>\n",
       "      <td>...</td>\n",
       "      <td>t</td>\n",
       "      <td>175.0</td>\n",
       "      <td>f</td>\n",
       "      <td>NaN</td>\n",
       "      <td>f</td>\n",
       "      <td>NaN</td>\n",
       "      <td>f</td>\n",
       "      <td>NaN</td>\n",
       "      <td>other</td>\n",
       "      <td>negative</td>\n",
       "    </tr>\n",
       "    <tr>\n",
       "      <th>4</th>\n",
       "      <td>70.0</td>\n",
       "      <td>F</td>\n",
       "      <td>f</td>\n",
       "      <td>f</td>\n",
       "      <td>f</td>\n",
       "      <td>f</td>\n",
       "      <td>f</td>\n",
       "      <td>f</td>\n",
       "      <td>f</td>\n",
       "      <td>f</td>\n",
       "      <td>...</td>\n",
       "      <td>t</td>\n",
       "      <td>61.0</td>\n",
       "      <td>t</td>\n",
       "      <td>0.87</td>\n",
       "      <td>t</td>\n",
       "      <td>70.0</td>\n",
       "      <td>f</td>\n",
       "      <td>NaN</td>\n",
       "      <td>SVI</td>\n",
       "      <td>negative</td>\n",
       "    </tr>\n",
       "  </tbody>\n",
       "</table>\n",
       "<p>5 rows × 30 columns</p>\n",
       "</div>"
      ],
      "text/plain": [
       "    age sex on_thyroxine query_on_thyroxine on_antithyroid_medication sick  \\\n",
       "0  41.0   F            f                  f                         f    f   \n",
       "1  23.0   F            f                  f                         f    f   \n",
       "2  46.0   M            f                  f                         f    f   \n",
       "3  70.0   F            t                  f                         f    f   \n",
       "4  70.0   F            f                  f                         f    f   \n",
       "\n",
       "  pregnant thyroid_surgery I131_treatment query_hypothyroid  ... TT4_measured  \\\n",
       "0        f               f              f                 f  ...            t   \n",
       "1        f               f              f                 f  ...            t   \n",
       "2        f               f              f                 f  ...            t   \n",
       "3        f               f              f                 f  ...            t   \n",
       "4        f               f              f                 f  ...            t   \n",
       "\n",
       "     TT4 T4U_measured   T4U FTI_measured    FTI TBG_measured  TBG  \\\n",
       "0  125.0            t  1.14            t  109.0            f  NaN   \n",
       "1  102.0            f   NaN            f    NaN            f  NaN   \n",
       "2  109.0            t  0.91            t  120.0            f  NaN   \n",
       "3  175.0            f   NaN            f    NaN            f  NaN   \n",
       "4   61.0            t  0.87            t   70.0            f  NaN   \n",
       "\n",
       "  referral_source     class  \n",
       "0            SVHC  negative  \n",
       "1           other  negative  \n",
       "2           other  negative  \n",
       "3           other  negative  \n",
       "4             SVI  negative  \n",
       "\n",
       "[5 rows x 30 columns]"
      ]
     },
     "execution_count": 6,
     "metadata": {},
     "output_type": "execute_result"
    }
   ],
   "source": [
    "df.head()"
   ]
  },
  {
   "cell_type": "code",
   "execution_count": 7,
   "metadata": {},
   "outputs": [
    {
     "data": {
      "text/plain": [
       "(11972, 30)"
      ]
     },
     "execution_count": 7,
     "metadata": {},
     "output_type": "execute_result"
    }
   ],
   "source": [
    "df.shape"
   ]
  },
  {
   "cell_type": "code",
   "execution_count": 8,
   "metadata": {},
   "outputs": [
    {
     "name": "stdout",
     "output_type": "stream",
     "text": [
      "<class 'pandas.core.frame.DataFrame'>\n",
      "RangeIndex: 11972 entries, 0 to 11971\n",
      "Data columns (total 30 columns):\n",
      " #   Column                     Non-Null Count  Dtype  \n",
      "---  ------                     --------------  -----  \n",
      " 0   age                        11971 non-null  float64\n",
      " 1   sex                        11555 non-null  object \n",
      " 2   on_thyroxine               11972 non-null  object \n",
      " 3   query_on_thyroxine         11972 non-null  object \n",
      " 4   on_antithyroid_medication  11972 non-null  object \n",
      " 5   sick                       11972 non-null  object \n",
      " 6   pregnant                   11972 non-null  object \n",
      " 7   thyroid_surgery            11972 non-null  object \n",
      " 8   I131_treatment             11972 non-null  object \n",
      " 9   query_hypothyroid          11972 non-null  object \n",
      " 10  query_hyperthyroid         11972 non-null  object \n",
      " 11  lithium                    11972 non-null  object \n",
      " 12  goitre                     11972 non-null  object \n",
      " 13  tumor                      11972 non-null  object \n",
      " 14  hypopituitary              11972 non-null  object \n",
      " 15  psych                      11972 non-null  object \n",
      " 16  TSH_measured               11972 non-null  object \n",
      " 17  TSH                        10846 non-null  float64\n",
      " 18  T3_measured                11972 non-null  object \n",
      " 19  T3                         8783 non-null   float64\n",
      " 20  TT4_measured               11972 non-null  object \n",
      " 21  TT4                        11346 non-null  float64\n",
      " 22  T4U_measured               11972 non-null  object \n",
      " 23  T4U                        10866 non-null  float64\n",
      " 24  FTI_measured               11972 non-null  object \n",
      " 25  FTI                        10875 non-null  float64\n",
      " 26  TBG_measured               11972 non-null  object \n",
      " 27  TBG                        349 non-null    float64\n",
      " 28  referral_source            11972 non-null  object \n",
      " 29  class                      11972 non-null  object \n",
      "dtypes: float64(7), object(23)\n",
      "memory usage: 2.7+ MB\n"
     ]
    }
   ],
   "source": [
    "df.info()\n",
    "#age is float and all other columns are object/string"
   ]
  },
  {
   "cell_type": "markdown",
   "metadata": {},
   "source": [
    "### case noramlization\n",
    "convert all to lower case\n"
   ]
  },
  {
   "cell_type": "code",
   "execution_count": 9,
   "metadata": {},
   "outputs": [],
   "source": [
    "# Convert all object columns to lowercase\n",
    "df = df.applymap(lambda x: x.lower() if isinstance(x, str) else x)\n"
   ]
  },
  {
   "cell_type": "code",
   "execution_count": 10,
   "metadata": {},
   "outputs": [
    {
     "data": {
      "text/html": [
       "<div>\n",
       "<style scoped>\n",
       "    .dataframe tbody tr th:only-of-type {\n",
       "        vertical-align: middle;\n",
       "    }\n",
       "\n",
       "    .dataframe tbody tr th {\n",
       "        vertical-align: top;\n",
       "    }\n",
       "\n",
       "    .dataframe thead th {\n",
       "        text-align: right;\n",
       "    }\n",
       "</style>\n",
       "<table border=\"1\" class=\"dataframe\">\n",
       "  <thead>\n",
       "    <tr style=\"text-align: right;\">\n",
       "      <th></th>\n",
       "      <th>age</th>\n",
       "      <th>sex</th>\n",
       "      <th>on_thyroxine</th>\n",
       "      <th>query_on_thyroxine</th>\n",
       "      <th>on_antithyroid_medication</th>\n",
       "      <th>sick</th>\n",
       "      <th>pregnant</th>\n",
       "      <th>thyroid_surgery</th>\n",
       "      <th>I131_treatment</th>\n",
       "      <th>query_hypothyroid</th>\n",
       "      <th>...</th>\n",
       "      <th>TT4_measured</th>\n",
       "      <th>TT4</th>\n",
       "      <th>T4U_measured</th>\n",
       "      <th>T4U</th>\n",
       "      <th>FTI_measured</th>\n",
       "      <th>FTI</th>\n",
       "      <th>TBG_measured</th>\n",
       "      <th>TBG</th>\n",
       "      <th>referral_source</th>\n",
       "      <th>class</th>\n",
       "    </tr>\n",
       "  </thead>\n",
       "  <tbody>\n",
       "    <tr>\n",
       "      <th>0</th>\n",
       "      <td>41.0</td>\n",
       "      <td>f</td>\n",
       "      <td>f</td>\n",
       "      <td>f</td>\n",
       "      <td>f</td>\n",
       "      <td>f</td>\n",
       "      <td>f</td>\n",
       "      <td>f</td>\n",
       "      <td>f</td>\n",
       "      <td>f</td>\n",
       "      <td>...</td>\n",
       "      <td>t</td>\n",
       "      <td>125.0</td>\n",
       "      <td>t</td>\n",
       "      <td>1.14</td>\n",
       "      <td>t</td>\n",
       "      <td>109.0</td>\n",
       "      <td>f</td>\n",
       "      <td>NaN</td>\n",
       "      <td>svhc</td>\n",
       "      <td>negative</td>\n",
       "    </tr>\n",
       "    <tr>\n",
       "      <th>1</th>\n",
       "      <td>23.0</td>\n",
       "      <td>f</td>\n",
       "      <td>f</td>\n",
       "      <td>f</td>\n",
       "      <td>f</td>\n",
       "      <td>f</td>\n",
       "      <td>f</td>\n",
       "      <td>f</td>\n",
       "      <td>f</td>\n",
       "      <td>f</td>\n",
       "      <td>...</td>\n",
       "      <td>t</td>\n",
       "      <td>102.0</td>\n",
       "      <td>f</td>\n",
       "      <td>NaN</td>\n",
       "      <td>f</td>\n",
       "      <td>NaN</td>\n",
       "      <td>f</td>\n",
       "      <td>NaN</td>\n",
       "      <td>other</td>\n",
       "      <td>negative</td>\n",
       "    </tr>\n",
       "    <tr>\n",
       "      <th>2</th>\n",
       "      <td>46.0</td>\n",
       "      <td>m</td>\n",
       "      <td>f</td>\n",
       "      <td>f</td>\n",
       "      <td>f</td>\n",
       "      <td>f</td>\n",
       "      <td>f</td>\n",
       "      <td>f</td>\n",
       "      <td>f</td>\n",
       "      <td>f</td>\n",
       "      <td>...</td>\n",
       "      <td>t</td>\n",
       "      <td>109.0</td>\n",
       "      <td>t</td>\n",
       "      <td>0.91</td>\n",
       "      <td>t</td>\n",
       "      <td>120.0</td>\n",
       "      <td>f</td>\n",
       "      <td>NaN</td>\n",
       "      <td>other</td>\n",
       "      <td>negative</td>\n",
       "    </tr>\n",
       "    <tr>\n",
       "      <th>3</th>\n",
       "      <td>70.0</td>\n",
       "      <td>f</td>\n",
       "      <td>t</td>\n",
       "      <td>f</td>\n",
       "      <td>f</td>\n",
       "      <td>f</td>\n",
       "      <td>f</td>\n",
       "      <td>f</td>\n",
       "      <td>f</td>\n",
       "      <td>f</td>\n",
       "      <td>...</td>\n",
       "      <td>t</td>\n",
       "      <td>175.0</td>\n",
       "      <td>f</td>\n",
       "      <td>NaN</td>\n",
       "      <td>f</td>\n",
       "      <td>NaN</td>\n",
       "      <td>f</td>\n",
       "      <td>NaN</td>\n",
       "      <td>other</td>\n",
       "      <td>negative</td>\n",
       "    </tr>\n",
       "    <tr>\n",
       "      <th>4</th>\n",
       "      <td>70.0</td>\n",
       "      <td>f</td>\n",
       "      <td>f</td>\n",
       "      <td>f</td>\n",
       "      <td>f</td>\n",
       "      <td>f</td>\n",
       "      <td>f</td>\n",
       "      <td>f</td>\n",
       "      <td>f</td>\n",
       "      <td>f</td>\n",
       "      <td>...</td>\n",
       "      <td>t</td>\n",
       "      <td>61.0</td>\n",
       "      <td>t</td>\n",
       "      <td>0.87</td>\n",
       "      <td>t</td>\n",
       "      <td>70.0</td>\n",
       "      <td>f</td>\n",
       "      <td>NaN</td>\n",
       "      <td>svi</td>\n",
       "      <td>negative</td>\n",
       "    </tr>\n",
       "    <tr>\n",
       "      <th>...</th>\n",
       "      <td>...</td>\n",
       "      <td>...</td>\n",
       "      <td>...</td>\n",
       "      <td>...</td>\n",
       "      <td>...</td>\n",
       "      <td>...</td>\n",
       "      <td>...</td>\n",
       "      <td>...</td>\n",
       "      <td>...</td>\n",
       "      <td>...</td>\n",
       "      <td>...</td>\n",
       "      <td>...</td>\n",
       "      <td>...</td>\n",
       "      <td>...</td>\n",
       "      <td>...</td>\n",
       "      <td>...</td>\n",
       "      <td>...</td>\n",
       "      <td>...</td>\n",
       "      <td>...</td>\n",
       "      <td>...</td>\n",
       "      <td>...</td>\n",
       "    </tr>\n",
       "    <tr>\n",
       "      <th>11967</th>\n",
       "      <td>56.0</td>\n",
       "      <td>m</td>\n",
       "      <td>f</td>\n",
       "      <td>f</td>\n",
       "      <td>f</td>\n",
       "      <td>f</td>\n",
       "      <td>f</td>\n",
       "      <td>f</td>\n",
       "      <td>f</td>\n",
       "      <td>f</td>\n",
       "      <td>...</td>\n",
       "      <td>t</td>\n",
       "      <td>64.0</td>\n",
       "      <td>t</td>\n",
       "      <td>0.83</td>\n",
       "      <td>t</td>\n",
       "      <td>77.0</td>\n",
       "      <td>f</td>\n",
       "      <td>NaN</td>\n",
       "      <td>svi</td>\n",
       "      <td>negative</td>\n",
       "    </tr>\n",
       "    <tr>\n",
       "      <th>11968</th>\n",
       "      <td>22.0</td>\n",
       "      <td>m</td>\n",
       "      <td>f</td>\n",
       "      <td>f</td>\n",
       "      <td>f</td>\n",
       "      <td>f</td>\n",
       "      <td>f</td>\n",
       "      <td>f</td>\n",
       "      <td>f</td>\n",
       "      <td>f</td>\n",
       "      <td>...</td>\n",
       "      <td>t</td>\n",
       "      <td>91.0</td>\n",
       "      <td>t</td>\n",
       "      <td>0.92</td>\n",
       "      <td>t</td>\n",
       "      <td>99.0</td>\n",
       "      <td>f</td>\n",
       "      <td>NaN</td>\n",
       "      <td>svi</td>\n",
       "      <td>negative</td>\n",
       "    </tr>\n",
       "    <tr>\n",
       "      <th>11969</th>\n",
       "      <td>69.0</td>\n",
       "      <td>m</td>\n",
       "      <td>f</td>\n",
       "      <td>f</td>\n",
       "      <td>f</td>\n",
       "      <td>f</td>\n",
       "      <td>f</td>\n",
       "      <td>f</td>\n",
       "      <td>f</td>\n",
       "      <td>f</td>\n",
       "      <td>...</td>\n",
       "      <td>t</td>\n",
       "      <td>113.0</td>\n",
       "      <td>t</td>\n",
       "      <td>1.27</td>\n",
       "      <td>t</td>\n",
       "      <td>89.0</td>\n",
       "      <td>f</td>\n",
       "      <td>NaN</td>\n",
       "      <td>svi</td>\n",
       "      <td>i</td>\n",
       "    </tr>\n",
       "    <tr>\n",
       "      <th>11970</th>\n",
       "      <td>47.0</td>\n",
       "      <td>f</td>\n",
       "      <td>f</td>\n",
       "      <td>f</td>\n",
       "      <td>f</td>\n",
       "      <td>f</td>\n",
       "      <td>f</td>\n",
       "      <td>f</td>\n",
       "      <td>f</td>\n",
       "      <td>f</td>\n",
       "      <td>...</td>\n",
       "      <td>t</td>\n",
       "      <td>75.0</td>\n",
       "      <td>t</td>\n",
       "      <td>0.85</td>\n",
       "      <td>t</td>\n",
       "      <td>88.0</td>\n",
       "      <td>f</td>\n",
       "      <td>NaN</td>\n",
       "      <td>other</td>\n",
       "      <td>negative</td>\n",
       "    </tr>\n",
       "    <tr>\n",
       "      <th>11971</th>\n",
       "      <td>31.0</td>\n",
       "      <td>m</td>\n",
       "      <td>f</td>\n",
       "      <td>f</td>\n",
       "      <td>f</td>\n",
       "      <td>f</td>\n",
       "      <td>f</td>\n",
       "      <td>f</td>\n",
       "      <td>f</td>\n",
       "      <td>t</td>\n",
       "      <td>...</td>\n",
       "      <td>t</td>\n",
       "      <td>66.0</td>\n",
       "      <td>t</td>\n",
       "      <td>1.02</td>\n",
       "      <td>t</td>\n",
       "      <td>65.0</td>\n",
       "      <td>f</td>\n",
       "      <td>NaN</td>\n",
       "      <td>other</td>\n",
       "      <td>negative</td>\n",
       "    </tr>\n",
       "  </tbody>\n",
       "</table>\n",
       "<p>11972 rows × 30 columns</p>\n",
       "</div>"
      ],
      "text/plain": [
       "        age sex on_thyroxine query_on_thyroxine on_antithyroid_medication  \\\n",
       "0      41.0   f            f                  f                         f   \n",
       "1      23.0   f            f                  f                         f   \n",
       "2      46.0   m            f                  f                         f   \n",
       "3      70.0   f            t                  f                         f   \n",
       "4      70.0   f            f                  f                         f   \n",
       "...     ...  ..          ...                ...                       ...   \n",
       "11967  56.0   m            f                  f                         f   \n",
       "11968  22.0   m            f                  f                         f   \n",
       "11969  69.0   m            f                  f                         f   \n",
       "11970  47.0   f            f                  f                         f   \n",
       "11971  31.0   m            f                  f                         f   \n",
       "\n",
       "      sick pregnant thyroid_surgery I131_treatment query_hypothyroid  ...  \\\n",
       "0        f        f               f              f                 f  ...   \n",
       "1        f        f               f              f                 f  ...   \n",
       "2        f        f               f              f                 f  ...   \n",
       "3        f        f               f              f                 f  ...   \n",
       "4        f        f               f              f                 f  ...   \n",
       "...    ...      ...             ...            ...               ...  ...   \n",
       "11967    f        f               f              f                 f  ...   \n",
       "11968    f        f               f              f                 f  ...   \n",
       "11969    f        f               f              f                 f  ...   \n",
       "11970    f        f               f              f                 f  ...   \n",
       "11971    f        f               f              f                 t  ...   \n",
       "\n",
       "      TT4_measured    TT4 T4U_measured   T4U FTI_measured    FTI TBG_measured  \\\n",
       "0                t  125.0            t  1.14            t  109.0            f   \n",
       "1                t  102.0            f   NaN            f    NaN            f   \n",
       "2                t  109.0            t  0.91            t  120.0            f   \n",
       "3                t  175.0            f   NaN            f    NaN            f   \n",
       "4                t   61.0            t  0.87            t   70.0            f   \n",
       "...            ...    ...          ...   ...          ...    ...          ...   \n",
       "11967            t   64.0            t  0.83            t   77.0            f   \n",
       "11968            t   91.0            t  0.92            t   99.0            f   \n",
       "11969            t  113.0            t  1.27            t   89.0            f   \n",
       "11970            t   75.0            t  0.85            t   88.0            f   \n",
       "11971            t   66.0            t  1.02            t   65.0            f   \n",
       "\n",
       "       TBG referral_source     class  \n",
       "0      NaN            svhc  negative  \n",
       "1      NaN           other  negative  \n",
       "2      NaN           other  negative  \n",
       "3      NaN           other  negative  \n",
       "4      NaN             svi  negative  \n",
       "...    ...             ...       ...  \n",
       "11967  NaN             svi  negative  \n",
       "11968  NaN             svi  negative  \n",
       "11969  NaN             svi         i  \n",
       "11970  NaN           other  negative  \n",
       "11971  NaN           other  negative  \n",
       "\n",
       "[11972 rows x 30 columns]"
      ]
     },
     "execution_count": 10,
     "metadata": {},
     "output_type": "execute_result"
    }
   ],
   "source": [
    "df"
   ]
  },
  {
   "cell_type": "code",
   "execution_count": 12,
   "metadata": {},
   "outputs": [
    {
     "data": {
      "text/plain": [
       "2021"
      ]
     },
     "execution_count": 12,
     "metadata": {},
     "output_type": "execute_result"
    }
   ],
   "source": [
    "df.duplicated().sum()"
   ]
  },
  {
   "cell_type": "code",
   "execution_count": 13,
   "metadata": {},
   "outputs": [],
   "source": [
    "# Check for duplicate rows\n",
    "duplicate_rows = df[df.duplicated()]"
   ]
  },
  {
   "cell_type": "code",
   "execution_count": 14,
   "metadata": {},
   "outputs": [],
   "source": [
    "# Remove duplicate rows and keep the first occurrence\n",
    "df = df.drop_duplicates()"
   ]
  },
  {
   "cell_type": "markdown",
   "metadata": {},
   "source": [
    "## check for missing values"
   ]
  },
  {
   "cell_type": "code",
   "execution_count": 15,
   "metadata": {},
   "outputs": [
    {
     "data": {
      "text/plain": [
       "16056"
      ]
     },
     "execution_count": 15,
     "metadata": {},
     "output_type": "execute_result"
    }
   ],
   "source": [
    "df.isnull().sum().sum()\n",
    "#There are 14,659 missing values"
   ]
  },
  {
   "cell_type": "code",
   "execution_count": 16,
   "metadata": {},
   "outputs": [
    {
     "data": {
      "text/plain": [
       "TBG                          9610\n",
       "T3                           2789\n",
       "TSH                           943\n",
       "T4U                           927\n",
       "FTI                           920\n",
       "TT4                           531\n",
       "sex                           335\n",
       "age                             1\n",
       "referral_source                 0\n",
       "TBG_measured                    0\n",
       "FTI_measured                    0\n",
       "T4U_measured                    0\n",
       "TT4_measured                    0\n",
       "T3_measured                     0\n",
       "TSH_measured                    0\n",
       "psych                           0\n",
       "hypopituitary                   0\n",
       "tumor                           0\n",
       "goitre                          0\n",
       "lithium                         0\n",
       "query_hyperthyroid              0\n",
       "query_hypothyroid               0\n",
       "I131_treatment                  0\n",
       "thyroid_surgery                 0\n",
       "pregnant                        0\n",
       "sick                            0\n",
       "on_antithyroid_medication       0\n",
       "query_on_thyroxine              0\n",
       "on_thyroxine                    0\n",
       "class                           0\n",
       "dtype: int64"
      ]
     },
     "execution_count": 16,
     "metadata": {},
     "output_type": "execute_result"
    }
   ],
   "source": [
    "#Handling missing values\n",
    "df.isnull().sum().sort_values(ascending=False)"
   ]
  },
  {
   "cell_type": "code",
   "execution_count": 17,
   "metadata": {},
   "outputs": [
    {
     "data": {
      "image/png": "[encoded data removed]",
      "text/plain": [
       "<Figure size 1000x600 with 1 Axes>"
      ]
     },
     "metadata": {},
     "output_type": "display_data"
    }
   ],
   "source": [
    "missing_values_count = df.isnull().sum().sort_values(ascending=False)\n",
    "missing_values_count.plot(kind='bar', figsize=(10, 6))\n",
    "plt.title('Missing Values Count by Column')\n",
    "plt.xlabel('Columns')\n",
    "plt.ylabel('Missing Values Count')\n",
    "plt.show()"
   ]
  },
  {
   "cell_type": "markdown",
   "metadata": {},
   "source": [
    "drop those columns that have more than 50% of missing values as they would otherwise make our model biased even if we try to impute mean or median values."
   ]
  },
  {
   "cell_type": "code",
   "execution_count": 18,
   "metadata": {},
   "outputs": [
    {
     "data": {
      "text/plain": [
       "4975"
      ]
     },
     "execution_count": 18,
     "metadata": {},
     "output_type": "execute_result"
    }
   ],
   "source": [
    "threshold = 0.5\n",
    "column_threshold = int(0.5 * len(df))\n",
    "column_threshold"
   ]
  },
  {
   "cell_type": "code",
   "execution_count": 19,
   "metadata": {},
   "outputs": [],
   "source": [
    "# Drop columns with more missing values than the threshold\n",
    "df = df.dropna(axis=1, thresh=column_threshold)"
   ]
  },
  {
   "cell_type": "code",
   "execution_count": 20,
   "metadata": {},
   "outputs": [
    {
     "data": {
      "text/plain": [
       "(9951, 29)"
      ]
     },
     "execution_count": 20,
     "metadata": {},
     "output_type": "execute_result"
    }
   ],
   "source": [
    "df.shape"
   ]
  },
  {
   "cell_type": "markdown",
   "metadata": {},
   "source": [
    "we now have 29 columns remaining and rest"
   ]
  },
  {
   "cell_type": "markdown",
   "metadata": {},
   "source": [
    "## Dropping the measured columns\n",
    "we are dropping the measured columns because we have already obtained the measurements values.\n",
    "but before dropping the measurements we need to replace the false measurements values with 0 and in case if TRUE value is also missing then we can do mean value replacement."
   ]
  },
  {
   "cell_type": "code",
   "execution_count": 21,
   "metadata": {},
   "outputs": [],
   "source": [
    "# check for missing TRUE and FALSE values in TT4 data\n",
    "tt4_missing_values_true = df.loc[df['TT4_measured'] == 't', 'TT4'].isnull().sum()\n",
    "tt4_missing_values_false = df.loc[df['TT4_measured'] == 'f', 'TT4'].isnull().sum()\n"
   ]
  },
  {
   "cell_type": "code",
   "execution_count": 22,
   "metadata": {},
   "outputs": [
    {
     "name": "stdout",
     "output_type": "stream",
     "text": [
      "0\n",
      "531\n"
     ]
    }
   ],
   "source": [
    "print(tt4_missing_values_true)\n",
    "print(tt4_missing_values_false)\n"
   ]
  },
  {
   "cell_type": "markdown",
   "metadata": {},
   "source": [
    "we can confirm that for this column no TRUE values are missing, we can replace false values with 0 as this test is not conducted"
   ]
  },
  {
   "cell_type": "code",
   "execution_count": 23,
   "metadata": {},
   "outputs": [
    {
     "data": {
      "text/plain": [
       "(9951, 29)"
      ]
     },
     "execution_count": 23,
     "metadata": {},
     "output_type": "execute_result"
    }
   ],
   "source": [
    "df.shape"
   ]
  },
  {
   "cell_type": "code",
   "execution_count": 24,
   "metadata": {},
   "outputs": [],
   "source": [
    "# replacing the false values with 0 \n",
    "df.loc[df['TT4_measured'] == 'f', 'TT4'] = df['TT4'].fillna(0)"
   ]
  },
  {
   "cell_type": "code",
   "execution_count": 25,
   "metadata": {},
   "outputs": [
    {
     "data": {
      "text/plain": [
       "0"
      ]
     },
     "execution_count": 25,
     "metadata": {},
     "output_type": "execute_result"
    }
   ],
   "source": [
    "tt4_missing_values_false = df.loc[df['TT4_measured'] == 'f', 'TT4'].isnull().sum()\n",
    "tt4_missing_values_false"
   ]
  },
  {
   "cell_type": "markdown",
   "metadata": {},
   "source": [
    "#### TSH false value replacement"
   ]
  },
  {
   "cell_type": "code",
   "execution_count": 26,
   "metadata": {},
   "outputs": [
    {
     "name": "stdout",
     "output_type": "stream",
     "text": [
      "0\n",
      "943\n"
     ]
    }
   ],
   "source": [
    "# check for missing TRUE and FALSE values in TT4 data\n",
    "tsh_missing_values_true = df.loc[df['TSH_measured'] == 't', 'TSH'].isnull().sum()\n",
    "tsh_missing_values_false = df.loc[df['TSH_measured'] == 'f', 'TSH'].isnull().sum()\n",
    "print(tsh_missing_values_true)\n",
    "print(tsh_missing_values_false)"
   ]
  },
  {
   "cell_type": "code",
   "execution_count": 27,
   "metadata": {},
   "outputs": [],
   "source": [
    "df.loc[df['TSH_measured'] == 'f', 'TSH'] = df['TSH'].fillna(0)"
   ]
  },
  {
   "cell_type": "markdown",
   "metadata": {},
   "source": [
    "#### T3 false value replacement"
   ]
  },
  {
   "cell_type": "code",
   "execution_count": 28,
   "metadata": {},
   "outputs": [
    {
     "name": "stdout",
     "output_type": "stream",
     "text": [
      "0\n",
      "2789\n"
     ]
    }
   ],
   "source": [
    "# check for missing TRUE and FALSE values in TT4 data\n",
    "t3_missing_values_true = df.loc[df['T3_measured'] == 't', 'T3'].isnull().sum()\n",
    "t3_missing_values_false = df.loc[df['T3_measured'] == 'f', 'T3'].isnull().sum()\n",
    "print(t3_missing_values_true)\n",
    "print(t3_missing_values_false)"
   ]
  },
  {
   "cell_type": "code",
   "execution_count": 29,
   "metadata": {},
   "outputs": [],
   "source": [
    "df.loc[df['T3_measured'] == 'f', 'T3'] = df['T3'].fillna(0)"
   ]
  },
  {
   "cell_type": "markdown",
   "metadata": {},
   "source": [
    "#### FTI false value replacement"
   ]
  },
  {
   "cell_type": "code",
   "execution_count": 30,
   "metadata": {},
   "outputs": [
    {
     "name": "stdout",
     "output_type": "stream",
     "text": [
      "0\n",
      "920\n"
     ]
    }
   ],
   "source": [
    "# check for missing TRUE and FALSE values in FTI data\n",
    "FTI_missing_values_true = df.loc[df['FTI_measured'] == 't', 'FTI'].isnull().sum()\n",
    "FTI_missing_values_false = df.loc[df['FTI_measured'] == 'f', 'FTI'].isnull().sum()\n",
    "print(FTI_missing_values_true)\n",
    "print(FTI_missing_values_false)"
   ]
  },
  {
   "cell_type": "code",
   "execution_count": 31,
   "metadata": {},
   "outputs": [],
   "source": [
    "df.loc[df['FTI_measured'] == 'f', 'FTI'] = df['FTI'].fillna(0)"
   ]
  },
  {
   "cell_type": "markdown",
   "metadata": {},
   "source": [
    "#### TT4 false values replacement\n"
   ]
  },
  {
   "cell_type": "code",
   "execution_count": 32,
   "metadata": {},
   "outputs": [
    {
     "name": "stdout",
     "output_type": "stream",
     "text": [
      "0\n",
      "927\n"
     ]
    }
   ],
   "source": [
    "# check for missing TRUE and FALSE values in T4U data\n",
    "T4U_missing_values_true = df.loc[df['T4U_measured'] == 't', 'T4U'].isnull().sum()\n",
    "T4U_missing_values_false = df.loc[df['T4U_measured'] == 'f', 'T4U'].isnull().sum()\n",
    "print(T4U_missing_values_true)\n",
    "print(T4U_missing_values_false)"
   ]
  },
  {
   "cell_type": "code",
   "execution_count": 33,
   "metadata": {},
   "outputs": [],
   "source": [
    "df.loc[df['T4U_measured'] == 'f', 'T4U'] = df['T4U'].fillna(0)"
   ]
  },
  {
   "cell_type": "markdown",
   "metadata": {},
   "source": [
    "now again check for missing values"
   ]
  },
  {
   "cell_type": "code",
   "execution_count": 34,
   "metadata": {},
   "outputs": [
    {
     "data": {
      "text/plain": [
       "sex                          335\n",
       "age                            1\n",
       "psych                          0\n",
       "referral_source                0\n",
       "TBG_measured                   0\n",
       "FTI                            0\n",
       "FTI_measured                   0\n",
       "T4U                            0\n",
       "T4U_measured                   0\n",
       "TT4                            0\n",
       "TT4_measured                   0\n",
       "T3                             0\n",
       "T3_measured                    0\n",
       "TSH                            0\n",
       "TSH_measured                   0\n",
       "hypopituitary                  0\n",
       "tumor                          0\n",
       "goitre                         0\n",
       "lithium                        0\n",
       "query_hyperthyroid             0\n",
       "query_hypothyroid              0\n",
       "I131_treatment                 0\n",
       "thyroid_surgery                0\n",
       "pregnant                       0\n",
       "sick                           0\n",
       "on_antithyroid_medication      0\n",
       "query_on_thyroxine             0\n",
       "on_thyroxine                   0\n",
       "class                          0\n",
       "dtype: int64"
      ]
     },
     "execution_count": 34,
     "metadata": {},
     "output_type": "execute_result"
    }
   ],
   "source": [
    "df.isnull().sum().sort_values(ascending=False)"
   ]
  },
  {
   "cell_type": "markdown",
   "metadata": {},
   "source": [
    "now we have 'SEX' columns with missing values and 'AGE' column have 1 missing value for 'SEX' we can replace missing values with mode and \"AGE\" with mean."
   ]
  },
  {
   "cell_type": "code",
   "execution_count": 35,
   "metadata": {},
   "outputs": [],
   "source": [
    "df1=df"
   ]
  },
  {
   "cell_type": "code",
   "execution_count": 36,
   "metadata": {},
   "outputs": [],
   "source": [
    "# Handling missing data in 'sex' column\n",
    "most_frequent_sex = df['sex'].mode()[0]\n",
    "df.loc[df['sex'].isnull(), 'sex'] = most_frequent_sex\n",
    "\n"
   ]
  },
  {
   "cell_type": "code",
   "execution_count": 37,
   "metadata": {},
   "outputs": [
    {
     "name": "stdout",
     "output_type": "stream",
     "text": [
      "55.0\n"
     ]
    }
   ],
   "source": [
    "# Handling missing data in 'age' column\n",
    "median_age = df['age'].median()\n",
    "print(median_age)\n",
    "df.loc[df['age'].isnull(), 'age'] = median_age"
   ]
  },
  {
   "cell_type": "code",
   "execution_count": 38,
   "metadata": {},
   "outputs": [
    {
     "data": {
      "text/plain": [
       "age                          0\n",
       "psych                        0\n",
       "referral_source              0\n",
       "TBG_measured                 0\n",
       "FTI                          0\n",
       "FTI_measured                 0\n",
       "T4U                          0\n",
       "T4U_measured                 0\n",
       "TT4                          0\n",
       "TT4_measured                 0\n",
       "T3                           0\n",
       "T3_measured                  0\n",
       "TSH                          0\n",
       "TSH_measured                 0\n",
       "hypopituitary                0\n",
       "sex                          0\n",
       "tumor                        0\n",
       "goitre                       0\n",
       "lithium                      0\n",
       "query_hyperthyroid           0\n",
       "query_hypothyroid            0\n",
       "I131_treatment               0\n",
       "thyroid_surgery              0\n",
       "pregnant                     0\n",
       "sick                         0\n",
       "on_antithyroid_medication    0\n",
       "query_on_thyroxine           0\n",
       "on_thyroxine                 0\n",
       "class                        0\n",
       "dtype: int64"
      ]
     },
     "execution_count": 38,
     "metadata": {},
     "output_type": "execute_result"
    }
   ],
   "source": [
    "df.isnull().sum().sort_values(ascending=False)"
   ]
  },
  {
   "cell_type": "markdown",
   "metadata": {},
   "source": [
    "We can now observe that the we do not have any missing values, now we can drop the 'measured' columns"
   ]
  },
  {
   "cell_type": "code",
   "execution_count": 39,
   "metadata": {},
   "outputs": [],
   "source": [
    "\n",
    "drop_cols = ['TBG_measured', 'FTI_measured','TT4_measured', 'T3_measured','TSH_measured','T4U_measured']\n",
    "df.drop(columns=drop_cols, inplace=True)"
   ]
  },
  {
   "cell_type": "code",
   "execution_count": 40,
   "metadata": {},
   "outputs": [
    {
     "data": {
      "text/plain": [
       "(9951, 23)"
      ]
     },
     "execution_count": 40,
     "metadata": {},
     "output_type": "execute_result"
    }
   ],
   "source": [
    "df.shape"
   ]
  },
  {
   "cell_type": "code",
   "execution_count": 41,
   "metadata": {},
   "outputs": [
    {
     "data": {
      "text/html": [
       "<div>\n",
       "<style scoped>\n",
       "    .dataframe tbody tr th:only-of-type {\n",
       "        vertical-align: middle;\n",
       "    }\n",
       "\n",
       "    .dataframe tbody tr th {\n",
       "        vertical-align: top;\n",
       "    }\n",
       "\n",
       "    .dataframe thead th {\n",
       "        text-align: right;\n",
       "    }\n",
       "</style>\n",
       "<table border=\"1\" class=\"dataframe\">\n",
       "  <thead>\n",
       "    <tr style=\"text-align: right;\">\n",
       "      <th></th>\n",
       "      <th>age</th>\n",
       "      <th>sex</th>\n",
       "      <th>on_thyroxine</th>\n",
       "      <th>query_on_thyroxine</th>\n",
       "      <th>on_antithyroid_medication</th>\n",
       "      <th>sick</th>\n",
       "      <th>pregnant</th>\n",
       "      <th>thyroid_surgery</th>\n",
       "      <th>I131_treatment</th>\n",
       "      <th>query_hypothyroid</th>\n",
       "      <th>...</th>\n",
       "      <th>tumor</th>\n",
       "      <th>hypopituitary</th>\n",
       "      <th>psych</th>\n",
       "      <th>TSH</th>\n",
       "      <th>T3</th>\n",
       "      <th>TT4</th>\n",
       "      <th>T4U</th>\n",
       "      <th>FTI</th>\n",
       "      <th>referral_source</th>\n",
       "      <th>class</th>\n",
       "    </tr>\n",
       "  </thead>\n",
       "  <tbody>\n",
       "    <tr>\n",
       "      <th>0</th>\n",
       "      <td>41.0</td>\n",
       "      <td>f</td>\n",
       "      <td>f</td>\n",
       "      <td>f</td>\n",
       "      <td>f</td>\n",
       "      <td>f</td>\n",
       "      <td>f</td>\n",
       "      <td>f</td>\n",
       "      <td>f</td>\n",
       "      <td>f</td>\n",
       "      <td>...</td>\n",
       "      <td>f</td>\n",
       "      <td>f</td>\n",
       "      <td>f</td>\n",
       "      <td>1.30</td>\n",
       "      <td>2.5</td>\n",
       "      <td>125.0</td>\n",
       "      <td>1.14</td>\n",
       "      <td>109.0</td>\n",
       "      <td>svhc</td>\n",
       "      <td>negative</td>\n",
       "    </tr>\n",
       "    <tr>\n",
       "      <th>1</th>\n",
       "      <td>23.0</td>\n",
       "      <td>f</td>\n",
       "      <td>f</td>\n",
       "      <td>f</td>\n",
       "      <td>f</td>\n",
       "      <td>f</td>\n",
       "      <td>f</td>\n",
       "      <td>f</td>\n",
       "      <td>f</td>\n",
       "      <td>f</td>\n",
       "      <td>...</td>\n",
       "      <td>f</td>\n",
       "      <td>f</td>\n",
       "      <td>f</td>\n",
       "      <td>4.10</td>\n",
       "      <td>2.0</td>\n",
       "      <td>102.0</td>\n",
       "      <td>0.00</td>\n",
       "      <td>0.0</td>\n",
       "      <td>other</td>\n",
       "      <td>negative</td>\n",
       "    </tr>\n",
       "    <tr>\n",
       "      <th>2</th>\n",
       "      <td>46.0</td>\n",
       "      <td>m</td>\n",
       "      <td>f</td>\n",
       "      <td>f</td>\n",
       "      <td>f</td>\n",
       "      <td>f</td>\n",
       "      <td>f</td>\n",
       "      <td>f</td>\n",
       "      <td>f</td>\n",
       "      <td>f</td>\n",
       "      <td>...</td>\n",
       "      <td>f</td>\n",
       "      <td>f</td>\n",
       "      <td>f</td>\n",
       "      <td>0.98</td>\n",
       "      <td>0.0</td>\n",
       "      <td>109.0</td>\n",
       "      <td>0.91</td>\n",
       "      <td>120.0</td>\n",
       "      <td>other</td>\n",
       "      <td>negative</td>\n",
       "    </tr>\n",
       "    <tr>\n",
       "      <th>3</th>\n",
       "      <td>70.0</td>\n",
       "      <td>f</td>\n",
       "      <td>t</td>\n",
       "      <td>f</td>\n",
       "      <td>f</td>\n",
       "      <td>f</td>\n",
       "      <td>f</td>\n",
       "      <td>f</td>\n",
       "      <td>f</td>\n",
       "      <td>f</td>\n",
       "      <td>...</td>\n",
       "      <td>f</td>\n",
       "      <td>f</td>\n",
       "      <td>f</td>\n",
       "      <td>0.16</td>\n",
       "      <td>1.9</td>\n",
       "      <td>175.0</td>\n",
       "      <td>0.00</td>\n",
       "      <td>0.0</td>\n",
       "      <td>other</td>\n",
       "      <td>negative</td>\n",
       "    </tr>\n",
       "    <tr>\n",
       "      <th>4</th>\n",
       "      <td>70.0</td>\n",
       "      <td>f</td>\n",
       "      <td>f</td>\n",
       "      <td>f</td>\n",
       "      <td>f</td>\n",
       "      <td>f</td>\n",
       "      <td>f</td>\n",
       "      <td>f</td>\n",
       "      <td>f</td>\n",
       "      <td>f</td>\n",
       "      <td>...</td>\n",
       "      <td>f</td>\n",
       "      <td>f</td>\n",
       "      <td>f</td>\n",
       "      <td>0.72</td>\n",
       "      <td>1.2</td>\n",
       "      <td>61.0</td>\n",
       "      <td>0.87</td>\n",
       "      <td>70.0</td>\n",
       "      <td>svi</td>\n",
       "      <td>negative</td>\n",
       "    </tr>\n",
       "  </tbody>\n",
       "</table>\n",
       "<p>5 rows × 23 columns</p>\n",
       "</div>"
      ],
      "text/plain": [
       "    age sex on_thyroxine query_on_thyroxine on_antithyroid_medication sick  \\\n",
       "0  41.0   f            f                  f                         f    f   \n",
       "1  23.0   f            f                  f                         f    f   \n",
       "2  46.0   m            f                  f                         f    f   \n",
       "3  70.0   f            t                  f                         f    f   \n",
       "4  70.0   f            f                  f                         f    f   \n",
       "\n",
       "  pregnant thyroid_surgery I131_treatment query_hypothyroid  ... tumor  \\\n",
       "0        f               f              f                 f  ...     f   \n",
       "1        f               f              f                 f  ...     f   \n",
       "2        f               f              f                 f  ...     f   \n",
       "3        f               f              f                 f  ...     f   \n",
       "4        f               f              f                 f  ...     f   \n",
       "\n",
       "  hypopituitary psych   TSH   T3    TT4   T4U    FTI  referral_source  \\\n",
       "0             f     f  1.30  2.5  125.0  1.14  109.0             svhc   \n",
       "1             f     f  4.10  2.0  102.0  0.00    0.0            other   \n",
       "2             f     f  0.98  0.0  109.0  0.91  120.0            other   \n",
       "3             f     f  0.16  1.9  175.0  0.00    0.0            other   \n",
       "4             f     f  0.72  1.2   61.0  0.87   70.0              svi   \n",
       "\n",
       "      class  \n",
       "0  negative  \n",
       "1  negative  \n",
       "2  negative  \n",
       "3  negative  \n",
       "4  negative  \n",
       "\n",
       "[5 rows x 23 columns]"
      ]
     },
     "execution_count": 41,
     "metadata": {},
     "output_type": "execute_result"
    }
   ],
   "source": [
    "df.head()"
   ]
  },
  {
   "cell_type": "code",
   "execution_count": 42,
   "metadata": {},
   "outputs": [
    {
     "data": {
      "text/plain": [
       "age                          float64\n",
       "sex                           object\n",
       "on_thyroxine                  object\n",
       "query_on_thyroxine            object\n",
       "on_antithyroid_medication     object\n",
       "sick                          object\n",
       "pregnant                      object\n",
       "thyroid_surgery               object\n",
       "I131_treatment                object\n",
       "query_hypothyroid             object\n",
       "query_hyperthyroid            object\n",
       "lithium                       object\n",
       "goitre                        object\n",
       "tumor                         object\n",
       "hypopituitary                 object\n",
       "psych                         object\n",
       "TSH                          float64\n",
       "T3                           float64\n",
       "TT4                          float64\n",
       "T4U                          float64\n",
       "FTI                          float64\n",
       "referral_source               object\n",
       "class                         object\n",
       "dtype: object"
      ]
     },
     "execution_count": 42,
     "metadata": {},
     "output_type": "execute_result"
    }
   ],
   "source": [
    "df.dtypes"
   ]
  },
  {
   "cell_type": "code",
   "execution_count": 43,
   "metadata": {},
   "outputs": [
    {
     "name": "stdout",
     "output_type": "stream",
     "text": [
      "Unique values in 'sex': ['f' 'm']\n",
      "Unique values in 'on_thyroxine': ['f' 't']\n",
      "Unique values in 'query_on_thyroxine': ['f' 't']\n",
      "Unique values in 'on_antithyroid_medication': ['f' 't']\n",
      "Unique values in 'sick': ['f' 't']\n",
      "Unique values in 'pregnant': ['f' 't']\n",
      "Unique values in 'thyroid_surgery': ['f' 't']\n",
      "Unique values in 'I131_treatment': ['f' 't']\n",
      "Unique values in 'query_hypothyroid': ['f' 't']\n",
      "Unique values in 'query_hyperthyroid': ['f' 't']\n",
      "Unique values in 'lithium': ['f' 't']\n",
      "Unique values in 'goitre': ['f' 't']\n",
      "Unique values in 'tumor': ['f' 't']\n",
      "Unique values in 'hypopituitary': ['f' 't']\n",
      "Unique values in 'psych': ['f' 't']\n",
      "Unique values in 'referral_source': ['svhc' 'other' 'svi' 'stmw' 'svhd' 'west']\n",
      "Unique values in 'class': ['negative' 'increased binding protein' 'decreased binding protein' 's'\n",
      " 'f' 'ak' 'r' 'i' 'm' 'n' 'g' 'k' 'a' 'kj' 'l' 'mk' 'q' 'j' 'c|i' 'o' 'lj'\n",
      " 'h|k' 'd' 'gk' 'mi' 'p' 'fk' 'b' 'gi' 'c' 'gkj' 'oi' 'd|r' 'e']\n"
     ]
    }
   ],
   "source": [
    "# Find categorical columns\n",
    "categorical_columns = df.select_dtypes(include=['object'])\n",
    "\n",
    "# Print unique values for each categorical column\n",
    "for column in categorical_columns:\n",
    "    unique_values = df[column].unique()\n",
    "    print(f\"Unique values in '{column}': {unique_values}\")"
   ]
  },
  {
   "cell_type": "markdown",
   "metadata": {},
   "source": [
    "here we do not see any null as unique value so, it means that our missing value is complete"
   ]
  },
  {
   "cell_type": "markdown",
   "metadata": {},
   "source": [
    "## Outliers detection and removal"
   ]
  },
  {
   "cell_type": "code",
   "execution_count": 44,
   "metadata": {},
   "outputs": [
    {
     "data": {
      "image/png": "[encoded data removed]",
      "text/plain": [
       "<Figure size 1000x1000 with 6 Axes>"
      ]
     },
     "metadata": {},
     "output_type": "display_data"
    }
   ],
   "source": [
    "#Boxplot to detect outlier\n",
    "numerical_col = df.select_dtypes(include=['float64'])\n",
    "\n",
    "fig,axes=plt.subplots(2,3,figsize=(10,10))\n",
    "\n",
    "for ax,col in zip(axes.flatten(),numerical_col.columns):\n",
    "    sns.boxplot(numerical_col[col],ax=ax)\n",
    "    ax.set_title(col)\n",
    "plt.tight_layout()\n",
    "plt.show()"
   ]
  },
  {
   "cell_type": "markdown",
   "metadata": {},
   "source": [
    "we can observe that \"AGE\" column have a very large outlier value we can replace these values"
   ]
  },
  {
   "cell_type": "code",
   "execution_count": 45,
   "metadata": {},
   "outputs": [],
   "source": [
    "# Calculate IQR for the 'age' column\n",
    "Q1 = df['age'].quantile(0.25)\n",
    "Q3 = df['age'].quantile(0.75)\n",
    "IQR = Q3 - Q1\n",
    "\n",
    "# Define the upper and lower bounds for outlier removal\n",
    "lower_bound = Q1 - 1.5 * IQR\n",
    "upper_bound = Q3 + 1.5 * IQR"
   ]
  },
  {
   "cell_type": "code",
   "execution_count": 46,
   "metadata": {},
   "outputs": [],
   "source": [
    "# Remove outliers from the 'age' column\n",
    "df = df[(df['age'] >= lower_bound) & (df['age'] <= upper_bound)]\n"
   ]
  },
  {
   "cell_type": "code",
   "execution_count": 47,
   "metadata": {},
   "outputs": [
    {
     "data": {
      "image/png": "[encoded data removed]",
      "text/plain": [
       "<Figure size 1000x1000 with 6 Axes>"
      ]
     },
     "metadata": {},
     "output_type": "display_data"
    }
   ],
   "source": [
    "#Boxplot to detect outlier\n",
    "numerical_col = df.select_dtypes(include=['float64'])\n",
    "\n",
    "fig,axes=plt.subplots(2,3,figsize=(10,10))\n",
    "\n",
    "for ax,col in zip(axes.flatten(),numerical_col.columns):\n",
    "    sns.boxplot(numerical_col[col],ax=ax)\n",
    "    ax.set_title(col)\n",
    "plt.tight_layout()\n",
    "plt.show()"
   ]
  },
  {
   "cell_type": "markdown",
   "metadata": {},
   "source": [
    "ok now we can observe that the age parameter is well distributed and free from outliers, originally we had 11972 now after removing outliers AGE we have 11967 data points, only 5 points removed: not a big loss.\n"
   ]
  },
  {
   "cell_type": "markdown",
   "metadata": {},
   "source": [
    "Lets check the distribution as well"
   ]
  },
  {
   "cell_type": "code",
   "execution_count": 48,
   "metadata": {},
   "outputs": [
    {
     "data": {
      "text/plain": [
       "(9947, 6)"
      ]
     },
     "execution_count": 48,
     "metadata": {},
     "output_type": "execute_result"
    }
   ],
   "source": [
    "numerical_col=df.select_dtypes(exclude=['object'])\n",
    "numerical_col.shape"
   ]
  },
  {
   "cell_type": "code",
   "execution_count": 49,
   "metadata": {},
   "outputs": [
    {
     "data": {
      "image/png": "[encoded data removed]",
      "text/plain": [
       "<Figure size 1000x500 with 6 Axes>"
      ]
     },
     "metadata": {},
     "output_type": "display_data"
    }
   ],
   "source": [
    "sns.set_palette(\"Set2\")\n",
    "fig,axes=plt.subplots(2,3,figsize=(10,5))\n",
    "for ax,column in zip(axes.flatten(),numerical_col.columns):\n",
    "    sns.histplot(data=df,x=column,ax=ax,kde=True)\n",
    "    ax.set_title(column, fontsize=12)\n",
    "plt.tight_layout()\n"
   ]
  },
  {
   "cell_type": "code",
   "execution_count": 46,
   "metadata": {},
   "outputs": [],
   "source": [
    "# numerical_columns = ['TSH', 'T3', 'TT4', 'T4U', 'FTI']\n",
    "# # Apply log transformation to the selected columns\n",
    "# transformed_data = df[numerical_columns].apply(np.log1p)\n",
    "\n",
    "\n",
    "# # Combine transformed data with the rest of the columns\n",
    "# data_frame_transformed = pd.concat([df.drop(columns=numerical_columns), transformed_data], axis=1)\n",
    "\n",
    "\n"
   ]
  },
  {
   "cell_type": "code",
   "execution_count": null,
   "metadata": {},
   "outputs": [],
   "source": [
    "# numerical_col = data_frame_transformed.select_dtypes(include=['float64'])\n",
    "# sns.set_palette(\"Set2\")\n",
    "# fig,axes=plt.subplots(2,3,figsize=(10,5))\n",
    "# for ax,column in zip(axes.flatten(),numerical_col.columns):\n",
    "#     sns.histplot(data=data_frame_transformed,x=column,ax=ax,kde=True)\n",
    "#     ax.set_title(column, fontsize=12)\n",
    "# plt.tight_layout()\n"
   ]
  },
  {
   "cell_type": "code",
   "execution_count": 50,
   "metadata": {},
   "outputs": [
    {
     "data": {
      "text/plain": [
       "(9947, 23)"
      ]
     },
     "execution_count": 50,
     "metadata": {},
     "output_type": "execute_result"
    }
   ],
   "source": [
    "df.shape"
   ]
  },
  {
   "cell_type": "markdown",
   "metadata": {},
   "source": [
    "now lets try to work with outliers on TSH columns, find out the %age of TSH points which are greater than 50 with whole datapoint"
   ]
  },
  {
   "cell_type": "code",
   "execution_count": 51,
   "metadata": {},
   "outputs": [
    {
     "data": {
      "text/html": [
       "<div>\n",
       "<style scoped>\n",
       "    .dataframe tbody tr th:only-of-type {\n",
       "        vertical-align: middle;\n",
       "    }\n",
       "\n",
       "    .dataframe tbody tr th {\n",
       "        vertical-align: top;\n",
       "    }\n",
       "\n",
       "    .dataframe thead th {\n",
       "        text-align: right;\n",
       "    }\n",
       "</style>\n",
       "<table border=\"1\" class=\"dataframe\">\n",
       "  <thead>\n",
       "    <tr style=\"text-align: right;\">\n",
       "      <th></th>\n",
       "      <th>class</th>\n",
       "      <th>TSH</th>\n",
       "    </tr>\n",
       "  </thead>\n",
       "  <tbody>\n",
       "    <tr>\n",
       "      <th>88</th>\n",
       "      <td>negative</td>\n",
       "      <td>160.0</td>\n",
       "    </tr>\n",
       "    <tr>\n",
       "      <th>116</th>\n",
       "      <td>negative</td>\n",
       "      <td>151.0</td>\n",
       "    </tr>\n",
       "    <tr>\n",
       "      <th>224</th>\n",
       "      <td>negative</td>\n",
       "      <td>143.0</td>\n",
       "    </tr>\n",
       "    <tr>\n",
       "      <th>259</th>\n",
       "      <td>negative</td>\n",
       "      <td>108.0</td>\n",
       "    </tr>\n",
       "    <tr>\n",
       "      <th>282</th>\n",
       "      <td>negative</td>\n",
       "      <td>86.0</td>\n",
       "    </tr>\n",
       "    <tr>\n",
       "      <th>...</th>\n",
       "      <td>...</td>\n",
       "      <td>...</td>\n",
       "    </tr>\n",
       "    <tr>\n",
       "      <th>11804</th>\n",
       "      <td>f</td>\n",
       "      <td>106.0</td>\n",
       "    </tr>\n",
       "    <tr>\n",
       "      <th>11845</th>\n",
       "      <td>g</td>\n",
       "      <td>85.0</td>\n",
       "    </tr>\n",
       "    <tr>\n",
       "      <th>11850</th>\n",
       "      <td>f</td>\n",
       "      <td>59.0</td>\n",
       "    </tr>\n",
       "    <tr>\n",
       "      <th>11865</th>\n",
       "      <td>f</td>\n",
       "      <td>78.0</td>\n",
       "    </tr>\n",
       "    <tr>\n",
       "      <th>11934</th>\n",
       "      <td>f</td>\n",
       "      <td>53.0</td>\n",
       "    </tr>\n",
       "  </tbody>\n",
       "</table>\n",
       "<p>189 rows × 2 columns</p>\n",
       "</div>"
      ],
      "text/plain": [
       "          class    TSH\n",
       "88     negative  160.0\n",
       "116    negative  151.0\n",
       "224    negative  143.0\n",
       "259    negative  108.0\n",
       "282    negative   86.0\n",
       "...         ...    ...\n",
       "11804         f  106.0\n",
       "11845         g   85.0\n",
       "11850         f   59.0\n",
       "11865         f   78.0\n",
       "11934         f   53.0\n",
       "\n",
       "[189 rows x 2 columns]"
      ]
     },
     "execution_count": 51,
     "metadata": {},
     "output_type": "execute_result"
    }
   ],
   "source": [
    "filtered_data = df[\n",
    "    (df['TSH'] > 50) \n",
    "]\n",
    "\n",
    "# Create a new DataFrame with only the selected class names\n",
    "new_data_frame = filtered_data[['class', 'TSH']]\n",
    "\n",
    "new_data_frame"
   ]
  },
  {
   "cell_type": "markdown",
   "metadata": {},
   "source": [
    "if keep ideal threshold like > 50 then we have got 189 rows, now let's try using z-score"
   ]
  },
  {
   "cell_type": "code",
   "execution_count": 52,
   "metadata": {},
   "outputs": [
    {
     "data": {
      "text/plain": [
       "1.9000703729767767"
      ]
     },
     "execution_count": 52,
     "metadata": {},
     "output_type": "execute_result"
    }
   ],
   "source": [
    "(new_data_frame.shape[0]/df.shape[0])*100"
   ]
  },
  {
   "cell_type": "markdown",
   "metadata": {},
   "source": [
    "number of outliers is nearly 1.5 of whole data, but lets do a z-score test and remove all the outliers that are above or below the 3 standard deviations"
   ]
  },
  {
   "cell_type": "code",
   "execution_count": 53,
   "metadata": {},
   "outputs": [
    {
     "name": "stdout",
     "output_type": "stream",
     "text": [
      "Outliers:\n",
      "        age sex on_thyroxine query_on_thyroxine on_antithyroid_medication  \\\n",
      "88     39.0   f            f                  f                         f   \n",
      "116    50.0   m            f                  f                         f   \n",
      "224    79.0   f            f                  f                         f   \n",
      "259    63.0   m            f                  f                         f   \n",
      "282    70.0   m            f                  f                         f   \n",
      "...     ...  ..          ...                ...                       ...   \n",
      "11165  32.0   f            t                  f                         f   \n",
      "11309  26.0   m            f                  f                         f   \n",
      "11666  19.0   f            f                  f                         f   \n",
      "11804  51.0   f            f                  f                         f   \n",
      "11845  66.0   f            f                  f                         f   \n",
      "\n",
      "      sick pregnant thyroid_surgery I131_treatment query_hypothyroid  ...  \\\n",
      "88       f        f               f              f                 f  ...   \n",
      "116      f        f               f              f                 f  ...   \n",
      "224      f        f               f              f                 f  ...   \n",
      "259      f        f               f              f                 f  ...   \n",
      "282      f        f               f              f                 f  ...   \n",
      "...    ...      ...             ...            ...               ...  ...   \n",
      "11165    f        f               f              f                 f  ...   \n",
      "11309    f        f               f              t                 f  ...   \n",
      "11666    f        f               f              f                 f  ...   \n",
      "11804    f        f               f              f                 f  ...   \n",
      "11845    f        f               f              f                 f  ...   \n",
      "\n",
      "      tumor hypopituitary psych    TSH   T3    TT4   T4U   FTI  \\\n",
      "88        f             f     f  160.0  0.4   11.0  1.24   8.9   \n",
      "116       f             f     f  151.0  1.0   32.0  1.16  28.0   \n",
      "224       f             f     f  143.0  0.7   73.0  1.01  72.0   \n",
      "259       f             f     f  108.0  0.4   14.0  0.98  14.0   \n",
      "282       f             f     f   86.0  0.5   27.0  0.84  32.0   \n",
      "...     ...           ...   ...    ...  ...    ...   ...   ...   \n",
      "11165     f             f     f  177.0  0.0   72.0  1.00  72.0   \n",
      "11309     f             f     f  198.0  0.0    5.0  0.95   5.5   \n",
      "11666     f             f     f  500.0  0.5    5.0  1.19   4.0   \n",
      "11804     f             f     f  106.0  0.6    5.0  0.89   5.5   \n",
      "11845     f             f     f   85.0  1.8  118.0  1.27  93.0   \n",
      "\n",
      "       referral_source     class  \n",
      "88               other  negative  \n",
      "116              other  negative  \n",
      "224              other  negative  \n",
      "259                svi  negative  \n",
      "282                svi  negative  \n",
      "...                ...       ...  \n",
      "11165            other         m  \n",
      "11309            other         f  \n",
      "11666            other         f  \n",
      "11804              svi         f  \n",
      "11845              svi         g  \n",
      "\n",
      "[123 rows x 23 columns]\n"
     ]
    }
   ],
   "source": [
    "# Calculate Z-scores for the 'TSH' column\n",
    "z_scores = np.abs((df['TSH'] - df['TSH'].mean()) / df['TSH'].std())\n",
    "\n",
    "# Define a threshold for identifying outliers (e.g., Z-score > 3)\n",
    "threshold = 3\n",
    "\n",
    "# Identify outliers\n",
    "outliers = df[z_scores > threshold]\n",
    "\n",
    "print(\"Outliers:\")\n",
    "print(outliers)"
   ]
  },
  {
   "cell_type": "markdown",
   "metadata": {},
   "source": [
    "observe that with z-score thresholds greater than 3 we have only 134 obserations removed, which much better than keeping hard thresholds"
   ]
  },
  {
   "cell_type": "code",
   "execution_count": 54,
   "metadata": {},
   "outputs": [
    {
     "data": {
      "text/plain": [
       "123"
      ]
     },
     "execution_count": 54,
     "metadata": {},
     "output_type": "execute_result"
    }
   ],
   "source": [
    "removal_count = 0\n",
    "removal_count += outliers.shape[0]\n",
    "removal_count"
   ]
  },
  {
   "cell_type": "code",
   "execution_count": 55,
   "metadata": {},
   "outputs": [
    {
     "data": {
      "text/plain": [
       "(9947, 23)"
      ]
     },
     "execution_count": 55,
     "metadata": {},
     "output_type": "execute_result"
    }
   ],
   "source": [
    "df1=df\n",
    "df1.shape"
   ]
  },
  {
   "cell_type": "code",
   "execution_count": null,
   "metadata": {},
   "outputs": [],
   "source": []
  },
  {
   "cell_type": "code",
   "execution_count": 68,
   "metadata": {},
   "outputs": [],
   "source": [
    "df = df1"
   ]
  },
  {
   "cell_type": "code",
   "execution_count": 56,
   "metadata": {},
   "outputs": [
    {
     "data": {
      "text/plain": [
       "(9947, 23)"
      ]
     },
     "execution_count": 56,
     "metadata": {},
     "output_type": "execute_result"
    }
   ],
   "source": [
    "df.shape"
   ]
  },
  {
   "cell_type": "code",
   "execution_count": 57,
   "metadata": {},
   "outputs": [
    {
     "name": "stdout",
     "output_type": "stream",
     "text": [
      "DataFrame without outliers:\n"
     ]
    }
   ],
   "source": [
    "# Select the numerical columns from the dataset\n",
    "numerical_cols = [ 'TT4','TSH', 'T3', 'T4U', 'FTI']\n",
    "\n",
    "# Define a threshold for identifying outliers (e.g., Z-score > 2)\n",
    "threshold = 3\n",
    "\n",
    "# Iterate over the columns and remove outliers\n",
    "non_outliers_data_frame = df.copy()  # Create a copy to store non-outliers\n",
    "for column in numerical_cols:\n",
    "    z_scores = np.abs((non_outliers_data_frame[column] - non_outliers_data_frame[column].mean()) / non_outliers_data_frame[column].std())\n",
    "    non_outliers_data_frame = non_outliers_data_frame[(z_scores <= threshold)]\n",
    "    #removal_count += non_outliers_data_frame.shape[0]\n",
    "\n",
    "print(\"DataFrame without outliers:\")\n",
    "#print(non_outliers_data_frame)\n"
   ]
  },
  {
   "cell_type": "code",
   "execution_count": 58,
   "metadata": {},
   "outputs": [
    {
     "data": {
      "text/plain": [
       "(9625, 23)"
      ]
     },
     "execution_count": 58,
     "metadata": {},
     "output_type": "execute_result"
    }
   ],
   "source": [
    "non_outliers_data_frame.shape"
   ]
  },
  {
   "cell_type": "code",
   "execution_count": 59,
   "metadata": {},
   "outputs": [],
   "source": [
    "data = non_outliers_data_frame"
   ]
  },
  {
   "cell_type": "code",
   "execution_count": 60,
   "metadata": {},
   "outputs": [
    {
     "data": {
      "image/png": "[encoded data removed]",
      "text/plain": [
       "<Figure size 1000x1000 with 6 Axes>"
      ]
     },
     "metadata": {},
     "output_type": "display_data"
    }
   ],
   "source": [
    "#Boxplot to detect outlier\n",
    "numerical_col = non_outliers_data_frame.select_dtypes(include=['float64'])\n",
    "\n",
    "fig,axes=plt.subplots(2,3,figsize=(10,10))\n",
    "\n",
    "for ax,col in zip(axes.flatten(),numerical_col.columns):\n",
    "    sns.boxplot(numerical_col[col],ax=ax)\n",
    "    ax.set_title(col)\n",
    "plt.tight_layout()\n",
    "plt.show()"
   ]
  },
  {
   "cell_type": "code",
   "execution_count": 61,
   "metadata": {},
   "outputs": [
    {
     "data": {
      "image/png": "[encoded data removed]",
      "text/plain": [
       "<Figure size 1000x500 with 6 Axes>"
      ]
     },
     "metadata": {},
     "output_type": "display_data"
    }
   ],
   "source": [
    "numerical_col = non_outliers_data_frame.select_dtypes(include=['float64'])\n",
    "sns.set_palette(\"Set2\")\n",
    "fig,axes=plt.subplots(2,3,figsize=(10,5))\n",
    "for ax,column in zip(axes.flatten(),numerical_col.columns):\n",
    "    sns.histplot(data=non_outliers_data_frame,x=column,ax=ax,kde=True)\n",
    "    ax.set_title(column, fontsize=12)\n",
    "plt.tight_layout()\n"
   ]
  },
  {
   "cell_type": "markdown",
   "metadata": {},
   "source": [
    "so we can observe that we have removed outliers and our distribution is looking much more gaussian, except that 0 which we have added erly on to replace NaNs"
   ]
  },
  {
   "cell_type": "code",
   "execution_count": 62,
   "metadata": {},
   "outputs": [
    {
     "data": {
      "text/plain": [
       "(9625, 23)"
      ]
     },
     "execution_count": 62,
     "metadata": {},
     "output_type": "execute_result"
    }
   ],
   "source": [
    "non_outliers_data_frame.shape"
   ]
  },
  {
   "cell_type": "code",
   "execution_count": 63,
   "metadata": {},
   "outputs": [
    {
     "data": {
      "text/plain": [
       "(9947, 23)"
      ]
     },
     "execution_count": 63,
     "metadata": {},
     "output_type": "execute_result"
    }
   ],
   "source": [
    "# data loss\n",
    "\n",
    "df.shape"
   ]
  },
  {
   "cell_type": "markdown",
   "metadata": {},
   "source": [
    "#### List the categorical and numerical columns"
   ]
  },
  {
   "cell_type": "code",
   "execution_count": 64,
   "metadata": {},
   "outputs": [],
   "source": [
    "data = non_outliers_data_frame\n"
   ]
  },
  {
   "cell_type": "code",
   "execution_count": 65,
   "metadata": {},
   "outputs": [
    {
     "name": "stdout",
     "output_type": "stream",
     "text": [
      "['age', 'TSH', 'T3', 'TT4', 'T4U', 'FTI']\n",
      "Unique values in 'sex': ['f' 'm']\n",
      "Unique values in 'on_thyroxine': ['f' 't']\n",
      "Unique values in 'query_on_thyroxine': ['f' 't']\n",
      "Unique values in 'on_antithyroid_medication': ['f' 't']\n",
      "Unique values in 'sick': ['f' 't']\n",
      "Unique values in 'pregnant': ['f' 't']\n",
      "Unique values in 'thyroid_surgery': ['f' 't']\n",
      "Unique values in 'I131_treatment': ['f' 't']\n",
      "Unique values in 'query_hypothyroid': ['f' 't']\n",
      "Unique values in 'query_hyperthyroid': ['f' 't']\n",
      "Unique values in 'lithium': ['f' 't']\n",
      "Unique values in 'goitre': ['f' 't']\n",
      "Unique values in 'tumor': ['f' 't']\n",
      "Unique values in 'hypopituitary': ['f' 't']\n",
      "Unique values in 'psych': ['f' 't']\n",
      "Unique values in 'referral_source': ['svhc' 'other' 'svi' 'stmw' 'svhd' 'west']\n",
      "Unique values in 'class': ['negative' 'increased binding protein' 'decreased binding protein' 's'\n",
      " 'f' 'ak' 'r' 'i' 'm' 'n' 'g' 'k' 'l' 'q' 'j' 'c|i' 'o' 'lj' 'h|k' 'gk'\n",
      " 'mi' 'a' 'kj' 'p' 'fk' 'b' 'mk' 'gi' 'c' 'gkj' 'oi' 'd|r' 'e']\n"
     ]
    }
   ],
   "source": [
    "\n",
    "\n",
    "# List of numerical columns\n",
    "numerical_columns = data.select_dtypes(include=['float64']).columns.tolist()\n",
    "\n",
    "# List of categorical columns\n",
    "categorical_columns = data.select_dtypes(exclude=['float64']).columns.tolist()\n",
    "print(numerical_columns)\n",
    "\n",
    "# Print unique values for each categorical column\n",
    "for column in categorical_columns:\n",
    "    unique_values = data[column].unique()\n",
    "    print(f\"Unique values in '{column}': {unique_values}\")\n"
   ]
  },
  {
   "cell_type": "markdown",
   "metadata": {},
   "source": [
    "#### Replace categoric values with numeric values"
   ]
  },
  {
   "cell_type": "code",
   "execution_count": 66,
   "metadata": {},
   "outputs": [],
   "source": [
    "# map sex column values to 0 and 1\n",
    "data['sex'] = data['sex'].map({'f': 0, 'm': 1})"
   ]
  },
  {
   "cell_type": "code",
   "execution_count": 67,
   "metadata": {},
   "outputs": [
    {
     "data": {
      "text/html": [
       "<div>\n",
       "<style scoped>\n",
       "    .dataframe tbody tr th:only-of-type {\n",
       "        vertical-align: middle;\n",
       "    }\n",
       "\n",
       "    .dataframe tbody tr th {\n",
       "        vertical-align: top;\n",
       "    }\n",
       "\n",
       "    .dataframe thead th {\n",
       "        text-align: right;\n",
       "    }\n",
       "</style>\n",
       "<table border=\"1\" class=\"dataframe\">\n",
       "  <thead>\n",
       "    <tr style=\"text-align: right;\">\n",
       "      <th></th>\n",
       "      <th>age</th>\n",
       "      <th>sex</th>\n",
       "      <th>on_thyroxine</th>\n",
       "      <th>query_on_thyroxine</th>\n",
       "      <th>on_antithyroid_medication</th>\n",
       "      <th>sick</th>\n",
       "      <th>pregnant</th>\n",
       "      <th>thyroid_surgery</th>\n",
       "      <th>I131_treatment</th>\n",
       "      <th>query_hypothyroid</th>\n",
       "      <th>...</th>\n",
       "      <th>tumor</th>\n",
       "      <th>hypopituitary</th>\n",
       "      <th>psych</th>\n",
       "      <th>TSH</th>\n",
       "      <th>T3</th>\n",
       "      <th>TT4</th>\n",
       "      <th>T4U</th>\n",
       "      <th>FTI</th>\n",
       "      <th>referral_source</th>\n",
       "      <th>class</th>\n",
       "    </tr>\n",
       "  </thead>\n",
       "  <tbody>\n",
       "    <tr>\n",
       "      <th>0</th>\n",
       "      <td>41.0</td>\n",
       "      <td>0</td>\n",
       "      <td>f</td>\n",
       "      <td>f</td>\n",
       "      <td>f</td>\n",
       "      <td>f</td>\n",
       "      <td>f</td>\n",
       "      <td>f</td>\n",
       "      <td>f</td>\n",
       "      <td>f</td>\n",
       "      <td>...</td>\n",
       "      <td>f</td>\n",
       "      <td>f</td>\n",
       "      <td>f</td>\n",
       "      <td>1.30</td>\n",
       "      <td>2.5</td>\n",
       "      <td>125.0</td>\n",
       "      <td>1.14</td>\n",
       "      <td>109.0</td>\n",
       "      <td>svhc</td>\n",
       "      <td>negative</td>\n",
       "    </tr>\n",
       "    <tr>\n",
       "      <th>1</th>\n",
       "      <td>23.0</td>\n",
       "      <td>0</td>\n",
       "      <td>f</td>\n",
       "      <td>f</td>\n",
       "      <td>f</td>\n",
       "      <td>f</td>\n",
       "      <td>f</td>\n",
       "      <td>f</td>\n",
       "      <td>f</td>\n",
       "      <td>f</td>\n",
       "      <td>...</td>\n",
       "      <td>f</td>\n",
       "      <td>f</td>\n",
       "      <td>f</td>\n",
       "      <td>4.10</td>\n",
       "      <td>2.0</td>\n",
       "      <td>102.0</td>\n",
       "      <td>0.00</td>\n",
       "      <td>0.0</td>\n",
       "      <td>other</td>\n",
       "      <td>negative</td>\n",
       "    </tr>\n",
       "    <tr>\n",
       "      <th>2</th>\n",
       "      <td>46.0</td>\n",
       "      <td>1</td>\n",
       "      <td>f</td>\n",
       "      <td>f</td>\n",
       "      <td>f</td>\n",
       "      <td>f</td>\n",
       "      <td>f</td>\n",
       "      <td>f</td>\n",
       "      <td>f</td>\n",
       "      <td>f</td>\n",
       "      <td>...</td>\n",
       "      <td>f</td>\n",
       "      <td>f</td>\n",
       "      <td>f</td>\n",
       "      <td>0.98</td>\n",
       "      <td>0.0</td>\n",
       "      <td>109.0</td>\n",
       "      <td>0.91</td>\n",
       "      <td>120.0</td>\n",
       "      <td>other</td>\n",
       "      <td>negative</td>\n",
       "    </tr>\n",
       "    <tr>\n",
       "      <th>3</th>\n",
       "      <td>70.0</td>\n",
       "      <td>0</td>\n",
       "      <td>t</td>\n",
       "      <td>f</td>\n",
       "      <td>f</td>\n",
       "      <td>f</td>\n",
       "      <td>f</td>\n",
       "      <td>f</td>\n",
       "      <td>f</td>\n",
       "      <td>f</td>\n",
       "      <td>...</td>\n",
       "      <td>f</td>\n",
       "      <td>f</td>\n",
       "      <td>f</td>\n",
       "      <td>0.16</td>\n",
       "      <td>1.9</td>\n",
       "      <td>175.0</td>\n",
       "      <td>0.00</td>\n",
       "      <td>0.0</td>\n",
       "      <td>other</td>\n",
       "      <td>negative</td>\n",
       "    </tr>\n",
       "    <tr>\n",
       "      <th>4</th>\n",
       "      <td>70.0</td>\n",
       "      <td>0</td>\n",
       "      <td>f</td>\n",
       "      <td>f</td>\n",
       "      <td>f</td>\n",
       "      <td>f</td>\n",
       "      <td>f</td>\n",
       "      <td>f</td>\n",
       "      <td>f</td>\n",
       "      <td>f</td>\n",
       "      <td>...</td>\n",
       "      <td>f</td>\n",
       "      <td>f</td>\n",
       "      <td>f</td>\n",
       "      <td>0.72</td>\n",
       "      <td>1.2</td>\n",
       "      <td>61.0</td>\n",
       "      <td>0.87</td>\n",
       "      <td>70.0</td>\n",
       "      <td>svi</td>\n",
       "      <td>negative</td>\n",
       "    </tr>\n",
       "  </tbody>\n",
       "</table>\n",
       "<p>5 rows × 23 columns</p>\n",
       "</div>"
      ],
      "text/plain": [
       "    age  sex on_thyroxine query_on_thyroxine on_antithyroid_medication sick  \\\n",
       "0  41.0    0            f                  f                         f    f   \n",
       "1  23.0    0            f                  f                         f    f   \n",
       "2  46.0    1            f                  f                         f    f   \n",
       "3  70.0    0            t                  f                         f    f   \n",
       "4  70.0    0            f                  f                         f    f   \n",
       "\n",
       "  pregnant thyroid_surgery I131_treatment query_hypothyroid  ... tumor  \\\n",
       "0        f               f              f                 f  ...     f   \n",
       "1        f               f              f                 f  ...     f   \n",
       "2        f               f              f                 f  ...     f   \n",
       "3        f               f              f                 f  ...     f   \n",
       "4        f               f              f                 f  ...     f   \n",
       "\n",
       "  hypopituitary psych   TSH   T3    TT4   T4U    FTI  referral_source  \\\n",
       "0             f     f  1.30  2.5  125.0  1.14  109.0             svhc   \n",
       "1             f     f  4.10  2.0  102.0  0.00    0.0            other   \n",
       "2             f     f  0.98  0.0  109.0  0.91  120.0            other   \n",
       "3             f     f  0.16  1.9  175.0  0.00    0.0            other   \n",
       "4             f     f  0.72  1.2   61.0  0.87   70.0              svi   \n",
       "\n",
       "      class  \n",
       "0  negative  \n",
       "1  negative  \n",
       "2  negative  \n",
       "3  negative  \n",
       "4  negative  \n",
       "\n",
       "[5 rows x 23 columns]"
      ]
     },
     "execution_count": 67,
     "metadata": {},
     "output_type": "execute_result"
    }
   ],
   "source": [
    "data.head()"
   ]
  },
  {
   "cell_type": "code",
   "execution_count": 68,
   "metadata": {},
   "outputs": [],
   "source": [
    "categorical_columns_to_convert = [\n",
    "    'on_thyroxine', 'query_on_thyroxine', 'on_antithyroid_medication',\n",
    "    'sick', 'pregnant', 'thyroid_surgery', 'I131_treatment',\n",
    "    'query_hypothyroid', 'query_hyperthyroid', 'lithium', 'goitre',\n",
    "    'tumor', 'hypopituitary', 'psych'\n",
    "]"
   ]
  },
  {
   "cell_type": "code",
   "execution_count": 69,
   "metadata": {},
   "outputs": [],
   "source": [
    "# map all othere categorical function to 0 and 1\n",
    "for column in categorical_columns_to_convert:\n",
    "    if len(data[column].unique()) == 2:\n",
    "       data[column] = data[column].map({'f': 0, 't': 1})"
   ]
  },
  {
   "cell_type": "code",
   "execution_count": 70,
   "metadata": {},
   "outputs": [],
   "source": [
    "data = pd.get_dummies(data, columns=['referral_source'], drop_first = True)"
   ]
  },
  {
   "cell_type": "code",
   "execution_count": 71,
   "metadata": {},
   "outputs": [
    {
     "data": {
      "text/html": [
       "<div>\n",
       "<style scoped>\n",
       "    .dataframe tbody tr th:only-of-type {\n",
       "        vertical-align: middle;\n",
       "    }\n",
       "\n",
       "    .dataframe tbody tr th {\n",
       "        vertical-align: top;\n",
       "    }\n",
       "\n",
       "    .dataframe thead th {\n",
       "        text-align: right;\n",
       "    }\n",
       "</style>\n",
       "<table border=\"1\" class=\"dataframe\">\n",
       "  <thead>\n",
       "    <tr style=\"text-align: right;\">\n",
       "      <th></th>\n",
       "      <th>age</th>\n",
       "      <th>sex</th>\n",
       "      <th>on_thyroxine</th>\n",
       "      <th>query_on_thyroxine</th>\n",
       "      <th>on_antithyroid_medication</th>\n",
       "      <th>sick</th>\n",
       "      <th>pregnant</th>\n",
       "      <th>thyroid_surgery</th>\n",
       "      <th>I131_treatment</th>\n",
       "      <th>query_hypothyroid</th>\n",
       "      <th>...</th>\n",
       "      <th>T3</th>\n",
       "      <th>TT4</th>\n",
       "      <th>T4U</th>\n",
       "      <th>FTI</th>\n",
       "      <th>class</th>\n",
       "      <th>referral_source_stmw</th>\n",
       "      <th>referral_source_svhc</th>\n",
       "      <th>referral_source_svhd</th>\n",
       "      <th>referral_source_svi</th>\n",
       "      <th>referral_source_west</th>\n",
       "    </tr>\n",
       "  </thead>\n",
       "  <tbody>\n",
       "    <tr>\n",
       "      <th>0</th>\n",
       "      <td>41.0</td>\n",
       "      <td>0</td>\n",
       "      <td>0</td>\n",
       "      <td>0</td>\n",
       "      <td>0</td>\n",
       "      <td>0</td>\n",
       "      <td>0</td>\n",
       "      <td>0</td>\n",
       "      <td>0</td>\n",
       "      <td>0</td>\n",
       "      <td>...</td>\n",
       "      <td>2.5</td>\n",
       "      <td>125.0</td>\n",
       "      <td>1.14</td>\n",
       "      <td>109.0</td>\n",
       "      <td>negative</td>\n",
       "      <td>False</td>\n",
       "      <td>True</td>\n",
       "      <td>False</td>\n",
       "      <td>False</td>\n",
       "      <td>False</td>\n",
       "    </tr>\n",
       "    <tr>\n",
       "      <th>1</th>\n",
       "      <td>23.0</td>\n",
       "      <td>0</td>\n",
       "      <td>0</td>\n",
       "      <td>0</td>\n",
       "      <td>0</td>\n",
       "      <td>0</td>\n",
       "      <td>0</td>\n",
       "      <td>0</td>\n",
       "      <td>0</td>\n",
       "      <td>0</td>\n",
       "      <td>...</td>\n",
       "      <td>2.0</td>\n",
       "      <td>102.0</td>\n",
       "      <td>0.00</td>\n",
       "      <td>0.0</td>\n",
       "      <td>negative</td>\n",
       "      <td>False</td>\n",
       "      <td>False</td>\n",
       "      <td>False</td>\n",
       "      <td>False</td>\n",
       "      <td>False</td>\n",
       "    </tr>\n",
       "    <tr>\n",
       "      <th>2</th>\n",
       "      <td>46.0</td>\n",
       "      <td>1</td>\n",
       "      <td>0</td>\n",
       "      <td>0</td>\n",
       "      <td>0</td>\n",
       "      <td>0</td>\n",
       "      <td>0</td>\n",
       "      <td>0</td>\n",
       "      <td>0</td>\n",
       "      <td>0</td>\n",
       "      <td>...</td>\n",
       "      <td>0.0</td>\n",
       "      <td>109.0</td>\n",
       "      <td>0.91</td>\n",
       "      <td>120.0</td>\n",
       "      <td>negative</td>\n",
       "      <td>False</td>\n",
       "      <td>False</td>\n",
       "      <td>False</td>\n",
       "      <td>False</td>\n",
       "      <td>False</td>\n",
       "    </tr>\n",
       "    <tr>\n",
       "      <th>3</th>\n",
       "      <td>70.0</td>\n",
       "      <td>0</td>\n",
       "      <td>1</td>\n",
       "      <td>0</td>\n",
       "      <td>0</td>\n",
       "      <td>0</td>\n",
       "      <td>0</td>\n",
       "      <td>0</td>\n",
       "      <td>0</td>\n",
       "      <td>0</td>\n",
       "      <td>...</td>\n",
       "      <td>1.9</td>\n",
       "      <td>175.0</td>\n",
       "      <td>0.00</td>\n",
       "      <td>0.0</td>\n",
       "      <td>negative</td>\n",
       "      <td>False</td>\n",
       "      <td>False</td>\n",
       "      <td>False</td>\n",
       "      <td>False</td>\n",
       "      <td>False</td>\n",
       "    </tr>\n",
       "    <tr>\n",
       "      <th>4</th>\n",
       "      <td>70.0</td>\n",
       "      <td>0</td>\n",
       "      <td>0</td>\n",
       "      <td>0</td>\n",
       "      <td>0</td>\n",
       "      <td>0</td>\n",
       "      <td>0</td>\n",
       "      <td>0</td>\n",
       "      <td>0</td>\n",
       "      <td>0</td>\n",
       "      <td>...</td>\n",
       "      <td>1.2</td>\n",
       "      <td>61.0</td>\n",
       "      <td>0.87</td>\n",
       "      <td>70.0</td>\n",
       "      <td>negative</td>\n",
       "      <td>False</td>\n",
       "      <td>False</td>\n",
       "      <td>False</td>\n",
       "      <td>True</td>\n",
       "      <td>False</td>\n",
       "    </tr>\n",
       "    <tr>\n",
       "      <th>...</th>\n",
       "      <td>...</td>\n",
       "      <td>...</td>\n",
       "      <td>...</td>\n",
       "      <td>...</td>\n",
       "      <td>...</td>\n",
       "      <td>...</td>\n",
       "      <td>...</td>\n",
       "      <td>...</td>\n",
       "      <td>...</td>\n",
       "      <td>...</td>\n",
       "      <td>...</td>\n",
       "      <td>...</td>\n",
       "      <td>...</td>\n",
       "      <td>...</td>\n",
       "      <td>...</td>\n",
       "      <td>...</td>\n",
       "      <td>...</td>\n",
       "      <td>...</td>\n",
       "      <td>...</td>\n",
       "      <td>...</td>\n",
       "      <td>...</td>\n",
       "    </tr>\n",
       "    <tr>\n",
       "      <th>97</th>\n",
       "      <td>39.0</td>\n",
       "      <td>0</td>\n",
       "      <td>0</td>\n",
       "      <td>0</td>\n",
       "      <td>1</td>\n",
       "      <td>0</td>\n",
       "      <td>0</td>\n",
       "      <td>0</td>\n",
       "      <td>0</td>\n",
       "      <td>0</td>\n",
       "      <td>...</td>\n",
       "      <td>2.4</td>\n",
       "      <td>135.0</td>\n",
       "      <td>1.51</td>\n",
       "      <td>89.0</td>\n",
       "      <td>negative</td>\n",
       "      <td>False</td>\n",
       "      <td>False</td>\n",
       "      <td>False</td>\n",
       "      <td>False</td>\n",
       "      <td>False</td>\n",
       "    </tr>\n",
       "    <tr>\n",
       "      <th>98</th>\n",
       "      <td>69.0</td>\n",
       "      <td>0</td>\n",
       "      <td>0</td>\n",
       "      <td>0</td>\n",
       "      <td>0</td>\n",
       "      <td>0</td>\n",
       "      <td>0</td>\n",
       "      <td>0</td>\n",
       "      <td>0</td>\n",
       "      <td>0</td>\n",
       "      <td>...</td>\n",
       "      <td>0.0</td>\n",
       "      <td>123.0</td>\n",
       "      <td>0.91</td>\n",
       "      <td>136.0</td>\n",
       "      <td>negative</td>\n",
       "      <td>False</td>\n",
       "      <td>False</td>\n",
       "      <td>False</td>\n",
       "      <td>True</td>\n",
       "      <td>False</td>\n",
       "    </tr>\n",
       "    <tr>\n",
       "      <th>99</th>\n",
       "      <td>48.0</td>\n",
       "      <td>0</td>\n",
       "      <td>0</td>\n",
       "      <td>0</td>\n",
       "      <td>0</td>\n",
       "      <td>0</td>\n",
       "      <td>0</td>\n",
       "      <td>0</td>\n",
       "      <td>0</td>\n",
       "      <td>0</td>\n",
       "      <td>...</td>\n",
       "      <td>1.6</td>\n",
       "      <td>86.0</td>\n",
       "      <td>0.93</td>\n",
       "      <td>92.0</td>\n",
       "      <td>negative</td>\n",
       "      <td>False</td>\n",
       "      <td>False</td>\n",
       "      <td>False</td>\n",
       "      <td>True</td>\n",
       "      <td>False</td>\n",
       "    </tr>\n",
       "    <tr>\n",
       "      <th>100</th>\n",
       "      <td>28.0</td>\n",
       "      <td>0</td>\n",
       "      <td>0</td>\n",
       "      <td>0</td>\n",
       "      <td>0</td>\n",
       "      <td>0</td>\n",
       "      <td>0</td>\n",
       "      <td>0</td>\n",
       "      <td>0</td>\n",
       "      <td>0</td>\n",
       "      <td>...</td>\n",
       "      <td>1.4</td>\n",
       "      <td>120.0</td>\n",
       "      <td>0.82</td>\n",
       "      <td>146.0</td>\n",
       "      <td>negative</td>\n",
       "      <td>False</td>\n",
       "      <td>False</td>\n",
       "      <td>False</td>\n",
       "      <td>True</td>\n",
       "      <td>False</td>\n",
       "    </tr>\n",
       "    <tr>\n",
       "      <th>101</th>\n",
       "      <td>62.0</td>\n",
       "      <td>1</td>\n",
       "      <td>0</td>\n",
       "      <td>0</td>\n",
       "      <td>0</td>\n",
       "      <td>1</td>\n",
       "      <td>0</td>\n",
       "      <td>0</td>\n",
       "      <td>0</td>\n",
       "      <td>0</td>\n",
       "      <td>...</td>\n",
       "      <td>1.5</td>\n",
       "      <td>105.0</td>\n",
       "      <td>0.86</td>\n",
       "      <td>122.0</td>\n",
       "      <td>negative</td>\n",
       "      <td>False</td>\n",
       "      <td>False</td>\n",
       "      <td>False</td>\n",
       "      <td>False</td>\n",
       "      <td>False</td>\n",
       "    </tr>\n",
       "  </tbody>\n",
       "</table>\n",
       "<p>100 rows × 27 columns</p>\n",
       "</div>"
      ],
      "text/plain": [
       "      age  sex  on_thyroxine  query_on_thyroxine  on_antithyroid_medication  \\\n",
       "0    41.0    0             0                   0                          0   \n",
       "1    23.0    0             0                   0                          0   \n",
       "2    46.0    1             0                   0                          0   \n",
       "3    70.0    0             1                   0                          0   \n",
       "4    70.0    0             0                   0                          0   \n",
       "..    ...  ...           ...                 ...                        ...   \n",
       "97   39.0    0             0                   0                          1   \n",
       "98   69.0    0             0                   0                          0   \n",
       "99   48.0    0             0                   0                          0   \n",
       "100  28.0    0             0                   0                          0   \n",
       "101  62.0    1             0                   0                          0   \n",
       "\n",
       "     sick  pregnant  thyroid_surgery  I131_treatment  query_hypothyroid  ...  \\\n",
       "0       0         0                0               0                  0  ...   \n",
       "1       0         0                0               0                  0  ...   \n",
       "2       0         0                0               0                  0  ...   \n",
       "3       0         0                0               0                  0  ...   \n",
       "4       0         0                0               0                  0  ...   \n",
       "..    ...       ...              ...             ...                ...  ...   \n",
       "97      0         0                0               0                  0  ...   \n",
       "98      0         0                0               0                  0  ...   \n",
       "99      0         0                0               0                  0  ...   \n",
       "100     0         0                0               0                  0  ...   \n",
       "101     1         0                0               0                  0  ...   \n",
       "\n",
       "      T3    TT4   T4U    FTI     class  referral_source_stmw  \\\n",
       "0    2.5  125.0  1.14  109.0  negative                 False   \n",
       "1    2.0  102.0  0.00    0.0  negative                 False   \n",
       "2    0.0  109.0  0.91  120.0  negative                 False   \n",
       "3    1.9  175.0  0.00    0.0  negative                 False   \n",
       "4    1.2   61.0  0.87   70.0  negative                 False   \n",
       "..   ...    ...   ...    ...       ...                   ...   \n",
       "97   2.4  135.0  1.51   89.0  negative                 False   \n",
       "98   0.0  123.0  0.91  136.0  negative                 False   \n",
       "99   1.6   86.0  0.93   92.0  negative                 False   \n",
       "100  1.4  120.0  0.82  146.0  negative                 False   \n",
       "101  1.5  105.0  0.86  122.0  negative                 False   \n",
       "\n",
       "     referral_source_svhc  referral_source_svhd  referral_source_svi  \\\n",
       "0                    True                 False                False   \n",
       "1                   False                 False                False   \n",
       "2                   False                 False                False   \n",
       "3                   False                 False                False   \n",
       "4                   False                 False                 True   \n",
       "..                    ...                   ...                  ...   \n",
       "97                  False                 False                False   \n",
       "98                  False                 False                 True   \n",
       "99                  False                 False                 True   \n",
       "100                 False                 False                 True   \n",
       "101                 False                 False                False   \n",
       "\n",
       "     referral_source_west  \n",
       "0                   False  \n",
       "1                   False  \n",
       "2                   False  \n",
       "3                   False  \n",
       "4                   False  \n",
       "..                    ...  \n",
       "97                  False  \n",
       "98                  False  \n",
       "99                  False  \n",
       "100                 False  \n",
       "101                 False  \n",
       "\n",
       "[100 rows x 27 columns]"
      ]
     },
     "execution_count": 71,
     "metadata": {},
     "output_type": "execute_result"
    }
   ],
   "source": [
    "data.head(100)"
   ]
  },
  {
   "cell_type": "markdown",
   "metadata": {},
   "source": [
    "#### Class encoding"
   ]
  },
  {
   "cell_type": "code",
   "execution_count": null,
   "metadata": {},
   "outputs": [],
   "source": [
    "['negative' 'increased binding protein' 'decreased binding protein' 's'\n",
    " 'f' 'ak' 'r' 'i' 'm' 'n' 'g' 'k' 'a' 'kj' 'l' 'mk' 'q' 'j' 'c|i' 'o' 'lj'\n",
    " 'h|k' 'd' 'gk' 'mi' 'p' 'fk' 'b' 'gi' 'c' 'gkj' 'oi' 'd|r' 'e']\n",
    "\n",
    " ['negative' 'increased binding protein' 'decreased binding protein' 's'\n",
    " 'f' 'ak' 'r' 'i' 'm' 'n' 'g' 'k' 'l' 'q' 'j' 'c|i' 'o' 'lj' 'h|k' 'gk'\n",
    " 'mi' 'a' 'kj' 'p' 'fk' 'b' 'mk' 'gi' 'c' 'gkj' 'oi' 'd|r' 'e']"
   ]
  },
  {
   "cell_type": "code",
   "execution_count": 72,
   "metadata": {},
   "outputs": [],
   "source": [
    "# Create a dictionary to map original classes to categories\n",
    "class_to_category = {\n",
    "    'negative': 'general health',\n",
    "    'increased binding protein': 'binding protein',\n",
    "    'decreased binding protein': 'binding protein',\n",
    "    's': 'hyperthyroid conditions',\n",
    "    'a': 'hyperthyroid conditions',\n",
    "    'ak': 'hyperthyroid conditions',\n",
    "    'b': 'hyperthyroid conditions',\n",
    "    'c': 'hyperthyroid conditions',\n",
    "    'c|i': 'hyperthyroid conditions',\n",
    "    'd': 'hyperthyroid conditions',\n",
    "    'd|r': 'hyperthyroid conditions',\n",
    "    'e': 'hypothyroid conditions',\n",
    "    'f': 'hypothyroid conditions',\n",
    "    'fk': 'hypothyroid conditions',\n",
    "    'g': 'hypothyroid conditions',\n",
    "    'gk': 'hypothyroid conditions',\n",
    "    'gi': 'hypothyroid conditions',\n",
    "    'gkj': 'hypothyroid conditions',\n",
    "    'h|k': 'hypothyroid conditions',\n",
    "    'i': 'binding protein',\n",
    "    'j': 'binding protein',\n",
    "    'k': 'general health',\n",
    "    'kj': 'general health',\n",
    "    'l': 'replacement therapy',\n",
    "    'lj': 'replacement therapy',\n",
    "    'm': 'replacement therapy',\n",
    "    'mk': 'replacement therapy',\n",
    "    'mi': 'replacement therapy',\n",
    "    'n': 'replacement therapy',\n",
    "    'o': 'antithyroid treatment',\n",
    "    'oi': 'antithyroid treatment',\n",
    "    'p': 'antithyroid treatment',\n",
    "    'q': 'antithyroid treatment',\n",
    "    'r': 'miscellaneous',\n",
    "    's': 'miscellaneous',\n",
    "    't': 'miscellaneous'\n",
    "}\n",
    "\n",
    "# Map original classes to categories using the dictionary\n",
    "data['class'] = data['class'].map(class_to_category)"
   ]
  },
  {
   "cell_type": "code",
   "execution_count": 73,
   "metadata": {},
   "outputs": [
    {
     "data": {
      "text/plain": [
       "array(['general health', 'binding protein', 'miscellaneous',\n",
       "       'hypothyroid conditions', 'hyperthyroid conditions',\n",
       "       'replacement therapy', 'antithyroid treatment'], dtype=object)"
      ]
     },
     "execution_count": 73,
     "metadata": {},
     "output_type": "execute_result"
    }
   ],
   "source": [
    "data['class'].unique()"
   ]
  },
  {
   "cell_type": "code",
   "execution_count": 74,
   "metadata": {},
   "outputs": [
    {
     "data": {
      "image/png": "[encoded data removed]",
      "text/plain": [
       "<Figure size 640x480 with 1 Axes>"
      ]
     },
     "metadata": {},
     "output_type": "display_data"
    }
   ],
   "source": [
    "sns.set_palette(\"Set2\")\n",
    "sns.countplot(data=data,x=data['class'])\n",
    "plt.xlabel('class')\n",
    "plt.ylabel('count')\n",
    "plt.title('count of classes')\n",
    "\n",
    "plt.xticks(rotation=30)\n",
    "plt.tight_layout()\n",
    "plt.show()"
   ]
  },
  {
   "cell_type": "markdown",
   "metadata": {},
   "source": [
    "we can observe that the data is highly imbalanced and other classes are very less"
   ]
  },
  {
   "cell_type": "code",
   "execution_count": 75,
   "metadata": {},
   "outputs": [],
   "source": [
    "class_counts = data['class'].value_counts()"
   ]
  },
  {
   "cell_type": "code",
   "execution_count": 76,
   "metadata": {},
   "outputs": [],
   "source": [
    "class_counts_df = class_counts.reset_index()\n",
    "class_counts_df.columns = ['class', 'count']"
   ]
  },
  {
   "cell_type": "code",
   "execution_count": 77,
   "metadata": {},
   "outputs": [
    {
     "data": {
      "text/html": [
       "<div>\n",
       "<style scoped>\n",
       "    .dataframe tbody tr th:only-of-type {\n",
       "        vertical-align: middle;\n",
       "    }\n",
       "\n",
       "    .dataframe tbody tr th {\n",
       "        vertical-align: top;\n",
       "    }\n",
       "\n",
       "    .dataframe thead th {\n",
       "        text-align: right;\n",
       "    }\n",
       "</style>\n",
       "<table border=\"1\" class=\"dataframe\">\n",
       "  <thead>\n",
       "    <tr style=\"text-align: right;\">\n",
       "      <th></th>\n",
       "      <th>class</th>\n",
       "      <th>count</th>\n",
       "    </tr>\n",
       "  </thead>\n",
       "  <tbody>\n",
       "    <tr>\n",
       "      <th>0</th>\n",
       "      <td>general health</td>\n",
       "      <td>7793</td>\n",
       "    </tr>\n",
       "    <tr>\n",
       "      <th>1</th>\n",
       "      <td>hypothyroid conditions</td>\n",
       "      <td>578</td>\n",
       "    </tr>\n",
       "    <tr>\n",
       "      <th>2</th>\n",
       "      <td>binding protein</td>\n",
       "      <td>464</td>\n",
       "    </tr>\n",
       "    <tr>\n",
       "      <th>3</th>\n",
       "      <td>replacement therapy</td>\n",
       "      <td>333</td>\n",
       "    </tr>\n",
       "    <tr>\n",
       "      <th>4</th>\n",
       "      <td>miscellaneous</td>\n",
       "      <td>267</td>\n",
       "    </tr>\n",
       "    <tr>\n",
       "      <th>5</th>\n",
       "      <td>hyperthyroid conditions</td>\n",
       "      <td>157</td>\n",
       "    </tr>\n",
       "    <tr>\n",
       "      <th>6</th>\n",
       "      <td>antithyroid treatment</td>\n",
       "      <td>33</td>\n",
       "    </tr>\n",
       "  </tbody>\n",
       "</table>\n",
       "</div>"
      ],
      "text/plain": [
       "                     class  count\n",
       "0           general health   7793\n",
       "1   hypothyroid conditions    578\n",
       "2          binding protein    464\n",
       "3      replacement therapy    333\n",
       "4            miscellaneous    267\n",
       "5  hyperthyroid conditions    157\n",
       "6    antithyroid treatment     33"
      ]
     },
     "execution_count": 77,
     "metadata": {},
     "output_type": "execute_result"
    }
   ],
   "source": [
    "class_counts_df "
   ]
  },
  {
   "cell_type": "markdown",
   "metadata": {},
   "source": [
    "check for duplicate data in the data frame"
   ]
  },
  {
   "cell_type": "code",
   "execution_count": 78,
   "metadata": {},
   "outputs": [
    {
     "data": {
      "text/plain": [
       "412"
      ]
     },
     "execution_count": 78,
     "metadata": {},
     "output_type": "execute_result"
    }
   ],
   "source": [
    "data.duplicated().sum()\n",
    "#There are 10 duplicated value"
   ]
  },
  {
   "cell_type": "code",
   "execution_count": 79,
   "metadata": {},
   "outputs": [],
   "source": [
    "# Check for duplicate rows\n",
    "duplicate_rows = data[data.duplicated()]"
   ]
  },
  {
   "cell_type": "code",
   "execution_count": 80,
   "metadata": {},
   "outputs": [
    {
     "name": "stdout",
     "output_type": "stream",
     "text": [
      "Duplicate Rows:\n"
     ]
    },
    {
     "data": {
      "text/html": [
       "<div>\n",
       "<style scoped>\n",
       "    .dataframe tbody tr th:only-of-type {\n",
       "        vertical-align: middle;\n",
       "    }\n",
       "\n",
       "    .dataframe tbody tr th {\n",
       "        vertical-align: top;\n",
       "    }\n",
       "\n",
       "    .dataframe thead th {\n",
       "        text-align: right;\n",
       "    }\n",
       "</style>\n",
       "<table border=\"1\" class=\"dataframe\">\n",
       "  <thead>\n",
       "    <tr style=\"text-align: right;\">\n",
       "      <th></th>\n",
       "      <th>age</th>\n",
       "      <th>sex</th>\n",
       "      <th>on_thyroxine</th>\n",
       "      <th>query_on_thyroxine</th>\n",
       "      <th>on_antithyroid_medication</th>\n",
       "      <th>sick</th>\n",
       "      <th>pregnant</th>\n",
       "      <th>thyroid_surgery</th>\n",
       "      <th>I131_treatment</th>\n",
       "      <th>query_hypothyroid</th>\n",
       "      <th>...</th>\n",
       "      <th>T3</th>\n",
       "      <th>TT4</th>\n",
       "      <th>T4U</th>\n",
       "      <th>FTI</th>\n",
       "      <th>class</th>\n",
       "      <th>referral_source_stmw</th>\n",
       "      <th>referral_source_svhc</th>\n",
       "      <th>referral_source_svhd</th>\n",
       "      <th>referral_source_svi</th>\n",
       "      <th>referral_source_west</th>\n",
       "    </tr>\n",
       "  </thead>\n",
       "  <tbody>\n",
       "    <tr>\n",
       "      <th>685</th>\n",
       "      <td>63.0</td>\n",
       "      <td>0</td>\n",
       "      <td>0</td>\n",
       "      <td>0</td>\n",
       "      <td>0</td>\n",
       "      <td>0</td>\n",
       "      <td>0</td>\n",
       "      <td>0</td>\n",
       "      <td>0</td>\n",
       "      <td>0</td>\n",
       "      <td>...</td>\n",
       "      <td>0.0</td>\n",
       "      <td>0.0</td>\n",
       "      <td>0.0</td>\n",
       "      <td>0.0</td>\n",
       "      <td>general health</td>\n",
       "      <td>False</td>\n",
       "      <td>False</td>\n",
       "      <td>False</td>\n",
       "      <td>False</td>\n",
       "      <td>False</td>\n",
       "    </tr>\n",
       "    <tr>\n",
       "      <th>2145</th>\n",
       "      <td>56.0</td>\n",
       "      <td>0</td>\n",
       "      <td>0</td>\n",
       "      <td>0</td>\n",
       "      <td>0</td>\n",
       "      <td>0</td>\n",
       "      <td>0</td>\n",
       "      <td>0</td>\n",
       "      <td>0</td>\n",
       "      <td>0</td>\n",
       "      <td>...</td>\n",
       "      <td>0.0</td>\n",
       "      <td>0.0</td>\n",
       "      <td>0.0</td>\n",
       "      <td>0.0</td>\n",
       "      <td>general health</td>\n",
       "      <td>False</td>\n",
       "      <td>False</td>\n",
       "      <td>False</td>\n",
       "      <td>False</td>\n",
       "      <td>False</td>\n",
       "    </tr>\n",
       "    <tr>\n",
       "      <th>3223</th>\n",
       "      <td>62.0</td>\n",
       "      <td>0</td>\n",
       "      <td>0</td>\n",
       "      <td>0</td>\n",
       "      <td>0</td>\n",
       "      <td>0</td>\n",
       "      <td>0</td>\n",
       "      <td>0</td>\n",
       "      <td>0</td>\n",
       "      <td>0</td>\n",
       "      <td>...</td>\n",
       "      <td>0.0</td>\n",
       "      <td>0.0</td>\n",
       "      <td>0.0</td>\n",
       "      <td>0.0</td>\n",
       "      <td>general health</td>\n",
       "      <td>False</td>\n",
       "      <td>False</td>\n",
       "      <td>False</td>\n",
       "      <td>False</td>\n",
       "      <td>False</td>\n",
       "    </tr>\n",
       "    <tr>\n",
       "      <th>3282</th>\n",
       "      <td>24.0</td>\n",
       "      <td>0</td>\n",
       "      <td>0</td>\n",
       "      <td>0</td>\n",
       "      <td>0</td>\n",
       "      <td>0</td>\n",
       "      <td>0</td>\n",
       "      <td>0</td>\n",
       "      <td>0</td>\n",
       "      <td>0</td>\n",
       "      <td>...</td>\n",
       "      <td>0.0</td>\n",
       "      <td>0.0</td>\n",
       "      <td>0.0</td>\n",
       "      <td>0.0</td>\n",
       "      <td>general health</td>\n",
       "      <td>False</td>\n",
       "      <td>False</td>\n",
       "      <td>False</td>\n",
       "      <td>False</td>\n",
       "      <td>False</td>\n",
       "    </tr>\n",
       "    <tr>\n",
       "      <th>3283</th>\n",
       "      <td>23.0</td>\n",
       "      <td>0</td>\n",
       "      <td>0</td>\n",
       "      <td>0</td>\n",
       "      <td>0</td>\n",
       "      <td>0</td>\n",
       "      <td>0</td>\n",
       "      <td>0</td>\n",
       "      <td>0</td>\n",
       "      <td>0</td>\n",
       "      <td>...</td>\n",
       "      <td>0.0</td>\n",
       "      <td>0.0</td>\n",
       "      <td>0.0</td>\n",
       "      <td>0.0</td>\n",
       "      <td>general health</td>\n",
       "      <td>False</td>\n",
       "      <td>False</td>\n",
       "      <td>False</td>\n",
       "      <td>False</td>\n",
       "      <td>False</td>\n",
       "    </tr>\n",
       "  </tbody>\n",
       "</table>\n",
       "<p>5 rows × 27 columns</p>\n",
       "</div>"
      ],
      "text/plain": [
       "       age  sex  on_thyroxine  query_on_thyroxine  on_antithyroid_medication  \\\n",
       "685   63.0    0             0                   0                          0   \n",
       "2145  56.0    0             0                   0                          0   \n",
       "3223  62.0    0             0                   0                          0   \n",
       "3282  24.0    0             0                   0                          0   \n",
       "3283  23.0    0             0                   0                          0   \n",
       "\n",
       "      sick  pregnant  thyroid_surgery  I131_treatment  query_hypothyroid  ...  \\\n",
       "685      0         0                0               0                  0  ...   \n",
       "2145     0         0                0               0                  0  ...   \n",
       "3223     0         0                0               0                  0  ...   \n",
       "3282     0         0                0               0                  0  ...   \n",
       "3283     0         0                0               0                  0  ...   \n",
       "\n",
       "       T3  TT4  T4U  FTI           class  referral_source_stmw  \\\n",
       "685   0.0  0.0  0.0  0.0  general health                 False   \n",
       "2145  0.0  0.0  0.0  0.0  general health                 False   \n",
       "3223  0.0  0.0  0.0  0.0  general health                 False   \n",
       "3282  0.0  0.0  0.0  0.0  general health                 False   \n",
       "3283  0.0  0.0  0.0  0.0  general health                 False   \n",
       "\n",
       "      referral_source_svhc  referral_source_svhd  referral_source_svi  \\\n",
       "685                  False                 False                False   \n",
       "2145                 False                 False                False   \n",
       "3223                 False                 False                False   \n",
       "3282                 False                 False                False   \n",
       "3283                 False                 False                False   \n",
       "\n",
       "      referral_source_west  \n",
       "685                  False  \n",
       "2145                 False  \n",
       "3223                 False  \n",
       "3282                 False  \n",
       "3283                 False  \n",
       "\n",
       "[5 rows x 27 columns]"
      ]
     },
     "execution_count": 80,
     "metadata": {},
     "output_type": "execute_result"
    }
   ],
   "source": [
    "# Display duplicate rows (if any)\n",
    "print(\"Duplicate Rows:\")\n",
    "duplicate_rows.head()"
   ]
  },
  {
   "cell_type": "code",
   "execution_count": 81,
   "metadata": {},
   "outputs": [
    {
     "data": {
      "text/plain": [
       "class\n",
       "general health     283\n",
       "binding protein    109\n",
       "miscellaneous       20\n",
       "Name: count, dtype: int64"
      ]
     },
     "execution_count": 81,
     "metadata": {},
     "output_type": "execute_result"
    }
   ],
   "source": [
    "class_counts = duplicate_rows['class'].value_counts()\n",
    "class_counts"
   ]
  },
  {
   "cell_type": "markdown",
   "metadata": {},
   "source": [
    "eliminate duplicate rows"
   ]
  },
  {
   "cell_type": "code",
   "execution_count": 82,
   "metadata": {},
   "outputs": [],
   "source": [
    "df_no_duplicates = data.drop_duplicates()"
   ]
  },
  {
   "cell_type": "code",
   "execution_count": 84,
   "metadata": {},
   "outputs": [
    {
     "data": {
      "text/plain": [
       "(9213, 27)"
      ]
     },
     "execution_count": 84,
     "metadata": {},
     "output_type": "execute_result"
    }
   ],
   "source": [
    "df_no_duplicates.shape"
   ]
  },
  {
   "cell_type": "markdown",
   "metadata": {},
   "source": []
  },
  {
   "cell_type": "markdown",
   "metadata": {},
   "source": []
  },
  {
   "cell_type": "code",
   "execution_count": 53,
   "metadata": {},
   "outputs": [],
   "source": [
    "def categorize_tsh_val(tsh_value):\n",
    "    TSH=''\n",
    "    if tsh_value == 0:\n",
    "        TSH = \"not_ready\"\n",
    "    elif 0 < tsh_value < 0.2:\n",
    "        TSH = \"low\"\n",
    "    elif 0.2 <= tsh_value <= 6:\n",
    "        TSH = \"normal\"\n",
    "    elif tsh_value>10:\n",
    "        TSH = \"high\"\n",
    "    return TSH\n",
    "\n",
    "filtered_df['TSH_Cat'] = filtered_df['TSH'].apply(categorize_tsh_val)\n",
    "\n",
    "def categorize_t3_value(t3_value):\n",
    "    T3=''\n",
    "    if t3_value == 0:\n",
    "        T3 = \"not_ready\"\n",
    "    if 0.0 < t3_value < 1.4:\n",
    "        T3 = \"low\"\n",
    "    elif 1.2 <= t3_value <= 2.8:\n",
    "        T3 = \"normal\"\n",
    "    elif t3_value>3.2:\n",
    "        T3 = \"high\"\n",
    "    return T3\n",
    "\n",
    "filtered_df['T3_Cat'] = filtered_df['T3'].apply(categorize_t3_value)\n",
    "\n",
    "def categorize_tt4_value(tt4_value):\n",
    "    TT4=''\n",
    "    if tt4_value == 0:\n",
    "        TT4 = \"not_ready\"\n",
    "    elif tt4_value>0 and tt4_value<60:\n",
    "        TT4 = \"low\"\n",
    "    elif 60 <= tt4_value <= 150:\n",
    "        TT4='Normal'\n",
    "    elif tt4_value>150:\n",
    "            TT4 = \"high\"\n",
    "    return TT4\n",
    "filtered_df['TT4_Cat'] = filtered_df['TT4'].apply(categorize_tt4_value)\n",
    "\n",
    "def categorize_t4u_value(t4u_value):\n",
    "    T4U=''\n",
    "    if t4u_value == 0:\n",
    "        T4U = \"not_ready\"\n",
    "    elif  0< t4u_value < 0.6:\n",
    "        T4U='low'\n",
    "    elif 0.6 <= t4u_value <= 1.25:\n",
    "        T4U = \"normal\"\n",
    "    elif t4u_value > 1.25:\n",
    "        T4U = \"high\"\n",
    "    return T4U\n",
    "filtered_df['T4U_Cat'] = filtered_df['T4U'].apply(categorize_t4u_value)\n",
    "\n",
    "def categorize_fti_value(fti_value):\n",
    "    FTI=''\n",
    "    if fti_value == 0:\n",
    "        FTI = \"not_ready\"\n",
    "    elif 0 < fti_value < 65:\n",
    "        FTI = \"low\"\n",
    "    elif 65 <= fti_value <= 155:\n",
    "        FTI = \"normal\"\n",
    "    elif fti_value > 155:\n",
    "        FTI = \"high\"\n",
    "    return FTI\n",
    "filtered_df['FTI_Cat'] = filtered_df['FTI'].apply(categorize_fti_value)\n",
    "   "
   ]
  },
  {
   "cell_type": "code",
   "execution_count": 71,
   "metadata": {},
   "outputs": [
    {
     "data": {
      "image/png": "[encoded data removed]",
      "text/plain": [
       "<Figure size 1200x1500 with 35 Axes>"
      ]
     },
     "metadata": {},
     "output_type": "display_data"
    }
   ],
   "source": [
    "fig, axes = plt.subplots(7, 5, figsize=(12, 15))\n",
    "inst = ['TSH_Cat', 'T3_Cat', 'TT4_Cat', 'T4U_Cat', 'FTI_Cat']\n",
    "\n",
    "for i, cls in enumerate(filtered_df['class'].unique()):\n",
    "    data = filtered_df[filtered_df['class'] == cls]\n",
    "    for j,cat in enumerate(inst):\n",
    "\n",
    "        row_idx=i\n",
    "        col_idx=j\n",
    "        ax=axes[row_idx,col_idx]\n",
    "        sns.countplot(data=data, x=cat, ax=ax)\n",
    "        ax.set_title(cls)  # Set the title to the class name\n",
    "\n",
    "# Adjust layout\n",
    "plt.tight_layout()\n",
    "plt.show()"
   ]
  },
  {
   "cell_type": "markdown",
   "metadata": {},
   "source": [
    "Insights\n"
   ]
  },
  {
   "cell_type": "code",
   "execution_count": 73,
   "metadata": {},
   "outputs": [
    {
     "name": "stdout",
     "output_type": "stream",
     "text": [
      "Minimum: 0.05\n",
      "Q1: 1.7\n",
      "Q2: 1.9770286522083265\n",
      "Q3: 2.2\n",
      "Maximum: 18.0\n"
     ]
    }
   ],
   "source": [
    "\n",
    "quantiles = np.quantile(filtered_df['T3'], [0.0, 0.25, 0.5, 0.75, 1.0])\n",
    "min_val, q1, q2, q3, max_val = quantiles\n",
    "\n",
    "print(\"Minimum:\", min_val)\n",
    "print(\"Q1:\", q1)\n",
    "print(\"Q2:\", q2)\n",
    "print(\"Q3:\", q3)\n",
    "print(\"Maximum:\", max_val)"
   ]
  },
  {
   "cell_type": "code",
   "execution_count": 75,
   "metadata": {},
   "outputs": [
    {
     "name": "stdout",
     "output_type": "stream",
     "text": [
      "0.9499999999999996\n",
      "2.9500000000000006\n"
     ]
    }
   ],
   "source": [
    "iqr=q3-q1\n",
    "lower_bound=q1-1.5*iqr\n",
    "upper_bound=q3+1.5*iqr\n",
    "print(lower_bound)\n",
    "print(upper_bound)\n"
   ]
  },
  {
   "cell_type": "code",
   "execution_count": null,
   "metadata": {},
   "outputs": [],
   "source": []
  },
  {
   "cell_type": "code",
   "execution_count": null,
   "metadata": {},
   "outputs": [],
   "source": []
  },
  {
   "cell_type": "code",
   "execution_count": null,
   "metadata": {},
   "outputs": [],
   "source": []
  },
  {
   "cell_type": "code",
   "execution_count": null,
   "metadata": {},
   "outputs": [],
   "source": []
  }
 ],
 "metadata": {
  "kernelspec": {
   "display_name": "Python 3",
   "language": "python",
   "name": "python3"
  },
  "language_info": {
   "codemirror_mode": {
    "name": "ipython",
    "version": 3
   },
   "file_extension": ".py",
   "mimetype": "text/x-python",
   "name": "python",
   "nbconvert_exporter": "python",
   "pygments_lexer": "ipython3",
   "version": "3.9.17"
  },
  "orig_nbformat": 4
 },
 "nbformat": 4,
 "nbformat_minor": 2
}
