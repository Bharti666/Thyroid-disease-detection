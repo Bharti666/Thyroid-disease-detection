{
 "cells": [
  {
   "cell_type": "markdown",
   "metadata": {},
   "source": [
    "## Thyroid disease detection"
   ]
  },
  {
   "cell_type": "markdown",
   "metadata": {},
   "source": [
    "### Table of content\n",
    "- Introduction\n",
    "- Executive summary\n",
    "- Data and methods\n",
    "- Data cleaning and feature engineering\n",
    "- EDA\n",
    "- Model training\n",
    "- Conclusion\n",
    "- Future recommendation"
   ]
  },
  {
   "cell_type": "markdown",
   "metadata": {},
   "source": [
    "## Introduction\n",
    "Thyroid is an important butterfly shaped gland present in front of our neck. This gland produce thyroid hormone\n",
    "which is reponsible for controlling and maintaining essential functions of our body such as metablism.\n",
    "Due to many reasons funcitoning of thyroid gland may get affected. The two main abnormalities of thyroid gland is \n",
    "hypothyroidism and hyperthyroidism. In hyperthyroidism there may be excess production of thyroid hormones \n",
    "whereas in hypothyroidism there may be less produciton of thyroid hormone.\n",
    "Now it is very difficult to diagnose thyroid disorder just by looking sign and symptoms. so, laboratory test \n",
    "are important to diagnose thyroid disorder."
   ]
  },
  {
   "cell_type": "markdown",
   "metadata": {},
   "source": [
    "## Executive Summary"
   ]
  },
  {
   "cell_type": "markdown",
   "metadata": {},
   "source": [
    "## Data and Methods\n",
    "we got this dataset from UCI Machine repository named 'Thyroid Disease'. There are many databases in this repository.\n",
    "But we are working with dataset named thyroid0387.txt. \n",
    "This dataset contain 29 independent columns and one dependent columns. Dependent column is having categorical featueres with 7 classes. \n",
    "There are 9173 rows. \n",
    "\n"
   ]
  },
  {
   "cell_type": "markdown",
   "metadata": {},
   "source": [
    "1. Data Summary and Overview. \n",
    "2. check columns for missing values, if missing column have more than 50% missing data than dorp it. \n",
    "3. Drop the \"measured\" columns as measurement are already available. \n",
    "4. Replace M:0 and F:1, f:0 and t:1. \n",
    "5. Check for outliers values.       \n",
    "6. Ecnode \"referal_code using\" get_dummies(). \n",
    "7. convert the classes into encodings. \n",
    "8. Check for categorical columns for unexpected value \n",
    "9. check numerical column for outlier  \n",
    "10. apply imputers to replace missing values. \n",
    "11. Check for numerical and categorical features, (categorical can be converted to OHV) \n",
    "12. check for duplicate data \n",
    "13. visualize various features to check for distribution. if distribution is not proper apply log transform. \n",
    "14. check the points that belong to classes. if imbalanced  appy over sampling techniques. "
   ]
  },
  {
   "cell_type": "markdown",
   "metadata": {},
   "source": [
    "## Data Cleaning and Feature Engineering"
   ]
  },
  {
   "cell_type": "code",
   "execution_count": 1,
   "metadata": {},
   "outputs": [],
   "source": [
    "#import all the necessary libraries\n",
    "import pandas as pd\n",
    "import numpy as np\n",
    "import seaborn as sns\n",
    "import matplotlib.pyplot as plt\n",
    "import os"
   ]
  },
  {
   "cell_type": "code",
   "execution_count": 2,
   "metadata": {},
   "outputs": [
    {
     "data": {
      "text/plain": [
       "'c:\\\\Users\\\\hp\\\\Desktop\\\\Thyroid-disease-detection\\\\research'"
      ]
     },
     "execution_count": 2,
     "metadata": {},
     "output_type": "execute_result"
    }
   ],
   "source": [
    "%pwd"
   ]
  },
  {
   "cell_type": "code",
   "execution_count": 3,
   "metadata": {},
   "outputs": [],
   "source": [
    "os.chdir(\"../\")"
   ]
  },
  {
   "cell_type": "code",
   "execution_count": 4,
   "metadata": {},
   "outputs": [
    {
     "data": {
      "text/plain": [
       "'c:\\\\Users\\\\hp\\\\Desktop\\\\Thyroid-disease-detection'"
      ]
     },
     "execution_count": 4,
     "metadata": {},
     "output_type": "execute_result"
    }
   ],
   "source": [
    "%pwd"
   ]
  },
  {
   "cell_type": "code",
   "execution_count": 5,
   "metadata": {},
   "outputs": [],
   "source": [
    "file_path = r'C:\\Users\\hp\\Desktop\\Thyroid-disease-detection\\artifact\\ingested_data\\data.csv'\n",
    "# Read the CSV file into a Pandas DataFrame\n",
    "df = pd.read_csv(file_path)\n"
   ]
  },
  {
   "cell_type": "code",
   "execution_count": 6,
   "metadata": {},
   "outputs": [
    {
     "data": {
      "text/html": [
       "<div>\n",
       "<style scoped>\n",
       "    .dataframe tbody tr th:only-of-type {\n",
       "        vertical-align: middle;\n",
       "    }\n",
       "\n",
       "    .dataframe tbody tr th {\n",
       "        vertical-align: top;\n",
       "    }\n",
       "\n",
       "    .dataframe thead th {\n",
       "        text-align: right;\n",
       "    }\n",
       "</style>\n",
       "<table border=\"1\" class=\"dataframe\">\n",
       "  <thead>\n",
       "    <tr style=\"text-align: right;\">\n",
       "      <th></th>\n",
       "      <th>age</th>\n",
       "      <th>sex</th>\n",
       "      <th>on_thyroxine</th>\n",
       "      <th>query_on_thyroxine</th>\n",
       "      <th>on_antithyroid_medication</th>\n",
       "      <th>sick</th>\n",
       "      <th>pregnant</th>\n",
       "      <th>thyroid_surgery</th>\n",
       "      <th>I131_treatment</th>\n",
       "      <th>query_hypothyroid</th>\n",
       "      <th>...</th>\n",
       "      <th>TT4_measured</th>\n",
       "      <th>TT4</th>\n",
       "      <th>T4U_measured</th>\n",
       "      <th>T4U</th>\n",
       "      <th>FTI_measured</th>\n",
       "      <th>FTI</th>\n",
       "      <th>TBG_measured</th>\n",
       "      <th>TBG</th>\n",
       "      <th>referral_source</th>\n",
       "      <th>class</th>\n",
       "    </tr>\n",
       "  </thead>\n",
       "  <tbody>\n",
       "    <tr>\n",
       "      <th>0</th>\n",
       "      <td>41</td>\n",
       "      <td>F</td>\n",
       "      <td>f</td>\n",
       "      <td>f</td>\n",
       "      <td>f</td>\n",
       "      <td>f</td>\n",
       "      <td>f</td>\n",
       "      <td>f</td>\n",
       "      <td>f</td>\n",
       "      <td>f</td>\n",
       "      <td>...</td>\n",
       "      <td>t</td>\n",
       "      <td>125</td>\n",
       "      <td>t</td>\n",
       "      <td>1.14</td>\n",
       "      <td>t</td>\n",
       "      <td>109</td>\n",
       "      <td>f</td>\n",
       "      <td>?</td>\n",
       "      <td>SVHC</td>\n",
       "      <td>negative</td>\n",
       "    </tr>\n",
       "    <tr>\n",
       "      <th>1</th>\n",
       "      <td>23</td>\n",
       "      <td>F</td>\n",
       "      <td>f</td>\n",
       "      <td>f</td>\n",
       "      <td>f</td>\n",
       "      <td>f</td>\n",
       "      <td>f</td>\n",
       "      <td>f</td>\n",
       "      <td>f</td>\n",
       "      <td>f</td>\n",
       "      <td>...</td>\n",
       "      <td>t</td>\n",
       "      <td>102</td>\n",
       "      <td>f</td>\n",
       "      <td>?</td>\n",
       "      <td>f</td>\n",
       "      <td>?</td>\n",
       "      <td>f</td>\n",
       "      <td>?</td>\n",
       "      <td>other</td>\n",
       "      <td>negative</td>\n",
       "    </tr>\n",
       "    <tr>\n",
       "      <th>2</th>\n",
       "      <td>46</td>\n",
       "      <td>M</td>\n",
       "      <td>f</td>\n",
       "      <td>f</td>\n",
       "      <td>f</td>\n",
       "      <td>f</td>\n",
       "      <td>f</td>\n",
       "      <td>f</td>\n",
       "      <td>f</td>\n",
       "      <td>f</td>\n",
       "      <td>...</td>\n",
       "      <td>t</td>\n",
       "      <td>109</td>\n",
       "      <td>t</td>\n",
       "      <td>0.91</td>\n",
       "      <td>t</td>\n",
       "      <td>120</td>\n",
       "      <td>f</td>\n",
       "      <td>?</td>\n",
       "      <td>other</td>\n",
       "      <td>negative</td>\n",
       "    </tr>\n",
       "    <tr>\n",
       "      <th>3</th>\n",
       "      <td>70</td>\n",
       "      <td>F</td>\n",
       "      <td>t</td>\n",
       "      <td>f</td>\n",
       "      <td>f</td>\n",
       "      <td>f</td>\n",
       "      <td>f</td>\n",
       "      <td>f</td>\n",
       "      <td>f</td>\n",
       "      <td>f</td>\n",
       "      <td>...</td>\n",
       "      <td>t</td>\n",
       "      <td>175</td>\n",
       "      <td>f</td>\n",
       "      <td>?</td>\n",
       "      <td>f</td>\n",
       "      <td>?</td>\n",
       "      <td>f</td>\n",
       "      <td>?</td>\n",
       "      <td>other</td>\n",
       "      <td>negative</td>\n",
       "    </tr>\n",
       "    <tr>\n",
       "      <th>4</th>\n",
       "      <td>70</td>\n",
       "      <td>F</td>\n",
       "      <td>f</td>\n",
       "      <td>f</td>\n",
       "      <td>f</td>\n",
       "      <td>f</td>\n",
       "      <td>f</td>\n",
       "      <td>f</td>\n",
       "      <td>f</td>\n",
       "      <td>f</td>\n",
       "      <td>...</td>\n",
       "      <td>t</td>\n",
       "      <td>61</td>\n",
       "      <td>t</td>\n",
       "      <td>0.87</td>\n",
       "      <td>t</td>\n",
       "      <td>70</td>\n",
       "      <td>f</td>\n",
       "      <td>?</td>\n",
       "      <td>SVI</td>\n",
       "      <td>negative</td>\n",
       "    </tr>\n",
       "  </tbody>\n",
       "</table>\n",
       "<p>5 rows × 30 columns</p>\n",
       "</div>"
      ],
      "text/plain": [
       "  age sex on_thyroxine query_on_thyroxine on_antithyroid_medication sick  \\\n",
       "0  41   F            f                  f                         f    f   \n",
       "1  23   F            f                  f                         f    f   \n",
       "2  46   M            f                  f                         f    f   \n",
       "3  70   F            t                  f                         f    f   \n",
       "4  70   F            f                  f                         f    f   \n",
       "\n",
       "  pregnant thyroid_surgery I131_treatment query_hypothyroid  ... TT4_measured  \\\n",
       "0        f               f              f                 f  ...            t   \n",
       "1        f               f              f                 f  ...            t   \n",
       "2        f               f              f                 f  ...            t   \n",
       "3        f               f              f                 f  ...            t   \n",
       "4        f               f              f                 f  ...            t   \n",
       "\n",
       "   TT4 T4U_measured   T4U FTI_measured  FTI TBG_measured TBG referral_source  \\\n",
       "0  125            t  1.14            t  109            f   ?            SVHC   \n",
       "1  102            f     ?            f    ?            f   ?           other   \n",
       "2  109            t  0.91            t  120            f   ?           other   \n",
       "3  175            f     ?            f    ?            f   ?           other   \n",
       "4   61            t  0.87            t   70            f   ?             SVI   \n",
       "\n",
       "      class  \n",
       "0  negative  \n",
       "1  negative  \n",
       "2  negative  \n",
       "3  negative  \n",
       "4  negative  \n",
       "\n",
       "[5 rows x 30 columns]"
      ]
     },
     "execution_count": 6,
     "metadata": {},
     "output_type": "execute_result"
    }
   ],
   "source": [
    "df.head()"
   ]
  },
  {
   "cell_type": "code",
   "execution_count": 7,
   "metadata": {},
   "outputs": [
    {
     "data": {
      "text/plain": [
       "(29949, 30)"
      ]
     },
     "execution_count": 7,
     "metadata": {},
     "output_type": "execute_result"
    }
   ],
   "source": [
    "df.shape"
   ]
  },
  {
   "cell_type": "code",
   "execution_count": 8,
   "metadata": {},
   "outputs": [
    {
     "name": "stdout",
     "output_type": "stream",
     "text": [
      "<class 'pandas.core.frame.DataFrame'>\n",
      "RangeIndex: 29949 entries, 0 to 29948\n",
      "Data columns (total 30 columns):\n",
      " #   Column                     Non-Null Count  Dtype \n",
      "---  ------                     --------------  ----- \n",
      " 0   age                        29949 non-null  object\n",
      " 1   sex                        29949 non-null  object\n",
      " 2   on_thyroxine               29949 non-null  object\n",
      " 3   query_on_thyroxine         29949 non-null  object\n",
      " 4   on_antithyroid_medication  29949 non-null  object\n",
      " 5   sick                       29949 non-null  object\n",
      " 6   pregnant                   29949 non-null  object\n",
      " 7   thyroid_surgery            29949 non-null  object\n",
      " 8   I131_treatment             23916 non-null  object\n",
      " 9   query_hypothyroid          29949 non-null  object\n",
      " 10  query_hyperthyroid         29949 non-null  object\n",
      " 11  lithium                    29949 non-null  object\n",
      " 12  goitre                     29949 non-null  object\n",
      " 13  tumor                      29949 non-null  object\n",
      " 14  hypopituitary              23916 non-null  object\n",
      " 15  psych                      23916 non-null  object\n",
      " 16  TSH_measured               29949 non-null  object\n",
      " 17  TSH                        29949 non-null  object\n",
      " 18  T3_measured                29949 non-null  object\n",
      " 19  T3                         29949 non-null  object\n",
      " 20  TT4_measured               29949 non-null  object\n",
      " 21  TT4                        29949 non-null  object\n",
      " 22  T4U_measured               29949 non-null  object\n",
      " 23  T4U                        29949 non-null  object\n",
      " 24  FTI_measured               29949 non-null  object\n",
      " 25  FTI                        29949 non-null  object\n",
      " 26  TBG_measured               22749 non-null  object\n",
      " 27  TBG                        22749 non-null  object\n",
      " 28  referral_source            16716 non-null  object\n",
      " 29  class                      29949 non-null  object\n",
      "dtypes: object(30)\n",
      "memory usage: 6.9+ MB\n"
     ]
    }
   ],
   "source": [
    "df.info()\n",
    "#age is float and all other columns are object/string"
   ]
  },
  {
   "cell_type": "markdown",
   "metadata": {},
   "source": [
    "### case noramlization\n",
    "convert all to lower case\n"
   ]
  },
  {
   "cell_type": "code",
   "execution_count": 9,
   "metadata": {},
   "outputs": [
    {
     "name": "stderr",
     "output_type": "stream",
     "text": [
      "C:\\Users\\hp\\AppData\\Local\\Temp\\ipykernel_7112\\1080545349.py:2: FutureWarning: DataFrame.applymap has been deprecated. Use DataFrame.map instead.\n",
      "  df = df.applymap(lambda x: x.lower() if isinstance(x, str) else x)\n"
     ]
    }
   ],
   "source": [
    "# Convert all object columns to lowercase\n",
    "df = df.applymap(lambda x: x.lower() if isinstance(x, str) else x)\n"
   ]
  },
  {
   "cell_type": "code",
   "execution_count": 10,
   "metadata": {},
   "outputs": [
    {
     "data": {
      "text/html": [
       "<div>\n",
       "<style scoped>\n",
       "    .dataframe tbody tr th:only-of-type {\n",
       "        vertical-align: middle;\n",
       "    }\n",
       "\n",
       "    .dataframe tbody tr th {\n",
       "        vertical-align: top;\n",
       "    }\n",
       "\n",
       "    .dataframe thead th {\n",
       "        text-align: right;\n",
       "    }\n",
       "</style>\n",
       "<table border=\"1\" class=\"dataframe\">\n",
       "  <thead>\n",
       "    <tr style=\"text-align: right;\">\n",
       "      <th></th>\n",
       "      <th>age</th>\n",
       "      <th>sex</th>\n",
       "      <th>on_thyroxine</th>\n",
       "      <th>query_on_thyroxine</th>\n",
       "      <th>on_antithyroid_medication</th>\n",
       "      <th>sick</th>\n",
       "      <th>pregnant</th>\n",
       "      <th>thyroid_surgery</th>\n",
       "      <th>I131_treatment</th>\n",
       "      <th>query_hypothyroid</th>\n",
       "      <th>...</th>\n",
       "      <th>TT4_measured</th>\n",
       "      <th>TT4</th>\n",
       "      <th>T4U_measured</th>\n",
       "      <th>T4U</th>\n",
       "      <th>FTI_measured</th>\n",
       "      <th>FTI</th>\n",
       "      <th>TBG_measured</th>\n",
       "      <th>TBG</th>\n",
       "      <th>referral_source</th>\n",
       "      <th>class</th>\n",
       "    </tr>\n",
       "  </thead>\n",
       "  <tbody>\n",
       "    <tr>\n",
       "      <th>0</th>\n",
       "      <td>41</td>\n",
       "      <td>f</td>\n",
       "      <td>f</td>\n",
       "      <td>f</td>\n",
       "      <td>f</td>\n",
       "      <td>f</td>\n",
       "      <td>f</td>\n",
       "      <td>f</td>\n",
       "      <td>f</td>\n",
       "      <td>f</td>\n",
       "      <td>...</td>\n",
       "      <td>t</td>\n",
       "      <td>125</td>\n",
       "      <td>t</td>\n",
       "      <td>1.14</td>\n",
       "      <td>t</td>\n",
       "      <td>109</td>\n",
       "      <td>f</td>\n",
       "      <td>?</td>\n",
       "      <td>svhc</td>\n",
       "      <td>negative</td>\n",
       "    </tr>\n",
       "    <tr>\n",
       "      <th>1</th>\n",
       "      <td>23</td>\n",
       "      <td>f</td>\n",
       "      <td>f</td>\n",
       "      <td>f</td>\n",
       "      <td>f</td>\n",
       "      <td>f</td>\n",
       "      <td>f</td>\n",
       "      <td>f</td>\n",
       "      <td>f</td>\n",
       "      <td>f</td>\n",
       "      <td>...</td>\n",
       "      <td>t</td>\n",
       "      <td>102</td>\n",
       "      <td>f</td>\n",
       "      <td>?</td>\n",
       "      <td>f</td>\n",
       "      <td>?</td>\n",
       "      <td>f</td>\n",
       "      <td>?</td>\n",
       "      <td>other</td>\n",
       "      <td>negative</td>\n",
       "    </tr>\n",
       "    <tr>\n",
       "      <th>2</th>\n",
       "      <td>46</td>\n",
       "      <td>m</td>\n",
       "      <td>f</td>\n",
       "      <td>f</td>\n",
       "      <td>f</td>\n",
       "      <td>f</td>\n",
       "      <td>f</td>\n",
       "      <td>f</td>\n",
       "      <td>f</td>\n",
       "      <td>f</td>\n",
       "      <td>...</td>\n",
       "      <td>t</td>\n",
       "      <td>109</td>\n",
       "      <td>t</td>\n",
       "      <td>0.91</td>\n",
       "      <td>t</td>\n",
       "      <td>120</td>\n",
       "      <td>f</td>\n",
       "      <td>?</td>\n",
       "      <td>other</td>\n",
       "      <td>negative</td>\n",
       "    </tr>\n",
       "    <tr>\n",
       "      <th>3</th>\n",
       "      <td>70</td>\n",
       "      <td>f</td>\n",
       "      <td>t</td>\n",
       "      <td>f</td>\n",
       "      <td>f</td>\n",
       "      <td>f</td>\n",
       "      <td>f</td>\n",
       "      <td>f</td>\n",
       "      <td>f</td>\n",
       "      <td>f</td>\n",
       "      <td>...</td>\n",
       "      <td>t</td>\n",
       "      <td>175</td>\n",
       "      <td>f</td>\n",
       "      <td>?</td>\n",
       "      <td>f</td>\n",
       "      <td>?</td>\n",
       "      <td>f</td>\n",
       "      <td>?</td>\n",
       "      <td>other</td>\n",
       "      <td>negative</td>\n",
       "    </tr>\n",
       "    <tr>\n",
       "      <th>4</th>\n",
       "      <td>70</td>\n",
       "      <td>f</td>\n",
       "      <td>f</td>\n",
       "      <td>f</td>\n",
       "      <td>f</td>\n",
       "      <td>f</td>\n",
       "      <td>f</td>\n",
       "      <td>f</td>\n",
       "      <td>f</td>\n",
       "      <td>f</td>\n",
       "      <td>...</td>\n",
       "      <td>t</td>\n",
       "      <td>61</td>\n",
       "      <td>t</td>\n",
       "      <td>0.87</td>\n",
       "      <td>t</td>\n",
       "      <td>70</td>\n",
       "      <td>f</td>\n",
       "      <td>?</td>\n",
       "      <td>svi</td>\n",
       "      <td>negative</td>\n",
       "    </tr>\n",
       "    <tr>\n",
       "      <th>...</th>\n",
       "      <td>...</td>\n",
       "      <td>...</td>\n",
       "      <td>...</td>\n",
       "      <td>...</td>\n",
       "      <td>...</td>\n",
       "      <td>...</td>\n",
       "      <td>...</td>\n",
       "      <td>...</td>\n",
       "      <td>...</td>\n",
       "      <td>...</td>\n",
       "      <td>...</td>\n",
       "      <td>...</td>\n",
       "      <td>...</td>\n",
       "      <td>...</td>\n",
       "      <td>...</td>\n",
       "      <td>...</td>\n",
       "      <td>...</td>\n",
       "      <td>...</td>\n",
       "      <td>...</td>\n",
       "      <td>...</td>\n",
       "      <td>...</td>\n",
       "    </tr>\n",
       "    <tr>\n",
       "      <th>29944</th>\n",
       "      <td>77.0</td>\n",
       "      <td>f</td>\n",
       "      <td>0</td>\n",
       "      <td>0</td>\n",
       "      <td>0</td>\n",
       "      <td>0</td>\n",
       "      <td>0</td>\n",
       "      <td>0</td>\n",
       "      <td>0</td>\n",
       "      <td>0</td>\n",
       "      <td>...</td>\n",
       "      <td>t</td>\n",
       "      <td>12.5</td>\n",
       "      <td>t</td>\n",
       "      <td>10.7</td>\n",
       "      <td>t</td>\n",
       "      <td>11.700000000000001</td>\n",
       "      <td>NaN</td>\n",
       "      <td>NaN</td>\n",
       "      <td>NaN</td>\n",
       "      <td>negative</td>\n",
       "    </tr>\n",
       "    <tr>\n",
       "      <th>29945</th>\n",
       "      <td>41.0</td>\n",
       "      <td>f</td>\n",
       "      <td>0</td>\n",
       "      <td>0</td>\n",
       "      <td>0</td>\n",
       "      <td>0</td>\n",
       "      <td>0</td>\n",
       "      <td>0</td>\n",
       "      <td>0</td>\n",
       "      <td>0</td>\n",
       "      <td>...</td>\n",
       "      <td>t</td>\n",
       "      <td>12.5</td>\n",
       "      <td>t</td>\n",
       "      <td>11.4</td>\n",
       "      <td>t</td>\n",
       "      <td>10.9</td>\n",
       "      <td>NaN</td>\n",
       "      <td>NaN</td>\n",
       "      <td>NaN</td>\n",
       "      <td>negative</td>\n",
       "    </tr>\n",
       "    <tr>\n",
       "      <th>29946</th>\n",
       "      <td>88.0</td>\n",
       "      <td>f</td>\n",
       "      <td>0</td>\n",
       "      <td>0</td>\n",
       "      <td>0</td>\n",
       "      <td>0</td>\n",
       "      <td>0</td>\n",
       "      <td>0</td>\n",
       "      <td>0</td>\n",
       "      <td>0</td>\n",
       "      <td>...</td>\n",
       "      <td>t</td>\n",
       "      <td>12.3</td>\n",
       "      <td>t</td>\n",
       "      <td>9.9</td>\n",
       "      <td>t</td>\n",
       "      <td>12.4</td>\n",
       "      <td>NaN</td>\n",
       "      <td>NaN</td>\n",
       "      <td>NaN</td>\n",
       "      <td>hypothyroid</td>\n",
       "    </tr>\n",
       "    <tr>\n",
       "      <th>29947</th>\n",
       "      <td>64.0</td>\n",
       "      <td>m</td>\n",
       "      <td>0</td>\n",
       "      <td>0</td>\n",
       "      <td>0</td>\n",
       "      <td>0</td>\n",
       "      <td>0</td>\n",
       "      <td>0</td>\n",
       "      <td>0</td>\n",
       "      <td>0</td>\n",
       "      <td>...</td>\n",
       "      <td>t</td>\n",
       "      <td>10.6</td>\n",
       "      <td>t</td>\n",
       "      <td>8.799999999999999</td>\n",
       "      <td>t</td>\n",
       "      <td>12.1</td>\n",
       "      <td>NaN</td>\n",
       "      <td>NaN</td>\n",
       "      <td>NaN</td>\n",
       "      <td>negative</td>\n",
       "    </tr>\n",
       "    <tr>\n",
       "      <th>29948</th>\n",
       "      <td>46.0</td>\n",
       "      <td>f</td>\n",
       "      <td>0</td>\n",
       "      <td>0</td>\n",
       "      <td>0</td>\n",
       "      <td>0</td>\n",
       "      <td>0</td>\n",
       "      <td>0</td>\n",
       "      <td>0</td>\n",
       "      <td>0</td>\n",
       "      <td>...</td>\n",
       "      <td>t</td>\n",
       "      <td>9.3</td>\n",
       "      <td>t</td>\n",
       "      <td>9.1</td>\n",
       "      <td>t</td>\n",
       "      <td>10.2</td>\n",
       "      <td>NaN</td>\n",
       "      <td>NaN</td>\n",
       "      <td>NaN</td>\n",
       "      <td>negative</td>\n",
       "    </tr>\n",
       "  </tbody>\n",
       "</table>\n",
       "<p>29949 rows × 30 columns</p>\n",
       "</div>"
      ],
      "text/plain": [
       "        age sex on_thyroxine query_on_thyroxine on_antithyroid_medication  \\\n",
       "0        41   f            f                  f                         f   \n",
       "1        23   f            f                  f                         f   \n",
       "2        46   m            f                  f                         f   \n",
       "3        70   f            t                  f                         f   \n",
       "4        70   f            f                  f                         f   \n",
       "...     ...  ..          ...                ...                       ...   \n",
       "29944  77.0   f            0                  0                         0   \n",
       "29945  41.0   f            0                  0                         0   \n",
       "29946  88.0   f            0                  0                         0   \n",
       "29947  64.0   m            0                  0                         0   \n",
       "29948  46.0   f            0                  0                         0   \n",
       "\n",
       "      sick pregnant thyroid_surgery I131_treatment query_hypothyroid  ...  \\\n",
       "0        f        f               f              f                 f  ...   \n",
       "1        f        f               f              f                 f  ...   \n",
       "2        f        f               f              f                 f  ...   \n",
       "3        f        f               f              f                 f  ...   \n",
       "4        f        f               f              f                 f  ...   \n",
       "...    ...      ...             ...            ...               ...  ...   \n",
       "29944    0        0               0              0                 0  ...   \n",
       "29945    0        0               0              0                 0  ...   \n",
       "29946    0        0               0              0                 0  ...   \n",
       "29947    0        0               0              0                 0  ...   \n",
       "29948    0        0               0              0                 0  ...   \n",
       "\n",
       "      TT4_measured   TT4 T4U_measured                T4U FTI_measured  \\\n",
       "0                t   125            t               1.14            t   \n",
       "1                t   102            f                  ?            f   \n",
       "2                t   109            t               0.91            t   \n",
       "3                t   175            f                  ?            f   \n",
       "4                t    61            t               0.87            t   \n",
       "...            ...   ...          ...                ...          ...   \n",
       "29944            t  12.5            t               10.7            t   \n",
       "29945            t  12.5            t               11.4            t   \n",
       "29946            t  12.3            t                9.9            t   \n",
       "29947            t  10.6            t  8.799999999999999            t   \n",
       "29948            t   9.3            t                9.1            t   \n",
       "\n",
       "                      FTI TBG_measured  TBG referral_source        class  \n",
       "0                     109            f    ?            svhc     negative  \n",
       "1                       ?            f    ?           other     negative  \n",
       "2                     120            f    ?           other     negative  \n",
       "3                       ?            f    ?           other     negative  \n",
       "4                      70            f    ?             svi     negative  \n",
       "...                   ...          ...  ...             ...          ...  \n",
       "29944  11.700000000000001          NaN  NaN             NaN     negative  \n",
       "29945                10.9          NaN  NaN             NaN     negative  \n",
       "29946                12.4          NaN  NaN             NaN  hypothyroid  \n",
       "29947                12.1          NaN  NaN             NaN     negative  \n",
       "29948                10.2          NaN  NaN             NaN     negative  \n",
       "\n",
       "[29949 rows x 30 columns]"
      ]
     },
     "execution_count": 10,
     "metadata": {},
     "output_type": "execute_result"
    }
   ],
   "source": [
    "df"
   ]
  },
  {
   "cell_type": "code",
   "execution_count": 10,
   "metadata": {},
   "outputs": [
    {
     "name": "stdout",
     "output_type": "stream",
     "text": [
      "age: ['41' '23' '46' '70' '18' '59' '80' '66' '68' '84' '67' '71' '28' '65'\n",
      " '42' '63' '51' '81' '54' '55' '60' '25' '73' '34' '78' '37' '85' '26'\n",
      " '58' '64' '44' '48' '61' '35' '83' '21' '87' '53' '77' '27' '69' '74'\n",
      " '38' '76' '45' '36' '22' '43' '72' '82' '31' '39' '49' '62' '57' '1' '50'\n",
      " '30' '29' '75' '19' '7' '79' '17' '24' '15' '32' '47' '16' '52' '33' '13'\n",
      " '10' '89' '56' '20' '90' '40' '88' '14' '86' '94' '12' '4' '11' '8' '5'\n",
      " '455' '2' '91' '6' '?' '93' '92' '9' '97' '65511' '95' '65512' '3'\n",
      " '65526' '98' '28.999999999999996' '32.0' '35.0' '21.0' '22.0' '39.0'\n",
      " '77.0' '23.0' '45.0' '65.0' '53.0' '79.0' '56.99999999999999' '54.0'\n",
      " '61.0' '14.000000000000002' '55.00000000000001' '59.0' '60.0' '73.0'\n",
      " '56.00000000000001' '38.0' '42.0' '78.0' '64.0' '52.0' '81.0' '75.0'\n",
      " '36.0' '51.0' '76.0' '70.0' '87.0' '63.0' '40.0' '16.0'\n",
      " '28.000000000000004' '26.0' '25.0' '27.0' '69.0' '62.0' '67.0' '71.0'\n",
      " '66.0' '85.0' '43.0' '46.0' '48.0' '24.0' '31.0' '68.0' '74.0' '44.0'\n",
      " '52.190000000000005' '37.0' '33.0' '41.0' '82.0' '20.0' '15.0' '47.0'\n",
      " '57.99999999999999' '91.0' '49.0' '95.0' '72.0' '50.0' '19.0' '18.0'\n",
      " '30.0' '83.0' '86.0' '80.0' '34.0' '11.0' '4.0' '90.0' '13.0' '10.0'\n",
      " '12.0' '89.0' '84.0' '17.0' '94.0' '2.0' '3.0' '1.0' '97.0' '88.0' '93.0'\n",
      " '92.0' '5.0' '9.0' '8.0' '7.000000000000001' '6.0' '51.5']\n",
      "sex: ['f' 'm' '?']\n",
      "on_thyroxine: ['f' 't' '0' '1']\n",
      "query_on_thyroxine: ['f' 't' '0' '1']\n",
      "on_antithyroid_medication: ['f' 't' '0' '1']\n",
      "sick: ['f' 't' '0' '1']\n",
      "pregnant: ['f' 't' '0' '1']\n",
      "thyroid_surgery: ['f' 't' '0' '1']\n",
      "I131_treatment: ['f' 't' nan '0' '1']\n",
      "query_hypothyroid: ['f' 't' '0' '1']\n",
      "query_hyperthyroid: ['f' 't' '0' '1']\n",
      "lithium: ['f' 't' '0' '1']\n",
      "goitre: ['f' 't' '0' '1']\n",
      "tumor: ['f' 't' '0' '1']\n",
      "hypopituitary: ['f' 't' nan '0' '1']\n",
      "psych: ['f' 't' nan '0' '1']\n",
      "TSH_measured: ['t' 'f' 'y' 'n']\n",
      "TSH: ['1.3' '4.1' '0.98' '0.16' '0.72' '0.03' '?' '2.2' '0.6' '2.4' '1.1' '2.8'\n",
      " '3.3' '12' '1.2' '1.5' '6' '2.1' '0.1' '0.8' '1.9' '3.1' '0.2' '13' '0.3'\n",
      " '0.035' '2.5' '0.5' '1.7' '7.3' '1.8' '0.26' '45' '5.4' '0.99' '0.25'\n",
      " '0.92' '0.15' '0.64' '1' '0.4' '2' '2.6' '14.8' '15' '19' '0.02' '3'\n",
      " '2.9' '3.2' '9' '1.6' '4.3' '0.005' '0.31' '0.61' '0.05' '7.8' '160'\n",
      " '0.025' '1.4' '0.01' '8.8' '151' '0.04' '3.9' '9.4' '2.7' '2.3' '0.94'\n",
      " '0.045' '3.5' '0.88' '0.08' '4.5' '0.68' '0.7' '0.67' '27' '6.1' '0.75'\n",
      " '0.55' '26' '5.2' '0.77' '0.07' '0.9' '11.4' '143' '0.45' '0.57' '0.65'\n",
      " '0.015' '16' '108' '0.83' '9.2' '86' '0.62' '0.59' '9.1' '5.9' '52'\n",
      " '0.33' '31' '5.8' '0.28' '51' '6.3' '4.4' '9.6' '3.4' '0.09' '24' '0.76'\n",
      " '42' '25' '10' '4.6' '8.6' '0.66' '6.2' '0.79' '28' '0.86' '9.7' '0.84'\n",
      " '17' '18' '55' '14' '3.7' '0.87' '6.7' '0.74' '7.6' '0.065' '0.29' '0.37'\n",
      " '8' '11' '0.48' '44' '7.9' '5' '7.2' '0.89' '0.93' '0.97' '0.12' '6.4'\n",
      " '33' '0.85' '7.1' '0.73' '199' '8.2' '188' '0.22' '98' '22' '6.6' '5.1'\n",
      " '0.06' '0.42' '3.8' '35' '4' '0.78' '0.63' '0.52' '60' '0.43' '5.6' '6.9'\n",
      " '3.6' '29' '0.38' '4.9' '0.41' '9.9' '7.5' '34' '6.5' '4.7' '103' '0.95'\n",
      " '0.14' '0.35' '4.2' '0.81' '0.54' '0.58' '8.9' '5.5' '0.34' '9.3' '0.13'\n",
      " '54' '0.39' '8.3' '478' '21' '6.8' '0.32' '0.23' '0.24' '8.1' '0.91'\n",
      " '5.3' '100' '0.27' '1.01' '58' '41' '183' '18.4' '0.47' '0.17' '12.1'\n",
      " '0.19' '0.82' '43' '0.44' '70' '7.7' '8.4' '0.69' '8.5' '0.21' '82'\n",
      " '0.055' '0.96' '0.71' '38' '0.36' '9.8' '7' '0.46' '11.1' '39' '76' '5.7'\n",
      " '32' '126' '26.4' '0.53' '0.49' '36' '178' '145' '47' '4.8' '10.3' '89'\n",
      " '7.4' '472' '0.51' '116' '61' '99' '46' '78' '468' '14.4' '165' '9.5'\n",
      " '80' '0.56' '30.5' '20' '0.18' '50' '236' '23' '440' '139' '530' '109'\n",
      " '30' '400' '1.02' '230' '5.73' '66' '65' '117' '40' '68' '9.599999' '140'\n",
      " '9.799999' '90' '11.599999' '88' '53' '16.5' '176' '71' '9.099999' '10.7'\n",
      " '1.83' '170' '19.199999' '48' '153' '15.299999' '10.299999' '430' '213'\n",
      " '37' '216' '17.4' '13.2' '56' '8.299999' '260' '138' '150' '200' '85'\n",
      " '14.299999' '49' '77' '92' '8.799999' '1.05' '8.099999' '13.299999' '125'\n",
      " '288' '235' '14.799999' '8.599999' '11.099999' '12.099999' '9.299999'\n",
      " '0.255' '0.11' '114' '1.03' '197' '96' '11.5' '131' '67' '106' '172'\n",
      " '164' '0.075' '141' '1.04' '0.135' '0.085' '0.125' '0.115' '73' '436'\n",
      " '0.095' '11.9' '494' '62' '393' '8.7' '0.105' '252' '59' '118' '1.14'\n",
      " '1.12' '191' '166' '460' '192' '136' '177' '198' '13.7' '16.799999' '74'\n",
      " '500' '4.01' '0' '7.30' '7.70' '15.30' '9.40' '57' '8.20' '6.50' '7.50'\n",
      " '8.70' '10.70' '6.40' '7.90' '6.60' '0.50' '1.20' '1.90' '3.10' '0.40'\n",
      " '0.30' '0.90' '1.50' '4.60' '0.20' '5.80' '1.40' '2.60' '2.90' '0.80'\n",
      " '4.90' '10.30' '2.30' '0.70' '0.60' '1.30' '2.50' '5.10' '1.70' '2.70'\n",
      " '8.10' '3.30' '3.20' '1.80' '1.10' '5.60' '4.40' '16.50' '2.10' '6.30'\n",
      " '5.50' '7.40' '5.90' '14.90' '2.20' '9.70' '9.60' '1.60' '3.70' '2.80'\n",
      " '0.10' '4.20' '3.50' '19.20' '9.10' '3.60' '7.80' '3.80' '8.50' '9.20'\n",
      " '2.40' '3.90' '6.10' '7.60' '8.40' '14.40' '6.90' '4.50' '4.70' '4.10'\n",
      " '14.30' '5.40' '8.30' '8.80' '8.90' '7.10' '4.80' '6.70' '8.60' '3.40'\n",
      " '6.20' '17.40' '63' '13.30' '9.50' '4.30' '5.20' '9.80' '11.40' '9.90'\n",
      " '13.20' '6.80' '11.60' '0.0' '0.08099999999999999' '0.003' '0.004'\n",
      " '0.41900000000000004' '0.002' '0.06999999999999999' '0.006' '0.089'\n",
      " '0.232' '0.859' '0.038' '0.012' '0.44999999999999996'\n",
      " '0.13999999999999999' '0.208' '3.3000000000000003' '0.33999999999999997'\n",
      " '0.011000000000000001' '2.9000000000000004' '0.41000000000000003' '0.098'\n",
      " '0.056999999999999995' '0.08499999999999999' '0.049' '0.073'\n",
      " '0.07200000000000001' '0.27999999999999997' '0.051000000000000004'\n",
      " '0.018000000000000002' '0.001' '0.909' '0.092' '0.041' '0.096' '0.034'\n",
      " '0.033' '0.091' '0.076' '0.38999999999999996' '0.087'\n",
      " '0.45999999999999996' '0.052' '0.093' '0.036000000000000004' '0.066'\n",
      " '0.063' '0.10300000000000001' '0.058' '1.0' '0.16999999999999998' '0.068'\n",
      " '0.22999999999999998' '0.8290000000000001' '0.064' '0.469'\n",
      " '0.009000000000000001' '0.7000000000000001' '19.7' '0.5700000000000001'\n",
      " '1.15' '0.101' '0.097' '0.5499999999999999' '0.032'\n",
      " '0.006999999999999999' '0.047' '0.074' '0.008' '13.100000000000001'\n",
      " '0.889' '0.5599999999999999' '0.8789999999999999' '0.062' '0.083' '2.0'\n",
      " '0.8200000000000001' '0.7799999999999999' '0.7100000000000001'\n",
      " '1.0999999999999999' '2.1999999999999997' '0.061' '0.054'\n",
      " '0.8500000000000001' '0.044000000000000004' '0.35000000000000003' '0.013'\n",
      " '0.023' '0.037' '10.6' '0.06899999999999999' '0.077' '0.082'\n",
      " '0.08800000000000001' '0.055999999999999994' '0.078' '0.042'\n",
      " '0.07100000000000001' '0.046' '3.6999999999999997' '17.2' '0.019' '0.084'\n",
      " '3.4000000000000004' '0.034999999999999996' '16.400000000000002'\n",
      " '4.3999999999999995' '0.017' '6.800000000000001' '1.4000000000000001'\n",
      " '3.5000000000000004' '0.6799999999999999' '0.043' '2.8000000000000003'\n",
      " '0.048' '0.016' '0.079' '14.099999999999998' '0.029' '0.099' '0.104'\n",
      " '0.039' '0.067' '0.031' '0.024' '3.5999999999999996'\n",
      " '0.027999999999999997' '0.086' '0.021' '0.022000000000000002'\n",
      " '1.7000000000000002' '0.9289999999999999' '0.013999999999999999' '43.6'\n",
      " '5.6000000000000005' '0.027' '0.8089999999999999' '0.026' '0.839'\n",
      " '1.1900000000000002' '6.6000000000000005' '49.4' '3.0' '0.094'\n",
      " '39.300000000000004' '5.800000000000001' '0.8699999999999999' '25.2'\n",
      " '0.9390000000000001' '1.7999999999999998' '5.8999999999999995'\n",
      " '11.799999999999999' '17.599999999999998' '0.11399999999999999'\n",
      " '0.11199999999999999' '19.1' '17.0' '0.989' '4.1000000000000005' '16.6'\n",
      " '46.0' '19.2' '10.9' '13.600000000000001' '4.0' '17.7' '19.8' '1.37'\n",
      " '1.6789999999999998' '7.3999999999999995' '50.0' '0.959' '0.189' '0.979'\n",
      " '7.000000000000001' '1.4789999999999999' '0.8999999999999999' '10.0'\n",
      " '1.8399999999999999' '12.6' '8.200000000000001' '16.0'\n",
      " '0.9199999999999999' '15.1' '13.900000000000002' '18.3'\n",
      " '47.199999999999996' '23.0' '1.209' '6.0' '10.8' '18.8' '1.44' '3.05'\n",
      " '46.800000000000004' '1.1400000000000001' '10.299999999999999' '2.64'\n",
      " '23.599999999999998' '14.299999999999999' '47.8' '53.0'\n",
      " '14.499999999999998' '17.8' '44.0' '40.0' '0.573' '1.0290000000000001'\n",
      " '1.109' '19.900000000000002' '0.10200000000000001' '8.0'\n",
      " '11.700000000000001' '5.0' '11.600000000000001']\n",
      "T3_measured: ['t' 'f' 'y' 'n']\n",
      "T3: ['2.5' '2' '?' '1.9' '1.2' '0.6' '2.2' '1.6' '3.8' '1.7' '1.8' '2.6' '2.1'\n",
      " '0.3' '5.5' '1.4' '3.1' '1.5' '2.3' '2.4' '2.7' '0.9' '1' '2.8' '2.9'\n",
      " '0.8' '1.3' '0.4' '3.3' '3.5' '3.4' '1.1' '4.2' '3.7' '3' '0.7' '4.8'\n",
      " '4.3' '0.05' '3.2' '5.4' '4' '0.5' '0.2' '3.6' '5.2' '5' '6' '5.3' '3.9'\n",
      " '4.6' '4.5' '7.3' '4.7' '6.7' '4.1' '6.1' '0.1' '4.9' '10.6' '5.1' '7'\n",
      " '6.2' '4.4' '7.1' '8.5' '1.44' '7.6' '5.7' '6.6' '8.599999' '8.9'\n",
      " '8.099999' '10.599999' '6.9' '6.8' '5.6' '6.4' '18' '9.5' '6.5'\n",
      " '13.299999' '0.83' '0.69' '0.93' '5.9' '8' '0.60' '1.70' '0.20' '0.40'\n",
      " '1.20' '1.10' '1.30' '1.90' '0.80' '2.20' '1.50' '2.70' '0.30' '2.10'\n",
      " '0.50' '0.70' '1.40' '2.30' '2.40' '0.90' '1.80' '0' '2.80' '1.60' '6.70'\n",
      " '3.30' '2.50' '2.60' '9.80' '3.90' '3.40' '3.80' '4.50' '3.20' '3.70'\n",
      " '4.30' '2.90' '3.10' '3.50' '3.60' '6.60' '4.90' '8.90' '4.10' '5.30'\n",
      " '7.60' '7.30' '4.20' '4.40' '5.10' '0.10' '4.70' '6.20' '5.50' '4.60'\n",
      " '6.10' '8.10' '5.20' '5.60' '4.80' '10.20' '8.60' '2.8000000000000003'\n",
      " '1.7999999999999998' '2.1999999999999997' '2.0' '3.5999999999999996'\n",
      " '1.4000000000000001' '1.0999999999999999' '2.01' '1.7000000000000002'\n",
      " '2.08' '0.7000000000000001' '4.6899999999999995' '0.8999999999999999'\n",
      " '1.0' '0.96' '3.6999999999999997' '3.0' '2.9000000000000004'\n",
      " '3.3000000000000003' '3.4000000000000004' '4.3999999999999995'\n",
      " '6.800000000000001' '4.19' '4.1000000000000005' '4.0'\n",
      " '3.5000000000000004' '5.6000000000000005' '18.0' '13.29' '5.0'\n",
      " '0.9299999999999999' '5.8999999999999995' '2.06' '1.7399999999999998'\n",
      " '6.0' '10.59' '6.6000000000000005' '7.000000000000001']\n",
      "TT4_measured: ['t' 'f' 'y' 'n']\n",
      "TT4: ['125' '102' '109' '175' '61' '183' '72' '80' '123' '83' '115' '152' '171'\n",
      " '97' '99' '70' '117' '121' '130' '108' '104' '134' '199' '57' '129' '113'\n",
      " '119' '84' '81' '95' '66' '101' '147' '120' '69' '?' '39' '87' '63' '133'\n",
      " '86' '163' '162' '103' '96' '151' '112' '82' '138' '71' '77' '93' '107'\n",
      " '237' '110' '67' '88' '160' '118' '136' '114' '116' '94' '161' '11' '32'\n",
      " '124' '137' '92' '135' '105' '150' '126' '146' '91' '217' '141' '159'\n",
      " '122' '100' '111' '140' '205' '225' '85' '90' '74' '219' '127' '132'\n",
      " '128' '106' '144' '131' '56' '79' '142' '98' '177' '139' '78' '189' '180'\n",
      " '73' '145' '184' '38' '156' '75' '148' '14' '76' '54' '58' '27' '65'\n",
      " '193' '13' '143' '12' '64' '257' '164' '59' '167' '18' '41' '176' '37'\n",
      " '33' '44' '45' '154' '174' '203' '244' '62' '158' '60' '187' '250' '181'\n",
      " '157' '223' '272' '166' '213' '235' '10' '68' '231' '191' '48' '5.8'\n",
      " '169' '149' '210' '40' '155' '232' '42' '204' '430' '198' '230' '15'\n",
      " '170' '165' '47' '168' '194' '89' '52' '179' '192' '172' '4.8' '50' '182'\n",
      " '197' '214' '246' '196' '207' '19' '153' '22' '46' '200' '35' '226' '201'\n",
      " '233' '206' '31' '255' '178' '239' '195' '6' '36' '2' '3' '289' '240'\n",
      " '209' '43' '34' '252' '29' '263' '301' '23' '188' '211' '253' '21' '173'\n",
      " '261' '248' '51' '25' '53' '17' '220' '256' '9.5' '212' '273' '222' '186'\n",
      " '49' '372' '16' '28' '24' '4' '30' '2.9' '55' '216' '258' '7.5' '308'\n",
      " '3.9' '236' '9' '7.6' '4.1' '202' '242' '359' '302' '260' '287' '296'\n",
      " '208' '245' '228' '333' '9.7' '275' '247' '268' '269' '190' '218' '185'\n",
      " '450' '224' '221' '215' '5' '278' '8.4' '4.06' '395' '4.2' '386' '20'\n",
      " '238' '600' '292' '2.5' '410' '234' '249' '280' '7.60' '3.90' '6.60'\n",
      " '8.10' '9.70' '2.30' '7.50' '4.10' '5.30' '2.90' '8.60' '254' '7.30'\n",
      " '241' '267' '426' '396' '282' '283' '11.1' '23.9' '8.7' '13.4' '12.3'\n",
      " '13.3' '8.0' '11.3' '10.4' '2.3' '15.4' '11.5' '7.8' '15.9' '12.0' '22.5'\n",
      " '11.799999999999999' '8.9' '10.299999999999999' '12.2' '15.1' '17.5'\n",
      " '7.3999999999999995' '10.2' '8.200000000000001' '12.5' '12.4' '6.5'\n",
      " '16.0' '10.9' '9.6' '10.0' '13.600000000000001' '14.000000000000002'\n",
      " '4.7' '17.1' '14.099999999999998' '16.1' '10.100000000000001'\n",
      " '14.799999999999999' '6.3' '10.5' '6.9' '7.1' '11.899999999999999'\n",
      " '11.600000000000001' '14.7' '20.599999999999998' '16.400000000000002'\n",
      " '15.2' '13.5' '12.1' '10.7' '13.700000000000001' '15.0' '16.3' '6.1'\n",
      " '5.6000000000000005' '11.0' '13.100000000000001' '9.3' '18.9'\n",
      " '5.800000000000001' '6.6000000000000005' '12.7' '8.6' '2.4' '9.0' '7.7'\n",
      " '17.7' '11.329' '9.9' '13.200000000000001' '8.3' '17.0' '9.8' '10.6'\n",
      " '9.2' '13.900000000000002' '4.6' '8.1' '13.8' '9.4' '0.5' '11.4' '9.1'\n",
      " '12.8' '27.800000000000004' '22.1' '14.499999999999998' '3.121'\n",
      " '1.4000000000000001' '11.200000000000001' '0.29' '14.2'\n",
      " '9.700000000000001' '13.0' '7.9' '4.3999999999999995' '14.6'\n",
      " '14.299999999999999' '19.0' '10.8' '15.7' '16.2' '12.6' '0.839' '17.2'\n",
      " '18.0' '16.6' '14.399999999999999' '7.3' '18.2' '2.1999999999999997'\n",
      " '11.700000000000001' '5.3' '15.5' '6.0' '12.9' '19.6' '19.2' '21.4'\n",
      " '15.6' '9.663' '8.5' '17.4' '8.799999999999999' '7.000000000000001' '6.7'\n",
      " '16.5' '6.2' '5.4' '15.8' '16.900000000000002' '16.7' '1.0' '20.4'\n",
      " '7.199999999999999' '18.7' '1.3' '14.899999999999999' '5.1' '17.8' '18.5'\n",
      " '6.800000000000001' '2.9000000000000004' '18.3' '0.406' '21.2' '6.4'\n",
      " '20.0' '1.2' '20.3' '3.5999999999999996' '39.5' '19.3' '5.0' '3.8' '22.0'\n",
      " '1.6' '17.299999999999997' '19.900000000000002' '5.5'\n",
      " '15.299999999999999' '3.6999999999999997' '3.1' '17.599999999999998'\n",
      " '0.41900000000000004' '18.4' '5.7' '5.2' '20.9' '3.3000000000000003'\n",
      " '38.6' '0.3' '2.0' '4.3' '24.8' '23.799999999999997' '18.8' '16.8' '19.8'\n",
      " '17.9' '60.0' '18.6' '18.099999999999998' '25.7' '3.0' '20.1'\n",
      " '23.599999999999998' '22.2' '1.9' '23.200000000000003' '29.2' '25.6'\n",
      " '21.0' '2.8000000000000003' '43.0' '22.400000000000002' '0.25' '1.5'\n",
      " '25.0' '24.5' '5.8999999999999995' '20.8' '19.400000000000002' '23.5'\n",
      " '22.3' '41.0' '19.1' '23.400000000000002' '1.7999999999999998' '21.3'\n",
      " '23.1' '4.5' '19.7' '21.9' '4.0' '24.4' '2.7' '3.5000000000000004' '21.6'\n",
      " '3.4000000000000004' '3.2' '20.200000000000003' '22.8' '23.0' '24.9'\n",
      " '22.6' '20.7' '4.9' '24.0' '28.000000000000004' '11.118' '25.5'\n",
      " '30.099999999999998' '25.2' '20.5' '0.6' '0.48' '25.8' '21.7' '25.3'\n",
      " '0.58' '0.95' '9.159' '23.7' '0.4' '0.2' '2.1' '24.6' '23.3'\n",
      " '4.1000000000000005' '28.9' '27.3' '27.200000000000003' '26.1' '19.5'\n",
      " '26.3' '3.375' '1.7000000000000002' '1.0999999999999999' '37.2'\n",
      " '21.099999999999998']\n",
      "T4U_measured: ['t' 'f' 'y' 'n']\n",
      "T4U: ['1.14' '?' '0.91' '0.87' '1.3' '0.92' '0.7' '0.93' '0.89' '0.95' '0.99'\n",
      " '1.13' '0.86' '0.96' '0.94' '0.9' '1.02' '1.05' '0.62' '1.06' '1.55'\n",
      " '0.83' '1.09' '1.07' '1.27' '0.76' '1.16' '1' '0.56' '0.81' '0.68' '0.78'\n",
      " '0.85' '1.35' '1.15' '0.82' '1.03' '1.58' '0.79' '1.17' '0.71' '0.72'\n",
      " '0.88' '1.11' '1.2' '1.1' '1.33' '0.77' '1.24' '0.53' '1.44' '1.63'\n",
      " '1.51' '1.42' '1.23' '1.01' '0.98' '0.61' '1.12' '1.43' '1.25' '1.41'\n",
      " '1.68' '0.97' '0.84' '0.8' '1.04' '0.73' '1.08' '1.26' '1.46' '1.29'\n",
      " '1.34' '1.66' '1.21' '1.19' '0.75' '0.52' '1.83' '1.39' '1.5' '1.93'\n",
      " '1.18' '0.74' '0.58' '1.82' '0.6' '1.67' '1.22' '0.66' '0.67' '1.31'\n",
      " '0.54' '1.77' '1.59' '1.97' '1.69' '1.38' '1.28' '1.4' '0.69' '0.65'\n",
      " '1.74' '2.03' '1.73' '1.65' '1.36' '1.52' '0.57' '1.53' '1.84' '1.57'\n",
      " '1.75' '1.32' '1.37' '0.64' '1.79' '1.8' '0.48' '1.71' '1.62' '1.76'\n",
      " '1.56' '1.48' '0.59' '0.31' '1.94' '2.12' '1.47' '0.63' '0.944' '0.49'\n",
      " '1.88' '0.5' '0.38' '1.49' '0.41' '1.61' '1.7' '2.32' '0.46' '1.45'\n",
      " '1.54' '0.47' '0.36' '2.01' '0.25' '0.32' '0.55' '0.35' '0.3' '0.2' '0.4'\n",
      " '1.86' '0.29' '0.34' '0.28' '1.96' '1.64' '0.19' '1.78' '1.89' '0.44'\n",
      " '0.17' '1.6' '1.87' '0.37' '0.45' '1.95' '0.51' '2.33' '0.42' '1.81'\n",
      " '2.15' '2.02' '2.16' '2' '1.10' '0.90' '0.80' '1.40' '0.70' '1.20' '1.50'\n",
      " '0' '1.70' '1.30' '0.30' '0.60' '1.80' '0.20' '0.33' '2.21' '1.72' '0.27'\n",
      " '0.50' '0.40' '13.100000000000001' '7.8' '10.0' '8.799999999999999'\n",
      " '13.5' '11.3' '14.399999999999999' '9.6' '10.4' '8.7' '9.0' '9.3'\n",
      " '9.700000000000001' '11.600000000000001' '8.3' '7.3999999999999995' '9.2'\n",
      " '11.200000000000001' '10.7' '8.1' '10.299999999999999'\n",
      " '10.100000000000001' '9.5' '9.8' '8.200000000000001' '10.2' '7.3' '8.9'\n",
      " '8.4' '6.7' '13.700000000000001' '14.6' '12.6' '12.9' '5.800000000000001'\n",
      " '8.0' '11.4' '9.4' '6.0' '13.600000000000001' '15.0' '10.8' '15.6' '7.6'\n",
      " '11.0' '6.4' '10.9' '6.1' '7.9' '14.899999999999999' '11.5'\n",
      " '15.299999999999999' '5.5' '9.1' '13.900000000000002' '5.4' '13.8' '5.2'\n",
      " '8.5' '18.0' '17.8' '7.000000000000001' '9.9' '6.3' '6.2' '8.6' '12.0'\n",
      " '7.199999999999999' '7.7' '14.2' '14.000000000000002' '11.1' '15.8'\n",
      " '12.5' '12.1' '18.9' '12.8' '6.9' '4.3999999999999995' '7.5'\n",
      " '17.299999999999997' '14.299999999999999' '12.2' '11.899999999999999'\n",
      " '12.4' '15.5' '6.6000000000000005' '18.4' '12.3' '6.800000000000001'\n",
      " '7.1' '13.4' '13.200000000000001' '14.7' '15.7' '15.1' '13.0' '13.3'\n",
      " '15.9' '14.799999999999999' '1.7000000000000002' '16.0' '15.2' '17.1'\n",
      " '14.099999999999998' '6.5' '18.7' '4.7' '17.0' '16.6'\n",
      " '3.6999999999999997' '16.1' '5.7' '5.6000000000000005' '4.5' '4.9' '12.7'\n",
      " '3.2' '16.7' '19.5' '5.1' '16.3' '23.3' '16.2' '4.1000000000000005' '4.6'\n",
      " '17.5' '4.2' '18.099999999999998' '21.5' '16.400000000000002'\n",
      " '17.599999999999998' '17.4' '20.200000000000003' '21.6' '17.7' '15.4'\n",
      " '16.5' '20.0' '17.9' '2.8000000000000003' '18.2' '5.0' '1.9' '16.8' '3.1'\n",
      " '19.7' '14.499999999999998' '19.400000000000002' '18.3'\n",
      " '16.900000000000002' '18.8' '4.8' '3.5999999999999996'\n",
      " '23.200000000000003' '3.8' '2.5' '20.3' '19.3' '21.0' '20.1']\n",
      "FTI_measured: ['t' 'f' 'y' 'n']\n",
      "FTI: ['109' '?' '120' '70' '141' '78' '115' '132' '93' '121' '153' '151' '107'\n",
      " '119' '87' '81' '104' '130' '106' '116' '131' '190' '92' '102' '76' '98'\n",
      " '90' '61' '94' '129' '95' '91' '33' '113' '148' '140' '171' '155' '186'\n",
      " '122' '136' '110' '111' '97' '72' '100' '88' '67' '84' '103' '135' '203'\n",
      " '112' '117' '180' '142' '145' '156' '96' '134' '8.9' '60' '139' '41' '99'\n",
      " '89' '146' '124' '105' '85' '157' '143' '71' '221' '28' '108' '137' '83'\n",
      " '74' '170' '65' '101' '127' '274' '154' '114' '62' '86' '126' '125' '64'\n",
      " '172' '162' '79' '118' '73' '152' '163' '149' '14' '51' '165' '77' '32'\n",
      " '69' '80' '11' '54' '164' '123' '144' '10' '214' '200' '160' '53' '16'\n",
      " '138' '169' '56' '47' '133' '43' '68' '179' '224' '220' '82' '362' '182'\n",
      " '75' '66' '161' '57' '58' '312' '63' '128' '147' '158' '281' '207' '216'\n",
      " '251' '194' '46' '7' '42' '174' '395' '185' '13' '201' '48' '173' '167'\n",
      " '188' '150' '235' '175' '159' '5.4' '189' '59' '166' '34' '228' '232'\n",
      " '217' '177' '176' '195' '219' '17' '210' '168' '205' '39' '187' '50'\n",
      " '349' '52' '206' '253' '242' '244' '213' '178' '247' '215' '198' '19'\n",
      " '237' '37' '7.6' '24' '2' '3' '191' '223' '9' '29' '222' '204' '26' '218'\n",
      " '197' '49' '209' '183' '265' '199' '196' '20' '283' '36' '249' '181'\n",
      " '8.4' '291' '55' '245' '18' '40' '8.5' '184' '4' '21' '280' '2.8' '9.1'\n",
      " '27' '15' '35' '227' '31' '7.5' '354' '316' '258' '5' '272' '263' '337'\n",
      " '634' '650' '12' '44' '3.4' '2.5' '3.5' '45' '193' '6' '485' '428' '450'\n",
      " '202' '839' '332' '305' '299' '266' '370' '22' '254' '345' '211' '550'\n",
      " '23' '257' '192' '208' '6.6' '240' '259' '212' '347' '256' '308' '482'\n",
      " '264' '881' '1.4' '271' '334' '612' '445' '9.099999' '239' '273' '356'\n",
      " '2.4' '8.299999' '236' '8.7' '262' '3.84' '231' '369' '3.1' '378' '546'\n",
      " '268' '25' '298' '241' '642' '238' '233' '325' '255' '4.5' '519' '4.15'\n",
      " '297' '4.85' '321' '226' '290' '243' '5.5' '288' '38' '329' '0' '7.50'\n",
      " '8.40' '8.50' '7.20' '6.60' '1.40' '3.40' '8.90' '5.50' '2.80' '8.70'\n",
      " '695' '741' '246' '470' '292' '359' '250' '711' '248' '852' '229' '615'\n",
      " '702' '355' '10.7' '23.9' '9.9' '10.9' '9.3' '8.315999999999999'\n",
      " '11.745999999999999' '2.6' '17.0' '12.4' '8.1' '13.600000000000001'\n",
      " '12.0' '27.3' '12.266' '13.8' '12.1' '11.200000000000001' '10.4' '15.2'\n",
      " '15.5' '16.900000000000002' '7.3999999999999995' '10.668999999999999'\n",
      " '8.523' '12.6' '8.0' '19.5' '11.600000000000001' '14.799999999999999'\n",
      " '10.8' '11.899999999999999' '20.3' '10.2' '5.0' '13.100000000000001'\n",
      " '11.700000000000001' '14.399999999999999' '12.8' '11.0' '11.5' '9.6'\n",
      " '10.914' '7.172000000000001' '13.4' '13.200000000000001'\n",
      " '7.000000000000001' '24.7' '16.2' '25.4' '10.100000000000001' '13.5'\n",
      " '11.3' '6.4' '7.3' '10.0' '9.8' '14.6' '7.9' '16.5' '14.000000000000002'\n",
      " '5.6000000000000005' '6.2' '12.784999999999998' '12.3' '3.9' '13.617'\n",
      " '15.6' '15.1' '6.7' '8.6' '11.776' '7.380000000000001' '15.4'\n",
      " '17.599999999999998' '9.0' '10.5' '15.0' '12.2' '9.700000000000001'\n",
      " '10.6' '4.6' '8.799999999999999' '14.299999999999999' '0.4'\n",
      " '10.299999999999999' '11.538' '9.5' '9.2' '13.0' '14.099999999999998'\n",
      " '35.6' '23.7' '13.900000000000002' '13.700000000000001' '3.042'\n",
      " '6.800000000000001' '2.3' '15.299999999999999' '11.1' '0.24' '12.9'\n",
      " '11.4' '14.899999999999999' '9.4' '13.3' '5.1' '4.0' '11.799999999999999'\n",
      " '8.212' '8.004' '0.8290000000000001' '14.863999999999999' '13.721'\n",
      " '8.200000000000001' '11.225999999999999' '16.1' '8.3' '15.072' '14.137'\n",
      " '17.4' '5.2' '19.400000000000002' '2.1999999999999997' '19.6'\n",
      " '14.499999999999998' '14.449000000000002' '2.0' '20.599999999999998'\n",
      " '10.187' '6.5' '12.7' '5.8999999999999995' '12.5' '15.9'\n",
      " '21.099999999999998' '11.642' '15.7' '23.599999999999998'\n",
      " '16.400000000000002' '10.107' '12.577' '17.7' '6.9' '9.875' '1.2' '9.043'\n",
      " '19.0' '14.7' '17.2' '18.2' '18.398999999999997' '6.3' '4.3' '10.041'\n",
      " '10.291' '7.199999999999999' '16.6' '20.1' '7.8' '0.8699999999999999'\n",
      " '7.531000000000001' '15.8' '26.200000000000003' '11.401' '4.8'\n",
      " '1.4000000000000001' '10.083' '19.7' '14.2' '12.058' '3.5000000000000004'\n",
      " '20.4' '17.9' '23.5' '0.384' '1.3' '17.299999999999997' '11.434'\n",
      " '26.400000000000002' '15.592' '23.1' '0.909' '22.400000000000002'\n",
      " '10.602' '4.1000000000000005' '4.2' '36.9' '18.4' '7.7'\n",
      " '14.760000000000002' '18.6' '22.1' '19.8' '1.9' '18.3' '10.706'\n",
      " '2.9000000000000004' '17.8' '18.9' '15.384' '15.695999999999998' '0.31'\n",
      " '16.3' '21.8' '18.5' '3.4000000000000004' '37.8' '5.925' '7.1' '0.3'\n",
      " '16.0' '13.097' '9.667' '18.0' '21.6' '12.370000000000001' '14.016'\n",
      " '19.542' '22.7' '18.8' '6.1' '54.6' '16.7' '20.0' '5.509'\n",
      " '12.681000000000001' '26.8' '18.7' '6.6000000000000005' '5.7' '20.9'\n",
      " '10.878' '7.796' '4.7' '20.7' '5.3' '16.216' '16.8' '15.28' '12.552'\n",
      " '25.8' '25.3' '19.334' '20.5' '7.587000000000001' '10.395' '25.1'\n",
      " '1.7999999999999998' '19.3' '29.799999999999997' '17.5' '33.2' '19.126'\n",
      " '17.1' '15.488' '24.099999999999998' '9.771' '9.623' '12.162'\n",
      " '0.8999999999999999' '64.2' '18.099999999999998' '13.408999999999999'\n",
      " '0.25' '3.5999999999999996' '7.0680000000000005' '8.108' '12.474' '21.7'\n",
      " '13.305' '17.567' '9.728' '23.799999999999997' '0.5' '23.3' '8.627'\n",
      " '5.800000000000001' '32.5' '11.018' '24.2' '25.5' '11.953999999999999'\n",
      " '9.937' '0.44999999999999996' '51.9' '0.415' '8.731' '29.7'\n",
      " '1.7000000000000002' '19.1' '0.485' '4.9' '26.6' '10.81' '11.122'\n",
      " '2.8000000000000003' '11.33' '19.2' '22.8' '32.1' '20.200000000000003'\n",
      " '22.6' '19.900000000000002' '7.739999999999999' '1.6' '1.5' '9.563'\n",
      " '25.900000000000002' '14.249999999999998' '28.999999999999996' '21.9'\n",
      " '18.503' '16.424' '17.358999999999998' '24.3' '21.517'\n",
      " '0.5499999999999999' '7.483' '28.799999999999997' '22.3' '8.939' '3.8'\n",
      " '6.0' '6.548' '33.4' '32.9' '20.061999999999998' '9.475'\n",
      " '1.0999999999999999' '11.207' '61.199999999999996' '44.5' '10.483' '24.4'\n",
      " '10.383000000000001' '13.103000000000002' '0.27999999999999997'\n",
      " '28.299999999999997' '11.895' '22.2' '8.77' '7.692' '13.81' '10.685'\n",
      " '13.003' '7.492' '9.173' '0.76' '8.266' '14.817' '8.971'\n",
      " '14.313999999999998' '10.08' '9.778' '9.375' '6.35' '0.54' '10.987'\n",
      " '11.29' '8.870000000000001' '6.493' '7.192' '7.762' '1.0' '39.5' '6.955'\n",
      " '10.488999999999999' '2.1' '21.4' '10.181' '7.3580000000000005'\n",
      " '3.6999999999999997' '13.709' '1.347' '11.794' '0.5579999999999999'\n",
      " '0.914' '17.641000000000002' '10.282' '0.7000000000000001' '3.528' '31.2'\n",
      " '6.854' '9.879' '3.3000000000000003' '21.3' '9.15' '3.225'\n",
      " '27.400000000000002' '7.392' '2.217' '7.792000000000001' '21.0' '9.09'\n",
      " '9.274000000000001' '2.7' '18.346' '7.661' '8.466999999999999' '8.366'\n",
      " '8.165' '0.2' '17.036' '24.9' '9.979000000000001' '11.088000000000001'\n",
      " '34.9' '2.983' '10.584' '23.200000000000003' '10.088999999999999'\n",
      " '8.568000000000001' '14.616000000000001' '26.5' '28.000000000000004'\n",
      " '12.787' '28.1' '8.669' '5.745' '11.491' '12.298' '11.693000000000001'\n",
      " '9.677' '24.5' '36.199999999999996' '17.54' '21.5' '7.457999999999999'\n",
      " '0.8500000000000001' '6.149' '13.608' '3.2489999999999997'\n",
      " '14.516000000000002' '11.391' '0.889' '0.839' '14.112' '11.688' '3.2'\n",
      " '11.995000000000001' '29.099999999999998' '6.793' '11.591999999999999'\n",
      " '13.407' '16.532' '4.6370000000000005' '4.536' '10.189'\n",
      " '6.6930000000000005' '6.451' '14.011999999999999' '22.0']\n",
      "TBG_measured: ['f' 't' 'n' 'y' nan]\n",
      "TBG: ['?' '11' '26' '36' '21' '28' '23' '18' '33' '20' '19' '30' '29' '24'\n",
      " '9.299999' '25' '53' '27' '50' '32' '31' '41' '43' '12' '39' '108' '0.1'\n",
      " '8.4' '16' '17' '3.1' '22' '35' '49' '100' '37' '38' '63' '8.799999'\n",
      " '200' '65' '15' '14' '190' '9.599999' '69' '34' '44' '72' '135' '0.15'\n",
      " '90' '13' '46' '54' '51' '4.9' '106' '45' '47' '110' '114' '86' '96' '48'\n",
      " '116' '10' '0' '40' '3.10' '9.30' '80' '8.40' '52' '7.30' '8.50' '122'\n",
      " nan]\n",
      "referral_source: ['svhc' 'other' 'svi' 'stmw' 'svhd' 'west' nan]\n",
      "class: ['negative' 'hyperthyroid' 'hypothyroid']\n"
     ]
    }
   ],
   "source": [
    "for i in df.columns:\n",
    "    print(f'{i}: {df[i].unique()}')"
   ]
  },
  {
   "cell_type": "code",
   "execution_count": 11,
   "metadata": {},
   "outputs": [
    {
     "data": {
      "text/plain": [
       "9884"
      ]
     },
     "execution_count": 11,
     "metadata": {},
     "output_type": "execute_result"
    }
   ],
   "source": [
    "df.duplicated().sum()"
   ]
  },
  {
   "cell_type": "code",
   "execution_count": 12,
   "metadata": {},
   "outputs": [],
   "source": [
    "# Check for duplicate rows\n",
    "duplicate_rows = df[df.duplicated()]"
   ]
  },
  {
   "cell_type": "code",
   "execution_count": 13,
   "metadata": {},
   "outputs": [],
   "source": [
    "# Remove duplicate rows and keep the first occurrence\n",
    "df = df.drop_duplicates()"
   ]
  },
  {
   "cell_type": "code",
   "execution_count": 14,
   "metadata": {},
   "outputs": [
    {
     "name": "stderr",
     "output_type": "stream",
     "text": [
      "C:\\Users\\hp\\AppData\\Local\\Temp\\ipykernel_7112\\2259538934.py:2: SettingWithCopyWarning: \n",
      "A value is trying to be set on a copy of a slice from a DataFrame\n",
      "\n",
      "See the caveats in the documentation: https://pandas.pydata.org/pandas-docs/stable/user_guide/indexing.html#returning-a-view-versus-a-copy\n",
      "  df.replace('?', np.nan, inplace=True)\n",
      "C:\\Users\\hp\\AppData\\Local\\Temp\\ipykernel_7112\\2259538934.py:5: SettingWithCopyWarning: \n",
      "A value is trying to be set on a copy of a slice from a DataFrame\n",
      "\n",
      "See the caveats in the documentation: https://pandas.pydata.org/pandas-docs/stable/user_guide/indexing.html#returning-a-view-versus-a-copy\n",
      "  df.replace({'y': 't', 'n': 'f'}, inplace=True)\n",
      "C:\\Users\\hp\\AppData\\Local\\Temp\\ipykernel_7112\\2259538934.py:11: SettingWithCopyWarning: \n",
      "A value is trying to be set on a copy of a slice from a DataFrame\n",
      "\n",
      "See the caveats in the documentation: https://pandas.pydata.org/pandas-docs/stable/user_guide/indexing.html#returning-a-view-versus-a-copy\n",
      "  df[column].replace({'0': 'f', '1': 't'}, inplace=True)\n"
     ]
    }
   ],
   "source": [
    "# Replace '?' with NaN\n",
    "df.replace('?', np.nan, inplace=True)\n",
    "\n",
    "# Replace 'y' with 't' and 'n' with 'f'\n",
    "df.replace({'y': 't', 'n': 'f'}, inplace=True)\n",
    "\n",
    "#Replace '0' with 'f' and '1' with 't'\n",
    "columns_to_replace = ['on_thyroxine', 'query_on_thyroxine', 'on_antithyroid_medication', 'sick', 'pregnant', 'thyroid_surgery', 'I131_treatment', 'query_hypothyroid','query_hyperthyroid', 'lithium', 'goitre', 'tumor', 'hypopituitary', 'psych']\n",
    "\n",
    "for column in columns_to_replace:\n",
    "    df[column].replace({'0': 'f', '1': 't'}, inplace=True)\n"
   ]
  },
  {
   "cell_type": "code",
   "execution_count": 15,
   "metadata": {},
   "outputs": [
    {
     "data": {
      "text/plain": [
       "55537"
      ]
     },
     "execution_count": 15,
     "metadata": {},
     "output_type": "execute_result"
    }
   ],
   "source": [
    "df.isnull().sum().sum()\n",
    "#There are 14,659 missing values"
   ]
  },
  {
   "cell_type": "code",
   "execution_count": 16,
   "metadata": {},
   "outputs": [
    {
     "data": {
      "text/plain": [
       "TBG                          19470\n",
       "referral_source              10355\n",
       "TBG_measured                  7129\n",
       "T3                            3467\n",
       "psych                         3226\n",
       "hypopituitary                 3226\n",
       "I131_treatment                3226\n",
       "TSH                           1419\n",
       "T4U                           1186\n",
       "FTI                           1178\n",
       "TT4                            796\n",
       "age                            453\n",
       "sex                            406\n",
       "goitre                           0\n",
       "T4U_measured                     0\n",
       "on_thyroxine                     0\n",
       "query_on_thyroxine               0\n",
       "on_antithyroid_medication        0\n",
       "sick                             0\n",
       "FTI_measured                     0\n",
       "pregnant                         0\n",
       "thyroid_surgery                  0\n",
       "tumor                            0\n",
       "TT4_measured                     0\n",
       "query_hypothyroid                0\n",
       "T3_measured                      0\n",
       "query_hyperthyroid               0\n",
       "TSH_measured                     0\n",
       "lithium                          0\n",
       "class                            0\n",
       "dtype: int64"
      ]
     },
     "execution_count": 16,
     "metadata": {},
     "output_type": "execute_result"
    }
   ],
   "source": [
    "#Handling missing values\n",
    "df.isnull().sum().sort_values(ascending=False)"
   ]
  },
  {
   "cell_type": "code",
   "execution_count": 17,
   "metadata": {},
   "outputs": [
    {
     "data": {
      "image/png": "[encoded data removed]",
      "text/plain": [
       "<Figure size 1000x600 with 1 Axes>"
      ]
     },
     "metadata": {},
     "output_type": "display_data"
    }
   ],
   "source": [
    "missing_values_count = df.isnull().sum().sort_values(ascending=False)\n",
    "missing_values_count.plot(kind='bar', figsize=(10, 6))\n",
    "plt.title('Missing Values Count by Column')\n",
    "plt.xlabel('Columns')\n",
    "plt.ylabel('Missing Values Count')\n",
    "plt.show()"
   ]
  },
  {
   "cell_type": "markdown",
   "metadata": {},
   "source": [
    "drop those columns that have more than 50% of missing values as they would otherwise make our model biased even if we try to impute mean or median values."
   ]
  },
  {
   "cell_type": "code",
   "execution_count": 17,
   "metadata": {},
   "outputs": [
    {
     "data": {
      "text/plain": [
       "10032"
      ]
     },
     "execution_count": 17,
     "metadata": {},
     "output_type": "execute_result"
    }
   ],
   "source": [
    "threshold = 0.5\n",
    "column_threshold = int(0.5 * len(df))\n",
    "column_threshold"
   ]
  },
  {
   "cell_type": "code",
   "execution_count": 18,
   "metadata": {},
   "outputs": [],
   "source": [
    "# Drop columns with more missing values than the threshold\n",
    "df = df.dropna(axis=1, thresh=column_threshold)"
   ]
  },
  {
   "cell_type": "code",
   "execution_count": 19,
   "metadata": {},
   "outputs": [
    {
     "data": {
      "text/plain": [
       "(20065, 28)"
      ]
     },
     "execution_count": 19,
     "metadata": {},
     "output_type": "execute_result"
    }
   ],
   "source": [
    "df.shape"
   ]
  },
  {
   "cell_type": "markdown",
   "metadata": {},
   "source": [
    "we now have 28 columns remaining and rest two columns are dropped becuase of 50% or more missing values"
   ]
  },
  {
   "cell_type": "markdown",
   "metadata": {},
   "source": [
    "## Dropping the measured columns\n",
    "we are dropping the measured columns because we have already obtained the measurements values.\n",
    "but before dropping the measurements we need to replace the false measurements values with 0 and in case if TRUE value is also missing then we can do mean value replacement."
   ]
  },
  {
   "cell_type": "code",
   "execution_count": 20,
   "metadata": {},
   "outputs": [],
   "source": [
    "# check for missing TRUE and FALSE values in TT4 data\n",
    "tt4_missing_values_true = df.loc[df['TT4_measured'] == 't', 'TT4'].isnull().sum()\n",
    "tt4_missing_values_false = df.loc[df['TT4_measured'] == 'f', 'TT4'].isnull().sum()\n"
   ]
  },
  {
   "cell_type": "code",
   "execution_count": 21,
   "metadata": {},
   "outputs": [
    {
     "name": "stdout",
     "output_type": "stream",
     "text": [
      "0\n",
      "796\n"
     ]
    }
   ],
   "source": [
    "print(tt4_missing_values_true)\n",
    "print(tt4_missing_values_false)\n"
   ]
  },
  {
   "cell_type": "markdown",
   "metadata": {},
   "source": [
    "we can confirm that for this column no TRUE values are missing, we can replace false values with 0 as this test is not conducted"
   ]
  },
  {
   "cell_type": "code",
   "execution_count": 22,
   "metadata": {},
   "outputs": [
    {
     "data": {
      "text/plain": [
       "(20065, 28)"
      ]
     },
     "execution_count": 22,
     "metadata": {},
     "output_type": "execute_result"
    }
   ],
   "source": [
    "df.shape"
   ]
  },
  {
   "cell_type": "code",
   "execution_count": 23,
   "metadata": {},
   "outputs": [],
   "source": [
    "# replacing the false values with 0 \n",
    "df.loc[df['TT4_measured'] == 'f', 'TT4'] = df['TT4'].fillna(0)"
   ]
  },
  {
   "cell_type": "code",
   "execution_count": 24,
   "metadata": {},
   "outputs": [
    {
     "data": {
      "text/plain": [
       "0"
      ]
     },
     "execution_count": 24,
     "metadata": {},
     "output_type": "execute_result"
    }
   ],
   "source": [
    "tt4_missing_values_false = df.loc[df['TT4_measured'] == 'f', 'TT4'].isnull().sum()\n",
    "tt4_missing_values_false"
   ]
  },
  {
   "cell_type": "markdown",
   "metadata": {},
   "source": [
    "#### TSH false value replacement"
   ]
  },
  {
   "cell_type": "code",
   "execution_count": 25,
   "metadata": {},
   "outputs": [
    {
     "name": "stdout",
     "output_type": "stream",
     "text": [
      "0\n",
      "1419\n"
     ]
    }
   ],
   "source": [
    "# check for missing TRUE and FALSE values in TT4 data\n",
    "tsh_missing_values_true = df.loc[df['TSH_measured'] == 't', 'TSH'].isnull().sum()\n",
    "tsh_missing_values_false = df.loc[df['TSH_measured'] == 'f', 'TSH'].isnull().sum()\n",
    "print(tsh_missing_values_true)\n",
    "print(tsh_missing_values_false)"
   ]
  },
  {
   "cell_type": "code",
   "execution_count": 26,
   "metadata": {},
   "outputs": [],
   "source": [
    "df.loc[df['TSH_measured'] == 'f', 'TSH'] = df['TSH'].fillna(0)"
   ]
  },
  {
   "cell_type": "markdown",
   "metadata": {},
   "source": [
    "#### T3 false value replacement"
   ]
  },
  {
   "cell_type": "code",
   "execution_count": 27,
   "metadata": {},
   "outputs": [
    {
     "name": "stdout",
     "output_type": "stream",
     "text": [
      "0\n",
      "3467\n"
     ]
    }
   ],
   "source": [
    "# check for missing TRUE and FALSE values in TT4 data\n",
    "t3_missing_values_true = df.loc[df['T3_measured'] == 't', 'T3'].isnull().sum()\n",
    "t3_missing_values_false = df.loc[df['T3_measured'] == 'f', 'T3'].isnull().sum()\n",
    "print(t3_missing_values_true)\n",
    "print(t3_missing_values_false)"
   ]
  },
  {
   "cell_type": "code",
   "execution_count": 28,
   "metadata": {},
   "outputs": [],
   "source": [
    "df.loc[df['T3_measured'] == 'f', 'T3'] = df['T3'].fillna(0)"
   ]
  },
  {
   "cell_type": "markdown",
   "metadata": {},
   "source": [
    "#### FTI false value replacement"
   ]
  },
  {
   "cell_type": "code",
   "execution_count": 29,
   "metadata": {},
   "outputs": [
    {
     "name": "stdout",
     "output_type": "stream",
     "text": [
      "0\n",
      "1178\n"
     ]
    }
   ],
   "source": [
    "# check for missing TRUE and FALSE values in FTI data\n",
    "FTI_missing_values_true = df.loc[df['FTI_measured'] == 't', 'FTI'].isnull().sum()\n",
    "FTI_missing_values_false = df.loc[df['FTI_measured'] == 'f', 'FTI'].isnull().sum()\n",
    "print(FTI_missing_values_true)\n",
    "print(FTI_missing_values_false)"
   ]
  },
  {
   "cell_type": "code",
   "execution_count": 30,
   "metadata": {},
   "outputs": [],
   "source": [
    "df.loc[df['FTI_measured'] == 'f', 'FTI'] = df['FTI'].fillna(0)"
   ]
  },
  {
   "cell_type": "markdown",
   "metadata": {},
   "source": [
    "#### TT4 false values replacement\n"
   ]
  },
  {
   "cell_type": "code",
   "execution_count": 31,
   "metadata": {},
   "outputs": [
    {
     "name": "stdout",
     "output_type": "stream",
     "text": [
      "0\n",
      "1186\n"
     ]
    }
   ],
   "source": [
    "# check for missing TRUE and FALSE values in T4U data\n",
    "T4U_missing_values_true = df.loc[df['T4U_measured'] == 't', 'T4U'].isnull().sum()\n",
    "T4U_missing_values_false = df.loc[df['T4U_measured'] == 'f', 'T4U'].isnull().sum()\n",
    "print(T4U_missing_values_true)\n",
    "print(T4U_missing_values_false)"
   ]
  },
  {
   "cell_type": "code",
   "execution_count": 32,
   "metadata": {},
   "outputs": [],
   "source": [
    "df.loc[df['T4U_measured'] == 'f', 'T4U'] = df['T4U'].fillna(0)"
   ]
  },
  {
   "cell_type": "markdown",
   "metadata": {},
   "source": [
    "now again check for missing values"
   ]
  },
  {
   "cell_type": "code",
   "execution_count": 33,
   "metadata": {},
   "outputs": [
    {
     "data": {
      "text/plain": [
       "TBG_measured                 7129\n",
       "hypopituitary                3226\n",
       "I131_treatment               3226\n",
       "psych                        3226\n",
       "age                           453\n",
       "sex                           406\n",
       "sick                            0\n",
       "TSH                             0\n",
       "on_thyroxine                    0\n",
       "FTI                             0\n",
       "FTI_measured                    0\n",
       "T4U                             0\n",
       "T4U_measured                    0\n",
       "TT4                             0\n",
       "TT4_measured                    0\n",
       "T3                              0\n",
       "T3_measured                     0\n",
       "TSH_measured                    0\n",
       "pregnant                        0\n",
       "query_on_thyroxine              0\n",
       "tumor                           0\n",
       "goitre                          0\n",
       "lithium                         0\n",
       "query_hyperthyroid              0\n",
       "query_hypothyroid               0\n",
       "on_antithyroid_medication       0\n",
       "thyroid_surgery                 0\n",
       "class                           0\n",
       "dtype: int64"
      ]
     },
     "execution_count": 33,
     "metadata": {},
     "output_type": "execute_result"
    }
   ],
   "source": [
    "df.isnull().sum().sort_values(ascending=False)"
   ]
  },
  {
   "cell_type": "code",
   "execution_count": 34,
   "metadata": {},
   "outputs": [
    {
     "data": {
      "text/plain": [
       "sex\n",
       "f    13638\n",
       "m     6021\n",
       "Name: count, dtype: int64"
      ]
     },
     "execution_count": 34,
     "metadata": {},
     "output_type": "execute_result"
    }
   ],
   "source": [
    "\n",
    "counts = df['hypopituitary'].value_counts()\n",
    "counts\n",
    "#we can replace missing value with 'f' as almost all given values are 'f' \n",
    "\n",
    "df['psych'].value_counts()\n",
    "#here as well we can replace missing value with 'f'\n",
    "\n",
    "df['I131_treatment'].value_counts()\n",
    "#here as well we can replace missing value with 'f'\n",
    "\n",
    "df['sex'].value_counts()\n",
    "#for sex let's do mode imputation and for age do mean imputation"
   ]
  },
  {
   "cell_type": "code",
   "execution_count": 35,
   "metadata": {},
   "outputs": [],
   "source": [
    "mode_columns = ['hypopituitary', 'I131_treatment', 'psych','sex']\n",
    "for column in mode_columns:\n",
    "    mode_value = df[column].mode()[0]  # Get the mode value of the column\n",
    "    df[column].fillna(mode_value, inplace=True)\n",
    "\n",
    "#convert age to numeric data\n",
    "df['age'] = pd.to_numeric(df['age'], errors='coerce')\n",
    "\n",
    "# median_imputation\n",
    "\n",
    "median_value = df['age'].median()  # Calculate the mean of the 'sex' column\n",
    "df['age'].fillna(median_value, inplace=True)\n",
    "\n"
   ]
  },
  {
   "cell_type": "code",
   "execution_count": 36,
   "metadata": {},
   "outputs": [],
   "source": [
    "df1=df"
   ]
  },
  {
   "cell_type": "code",
   "execution_count": 37,
   "metadata": {},
   "outputs": [
    {
     "data": {
      "text/plain": [
       "TBG_measured                 7129\n",
       "age                             0\n",
       "sex                             0\n",
       "FTI                             0\n",
       "FTI_measured                    0\n",
       "T4U                             0\n",
       "T4U_measured                    0\n",
       "TT4                             0\n",
       "TT4_measured                    0\n",
       "T3                              0\n",
       "T3_measured                     0\n",
       "TSH                             0\n",
       "TSH_measured                    0\n",
       "psych                           0\n",
       "hypopituitary                   0\n",
       "tumor                           0\n",
       "goitre                          0\n",
       "lithium                         0\n",
       "query_hyperthyroid              0\n",
       "query_hypothyroid               0\n",
       "I131_treatment                  0\n",
       "thyroid_surgery                 0\n",
       "pregnant                        0\n",
       "sick                            0\n",
       "on_antithyroid_medication       0\n",
       "query_on_thyroxine              0\n",
       "on_thyroxine                    0\n",
       "class                           0\n",
       "dtype: int64"
      ]
     },
     "execution_count": 37,
     "metadata": {},
     "output_type": "execute_result"
    }
   ],
   "source": [
    "df.isnull().sum().sort_values(ascending=False)\n",
    "#only TBG_measured column is remianig which we will  drop "
   ]
  },
  {
   "cell_type": "markdown",
   "metadata": {},
   "source": [
    "We can now observe that the we do not have any missing values, now we can drop the 'measured' columns"
   ]
  },
  {
   "cell_type": "code",
   "execution_count": 38,
   "metadata": {},
   "outputs": [],
   "source": [
    "\n",
    "drop_cols = ['TBG_measured', 'FTI_measured','TT4_measured', 'T3_measured','TSH_measured','T4U_measured']\n",
    "df.drop(columns=drop_cols, inplace=True)"
   ]
  },
  {
   "cell_type": "code",
   "execution_count": 39,
   "metadata": {},
   "outputs": [
    {
     "data": {
      "text/plain": [
       "(20065, 22)"
      ]
     },
     "execution_count": 39,
     "metadata": {},
     "output_type": "execute_result"
    }
   ],
   "source": [
    "df.shape"
   ]
  },
  {
   "cell_type": "code",
   "execution_count": 40,
   "metadata": {},
   "outputs": [
    {
     "data": {
      "text/html": [
       "<div>\n",
       "<style scoped>\n",
       "    .dataframe tbody tr th:only-of-type {\n",
       "        vertical-align: middle;\n",
       "    }\n",
       "\n",
       "    .dataframe tbody tr th {\n",
       "        vertical-align: top;\n",
       "    }\n",
       "\n",
       "    .dataframe thead th {\n",
       "        text-align: right;\n",
       "    }\n",
       "</style>\n",
       "<table border=\"1\" class=\"dataframe\">\n",
       "  <thead>\n",
       "    <tr style=\"text-align: right;\">\n",
       "      <th></th>\n",
       "      <th>age</th>\n",
       "      <th>sex</th>\n",
       "      <th>on_thyroxine</th>\n",
       "      <th>query_on_thyroxine</th>\n",
       "      <th>on_antithyroid_medication</th>\n",
       "      <th>sick</th>\n",
       "      <th>pregnant</th>\n",
       "      <th>thyroid_surgery</th>\n",
       "      <th>I131_treatment</th>\n",
       "      <th>query_hypothyroid</th>\n",
       "      <th>...</th>\n",
       "      <th>goitre</th>\n",
       "      <th>tumor</th>\n",
       "      <th>hypopituitary</th>\n",
       "      <th>psych</th>\n",
       "      <th>TSH</th>\n",
       "      <th>T3</th>\n",
       "      <th>TT4</th>\n",
       "      <th>T4U</th>\n",
       "      <th>FTI</th>\n",
       "      <th>class</th>\n",
       "    </tr>\n",
       "  </thead>\n",
       "  <tbody>\n",
       "    <tr>\n",
       "      <th>0</th>\n",
       "      <td>41.0</td>\n",
       "      <td>f</td>\n",
       "      <td>f</td>\n",
       "      <td>f</td>\n",
       "      <td>f</td>\n",
       "      <td>f</td>\n",
       "      <td>f</td>\n",
       "      <td>f</td>\n",
       "      <td>f</td>\n",
       "      <td>f</td>\n",
       "      <td>...</td>\n",
       "      <td>f</td>\n",
       "      <td>f</td>\n",
       "      <td>f</td>\n",
       "      <td>f</td>\n",
       "      <td>1.3</td>\n",
       "      <td>2.5</td>\n",
       "      <td>125</td>\n",
       "      <td>1.14</td>\n",
       "      <td>109</td>\n",
       "      <td>negative</td>\n",
       "    </tr>\n",
       "    <tr>\n",
       "      <th>1</th>\n",
       "      <td>23.0</td>\n",
       "      <td>f</td>\n",
       "      <td>f</td>\n",
       "      <td>f</td>\n",
       "      <td>f</td>\n",
       "      <td>f</td>\n",
       "      <td>f</td>\n",
       "      <td>f</td>\n",
       "      <td>f</td>\n",
       "      <td>f</td>\n",
       "      <td>...</td>\n",
       "      <td>f</td>\n",
       "      <td>f</td>\n",
       "      <td>f</td>\n",
       "      <td>f</td>\n",
       "      <td>4.1</td>\n",
       "      <td>2</td>\n",
       "      <td>102</td>\n",
       "      <td>0</td>\n",
       "      <td>0</td>\n",
       "      <td>negative</td>\n",
       "    </tr>\n",
       "    <tr>\n",
       "      <th>2</th>\n",
       "      <td>46.0</td>\n",
       "      <td>m</td>\n",
       "      <td>f</td>\n",
       "      <td>f</td>\n",
       "      <td>f</td>\n",
       "      <td>f</td>\n",
       "      <td>f</td>\n",
       "      <td>f</td>\n",
       "      <td>f</td>\n",
       "      <td>f</td>\n",
       "      <td>...</td>\n",
       "      <td>f</td>\n",
       "      <td>f</td>\n",
       "      <td>f</td>\n",
       "      <td>f</td>\n",
       "      <td>0.98</td>\n",
       "      <td>0</td>\n",
       "      <td>109</td>\n",
       "      <td>0.91</td>\n",
       "      <td>120</td>\n",
       "      <td>negative</td>\n",
       "    </tr>\n",
       "    <tr>\n",
       "      <th>3</th>\n",
       "      <td>70.0</td>\n",
       "      <td>f</td>\n",
       "      <td>t</td>\n",
       "      <td>f</td>\n",
       "      <td>f</td>\n",
       "      <td>f</td>\n",
       "      <td>f</td>\n",
       "      <td>f</td>\n",
       "      <td>f</td>\n",
       "      <td>f</td>\n",
       "      <td>...</td>\n",
       "      <td>f</td>\n",
       "      <td>f</td>\n",
       "      <td>f</td>\n",
       "      <td>f</td>\n",
       "      <td>0.16</td>\n",
       "      <td>1.9</td>\n",
       "      <td>175</td>\n",
       "      <td>0</td>\n",
       "      <td>0</td>\n",
       "      <td>negative</td>\n",
       "    </tr>\n",
       "    <tr>\n",
       "      <th>4</th>\n",
       "      <td>70.0</td>\n",
       "      <td>f</td>\n",
       "      <td>f</td>\n",
       "      <td>f</td>\n",
       "      <td>f</td>\n",
       "      <td>f</td>\n",
       "      <td>f</td>\n",
       "      <td>f</td>\n",
       "      <td>f</td>\n",
       "      <td>f</td>\n",
       "      <td>...</td>\n",
       "      <td>f</td>\n",
       "      <td>f</td>\n",
       "      <td>f</td>\n",
       "      <td>f</td>\n",
       "      <td>0.72</td>\n",
       "      <td>1.2</td>\n",
       "      <td>61</td>\n",
       "      <td>0.87</td>\n",
       "      <td>70</td>\n",
       "      <td>negative</td>\n",
       "    </tr>\n",
       "  </tbody>\n",
       "</table>\n",
       "<p>5 rows × 22 columns</p>\n",
       "</div>"
      ],
      "text/plain": [
       "    age sex on_thyroxine query_on_thyroxine on_antithyroid_medication sick  \\\n",
       "0  41.0   f            f                  f                         f    f   \n",
       "1  23.0   f            f                  f                         f    f   \n",
       "2  46.0   m            f                  f                         f    f   \n",
       "3  70.0   f            t                  f                         f    f   \n",
       "4  70.0   f            f                  f                         f    f   \n",
       "\n",
       "  pregnant thyroid_surgery I131_treatment query_hypothyroid  ... goitre tumor  \\\n",
       "0        f               f              f                 f  ...      f     f   \n",
       "1        f               f              f                 f  ...      f     f   \n",
       "2        f               f              f                 f  ...      f     f   \n",
       "3        f               f              f                 f  ...      f     f   \n",
       "4        f               f              f                 f  ...      f     f   \n",
       "\n",
       "  hypopituitary psych   TSH   T3  TT4   T4U  FTI     class  \n",
       "0             f     f   1.3  2.5  125  1.14  109  negative  \n",
       "1             f     f   4.1    2  102     0    0  negative  \n",
       "2             f     f  0.98    0  109  0.91  120  negative  \n",
       "3             f     f  0.16  1.9  175     0    0  negative  \n",
       "4             f     f  0.72  1.2   61  0.87   70  negative  \n",
       "\n",
       "[5 rows x 22 columns]"
      ]
     },
     "execution_count": 40,
     "metadata": {},
     "output_type": "execute_result"
    }
   ],
   "source": [
    "df.head()"
   ]
  },
  {
   "cell_type": "code",
   "execution_count": 41,
   "metadata": {},
   "outputs": [
    {
     "data": {
      "text/plain": [
       "age                          float64\n",
       "sex                           object\n",
       "on_thyroxine                  object\n",
       "query_on_thyroxine            object\n",
       "on_antithyroid_medication     object\n",
       "sick                          object\n",
       "pregnant                      object\n",
       "thyroid_surgery               object\n",
       "I131_treatment                object\n",
       "query_hypothyroid             object\n",
       "query_hyperthyroid            object\n",
       "lithium                       object\n",
       "goitre                        object\n",
       "tumor                         object\n",
       "hypopituitary                 object\n",
       "psych                         object\n",
       "TSH                           object\n",
       "T3                            object\n",
       "TT4                           object\n",
       "T4U                           object\n",
       "FTI                           object\n",
       "class                         object\n",
       "dtype: object"
      ]
     },
     "execution_count": 41,
     "metadata": {},
     "output_type": "execute_result"
    }
   ],
   "source": [
    "df.dtypes"
   ]
  },
  {
   "cell_type": "code",
   "execution_count": 42,
   "metadata": {},
   "outputs": [],
   "source": [
    "#convert hormonal values to numeric datatype\n",
    "numeric_columns = ['TSH', 'T3', 'TT4', 'T4U', 'FTI']\n",
    "\n",
    "for column in numeric_columns:\n",
    "    df[column] = pd.to_numeric(df[column], errors='coerce')"
   ]
  },
  {
   "cell_type": "code",
   "execution_count": 42,
   "metadata": {},
   "outputs": [
    {
     "name": "stdout",
     "output_type": "stream",
     "text": [
      "Unique values in 'sex': ['f' 'm']\n",
      "Unique values in 'on_thyroxine': ['f' 't']\n",
      "Unique values in 'query_on_thyroxine': ['f' 't']\n",
      "Unique values in 'on_antithyroid_medication': ['f' 't']\n",
      "Unique values in 'sick': ['f' 't']\n",
      "Unique values in 'pregnant': ['f' 't']\n",
      "Unique values in 'thyroid_surgery': ['f' 't']\n",
      "Unique values in 'I131_treatment': ['f' 't']\n",
      "Unique values in 'query_hypothyroid': ['f' 't']\n",
      "Unique values in 'query_hyperthyroid': ['f' 't']\n",
      "Unique values in 'lithium': ['f' 't']\n",
      "Unique values in 'goitre': ['f' 't']\n",
      "Unique values in 'tumor': ['f' 't']\n",
      "Unique values in 'hypopituitary': ['f' 't']\n",
      "Unique values in 'psych': ['f' 't']\n",
      "Unique values in 'class': ['negative' 'hyperthyroid' 'hypothyroid']\n"
     ]
    }
   ],
   "source": [
    "# Find categorical columns\n",
    "categorical_columns = df.select_dtypes(include=['object'])\n",
    "\n",
    "# Print unique values for each categorical column\n",
    "for column in categorical_columns:\n",
    "    unique_values = df[column].unique()\n",
    "    print(f\"Unique values in '{column}': {unique_values}\")"
   ]
  },
  {
   "cell_type": "markdown",
   "metadata": {},
   "source": [
    "here we do not see any null as unique value so, it means that our missing value is complete"
   ]
  },
  {
   "cell_type": "markdown",
   "metadata": {},
   "source": [
    "## Outliers detection and removal"
   ]
  },
  {
   "cell_type": "code",
   "execution_count": 43,
   "metadata": {},
   "outputs": [
    {
     "data": {
      "image/png": "[encoded data removed]",
      "text/plain": [
       "<Figure size 1000x1000 with 6 Axes>"
      ]
     },
     "metadata": {},
     "output_type": "display_data"
    }
   ],
   "source": [
    "#Boxplot to detect outlier\n",
    "numerical_col = df.select_dtypes(include=['float64'])\n",
    "\n",
    "fig,axes=plt.subplots(2,3,figsize=(10,10))\n",
    "\n",
    "for ax,col in zip(axes.flatten(),numerical_col.columns):\n",
    "    sns.boxplot(numerical_col[col],ax=ax)\n",
    "    ax.set_title(col)\n",
    "plt.tight_layout()\n",
    "plt.show()"
   ]
  },
  {
   "cell_type": "markdown",
   "metadata": {},
   "source": [
    "we can observe that \"AGE\" column have a very large outlier value we can replace these values"
   ]
  },
  {
   "cell_type": "code",
   "execution_count": 44,
   "metadata": {},
   "outputs": [],
   "source": [
    "# Calculate IQR for the 'age' column\n",
    "Q1 = df['age'].quantile(0.25)\n",
    "Q3 = df['age'].quantile(0.75)\n",
    "IQR = Q3 - Q1\n",
    "\n",
    "# Define the upper and lower bounds for outlier removal\n",
    "lower_bound = Q1 - 1.5 * IQR\n",
    "upper_bound = Q3 + 1.5 * IQR"
   ]
  },
  {
   "cell_type": "code",
   "execution_count": 45,
   "metadata": {},
   "outputs": [],
   "source": [
    "# Remove outliers from the 'age' column\n",
    "df = df[(df['age'] >= lower_bound) & (df['age'] <= upper_bound)]\n"
   ]
  },
  {
   "cell_type": "code",
   "execution_count": 45,
   "metadata": {},
   "outputs": [
    {
     "data": {
      "image/png": "[encoded data removed]",
      "text/plain": [
       "<Figure size 1000x1000 with 6 Axes>"
      ]
     },
     "metadata": {},
     "output_type": "display_data"
    }
   ],
   "source": [
    "#Boxplot to detect outlier\n",
    "numerical_col = df.select_dtypes(include=['float64'])\n",
    "\n",
    "fig,axes=plt.subplots(2,3,figsize=(10,10))\n",
    "\n",
    "for ax,col in zip(axes.flatten(),numerical_col.columns):\n",
    "    sns.boxplot(numerical_col[col],ax=ax)\n",
    "    ax.set_title(col)\n",
    "plt.tight_layout()\n",
    "plt.show()"
   ]
  },
  {
   "cell_type": "markdown",
   "metadata": {},
   "source": [
    "ok now we can observe that the age parameter is well distributed and free from outliers, originally we had 11972 now after removing outliers AGE we have 11967 data points, only 5 points removed: not a big loss.\n"
   ]
  },
  {
   "cell_type": "markdown",
   "metadata": {},
   "source": [
    "Lets check the distribution as well"
   ]
  },
  {
   "cell_type": "code",
   "execution_count": 46,
   "metadata": {},
   "outputs": [
    {
     "data": {
      "text/plain": [
       "(20061, 6)"
      ]
     },
     "execution_count": 46,
     "metadata": {},
     "output_type": "execute_result"
    }
   ],
   "source": [
    "numerical_col=df.select_dtypes(exclude=['object'])\n",
    "numerical_col.shape"
   ]
  },
  {
   "cell_type": "code",
   "execution_count": 47,
   "metadata": {},
   "outputs": [
    {
     "name": "stderr",
     "output_type": "stream",
     "text": [
      "c:\\Users\\hp\\Desktop\\Thyroid-disease-detection\\venv\\lib\\site-packages\\seaborn\\_oldcore.py:1498: FutureWarning: is_categorical_dtype is deprecated and will be removed in a future version. Use isinstance(dtype, CategoricalDtype) instead\n",
      "  if pd.api.types.is_categorical_dtype(vector):\n",
      "c:\\Users\\hp\\Desktop\\Thyroid-disease-detection\\venv\\lib\\site-packages\\seaborn\\_oldcore.py:1119: FutureWarning: use_inf_as_na option is deprecated and will be removed in a future version. Convert inf values to NaN before operating instead.\n",
      "  with pd.option_context('mode.use_inf_as_na', True):\n",
      "c:\\Users\\hp\\Desktop\\Thyroid-disease-detection\\venv\\lib\\site-packages\\seaborn\\_oldcore.py:1498: FutureWarning: is_categorical_dtype is deprecated and will be removed in a future version. Use isinstance(dtype, CategoricalDtype) instead\n",
      "  if pd.api.types.is_categorical_dtype(vector):\n",
      "c:\\Users\\hp\\Desktop\\Thyroid-disease-detection\\venv\\lib\\site-packages\\seaborn\\_oldcore.py:1119: FutureWarning: use_inf_as_na option is deprecated and will be removed in a future version. Convert inf values to NaN before operating instead.\n",
      "  with pd.option_context('mode.use_inf_as_na', True):\n",
      "c:\\Users\\hp\\Desktop\\Thyroid-disease-detection\\venv\\lib\\site-packages\\seaborn\\_oldcore.py:1498: FutureWarning: is_categorical_dtype is deprecated and will be removed in a future version. Use isinstance(dtype, CategoricalDtype) instead\n",
      "  if pd.api.types.is_categorical_dtype(vector):\n",
      "c:\\Users\\hp\\Desktop\\Thyroid-disease-detection\\venv\\lib\\site-packages\\seaborn\\_oldcore.py:1119: FutureWarning: use_inf_as_na option is deprecated and will be removed in a future version. Convert inf values to NaN before operating instead.\n",
      "  with pd.option_context('mode.use_inf_as_na', True):\n",
      "c:\\Users\\hp\\Desktop\\Thyroid-disease-detection\\venv\\lib\\site-packages\\seaborn\\_oldcore.py:1498: FutureWarning: is_categorical_dtype is deprecated and will be removed in a future version. Use isinstance(dtype, CategoricalDtype) instead\n",
      "  if pd.api.types.is_categorical_dtype(vector):\n",
      "c:\\Users\\hp\\Desktop\\Thyroid-disease-detection\\venv\\lib\\site-packages\\seaborn\\_oldcore.py:1119: FutureWarning: use_inf_as_na option is deprecated and will be removed in a future version. Convert inf values to NaN before operating instead.\n",
      "  with pd.option_context('mode.use_inf_as_na', True):\n",
      "c:\\Users\\hp\\Desktop\\Thyroid-disease-detection\\venv\\lib\\site-packages\\seaborn\\_oldcore.py:1498: FutureWarning: is_categorical_dtype is deprecated and will be removed in a future version. Use isinstance(dtype, CategoricalDtype) instead\n",
      "  if pd.api.types.is_categorical_dtype(vector):\n",
      "c:\\Users\\hp\\Desktop\\Thyroid-disease-detection\\venv\\lib\\site-packages\\seaborn\\_oldcore.py:1119: FutureWarning: use_inf_as_na option is deprecated and will be removed in a future version. Convert inf values to NaN before operating instead.\n",
      "  with pd.option_context('mode.use_inf_as_na', True):\n",
      "c:\\Users\\hp\\Desktop\\Thyroid-disease-detection\\venv\\lib\\site-packages\\seaborn\\_oldcore.py:1498: FutureWarning: is_categorical_dtype is deprecated and will be removed in a future version. Use isinstance(dtype, CategoricalDtype) instead\n",
      "  if pd.api.types.is_categorical_dtype(vector):\n",
      "c:\\Users\\hp\\Desktop\\Thyroid-disease-detection\\venv\\lib\\site-packages\\seaborn\\_oldcore.py:1119: FutureWarning: use_inf_as_na option is deprecated and will be removed in a future version. Convert inf values to NaN before operating instead.\n",
      "  with pd.option_context('mode.use_inf_as_na', True):\n"
     ]
    },
    {
     "data": {
      "image/png": "[encoded data removed]",
      "text/plain": [
       "<Figure size 1000x500 with 6 Axes>"
      ]
     },
     "metadata": {},
     "output_type": "display_data"
    }
   ],
   "source": [
    "sns.set_palette(\"Set2\")\n",
    "fig,axes=plt.subplots(2,3,figsize=(10,5))\n",
    "for ax,column in zip(axes.flatten(),numerical_col.columns):\n",
    "    sns.histplot(data=df,x=column,ax=ax,kde=True)\n",
    "    ax.set_title(column, fontsize=12)\n",
    "plt.tight_layout()\n"
   ]
  },
  {
   "cell_type": "code",
   "execution_count": 46,
   "metadata": {},
   "outputs": [],
   "source": [
    "# numerical_columns = ['TSH', 'T3', 'TT4', 'T4U', 'FTI']\n",
    "# # Apply log transformation to the selected columns\n",
    "# transformed_data = df[numerical_columns].apply(np.log1p)\n",
    "\n",
    "\n",
    "# # Combine transformed data with the rest of the columns\n",
    "# data_frame_transformed = pd.concat([df.drop(columns=numerical_columns), transformed_data], axis=1)\n",
    "\n",
    "\n"
   ]
  },
  {
   "cell_type": "code",
   "execution_count": null,
   "metadata": {},
   "outputs": [],
   "source": [
    "# numerical_col = data_frame_transformed.select_dtypes(include=['float64'])\n",
    "# sns.set_palette(\"Set2\")\n",
    "# fig,axes=plt.subplots(2,3,figsize=(10,5))\n",
    "# for ax,column in zip(axes.flatten(),numerical_col.columns):\n",
    "#     sns.histplot(data=data_frame_transformed,x=column,ax=ax,kde=True)\n",
    "#     ax.set_title(column, fontsize=12)\n",
    "# plt.tight_layout()\n"
   ]
  },
  {
   "cell_type": "code",
   "execution_count": 47,
   "metadata": {},
   "outputs": [
    {
     "data": {
      "text/plain": [
       "(20061, 22)"
      ]
     },
     "execution_count": 47,
     "metadata": {},
     "output_type": "execute_result"
    }
   ],
   "source": [
    "df.shape"
   ]
  },
  {
   "cell_type": "markdown",
   "metadata": {},
   "source": [
    "now lets try to work with outliers on TSH columns, find out the %age of TSH points which are greater than 50 with whole datapoint"
   ]
  },
  {
   "cell_type": "code",
   "execution_count": 48,
   "metadata": {},
   "outputs": [
    {
     "data": {
      "text/html": [
       "<div>\n",
       "<style scoped>\n",
       "    .dataframe tbody tr th:only-of-type {\n",
       "        vertical-align: middle;\n",
       "    }\n",
       "\n",
       "    .dataframe tbody tr th {\n",
       "        vertical-align: top;\n",
       "    }\n",
       "\n",
       "    .dataframe thead th {\n",
       "        text-align: right;\n",
       "    }\n",
       "</style>\n",
       "<table border=\"1\" class=\"dataframe\">\n",
       "  <thead>\n",
       "    <tr style=\"text-align: right;\">\n",
       "      <th></th>\n",
       "      <th>class</th>\n",
       "      <th>TSH</th>\n",
       "    </tr>\n",
       "  </thead>\n",
       "  <tbody>\n",
       "    <tr>\n",
       "      <th>88</th>\n",
       "      <td>negative</td>\n",
       "      <td>160.0</td>\n",
       "    </tr>\n",
       "    <tr>\n",
       "      <th>116</th>\n",
       "      <td>negative</td>\n",
       "      <td>151.0</td>\n",
       "    </tr>\n",
       "    <tr>\n",
       "      <th>224</th>\n",
       "      <td>negative</td>\n",
       "      <td>143.0</td>\n",
       "    </tr>\n",
       "    <tr>\n",
       "      <th>259</th>\n",
       "      <td>negative</td>\n",
       "      <td>108.0</td>\n",
       "    </tr>\n",
       "    <tr>\n",
       "      <th>282</th>\n",
       "      <td>negative</td>\n",
       "      <td>86.0</td>\n",
       "    </tr>\n",
       "    <tr>\n",
       "      <th>...</th>\n",
       "      <td>...</td>\n",
       "      <td>...</td>\n",
       "    </tr>\n",
       "    <tr>\n",
       "      <th>22624</th>\n",
       "      <td>negative</td>\n",
       "      <td>71.0</td>\n",
       "    </tr>\n",
       "    <tr>\n",
       "      <th>22648</th>\n",
       "      <td>negative</td>\n",
       "      <td>183.0</td>\n",
       "    </tr>\n",
       "    <tr>\n",
       "      <th>22659</th>\n",
       "      <td>negative</td>\n",
       "      <td>57.0</td>\n",
       "    </tr>\n",
       "    <tr>\n",
       "      <th>22713</th>\n",
       "      <td>negative</td>\n",
       "      <td>143.0</td>\n",
       "    </tr>\n",
       "    <tr>\n",
       "      <th>28680</th>\n",
       "      <td>hyperthyroid</td>\n",
       "      <td>53.0</td>\n",
       "    </tr>\n",
       "  </tbody>\n",
       "</table>\n",
       "<p>330 rows × 2 columns</p>\n",
       "</div>"
      ],
      "text/plain": [
       "              class    TSH\n",
       "88         negative  160.0\n",
       "116        negative  151.0\n",
       "224        negative  143.0\n",
       "259        negative  108.0\n",
       "282        negative   86.0\n",
       "...             ...    ...\n",
       "22624      negative   71.0\n",
       "22648      negative  183.0\n",
       "22659      negative   57.0\n",
       "22713      negative  143.0\n",
       "28680  hyperthyroid   53.0\n",
       "\n",
       "[330 rows x 2 columns]"
      ]
     },
     "execution_count": 48,
     "metadata": {},
     "output_type": "execute_result"
    }
   ],
   "source": [
    "filtered_data = df[\n",
    "    (df['TSH'] > 50) \n",
    "]\n",
    "\n",
    "# Create a new DataFrame with only the selected class names\n",
    "new_data_frame = filtered_data[['class', 'TSH']]\n",
    "\n",
    "new_data_frame"
   ]
  },
  {
   "cell_type": "markdown",
   "metadata": {},
   "source": [
    "if keep ideal threshold like > 50 then we have got 330 rows, now let's try using z-score"
   ]
  },
  {
   "cell_type": "code",
   "execution_count": 49,
   "metadata": {},
   "outputs": [
    {
     "data": {
      "text/plain": [
       "1.6449828024525197"
      ]
     },
     "execution_count": 49,
     "metadata": {},
     "output_type": "execute_result"
    }
   ],
   "source": [
    "(new_data_frame.shape[0]/df.shape[0])*100"
   ]
  },
  {
   "cell_type": "markdown",
   "metadata": {},
   "source": [
    "number of outliers is nearly 1.5 of whole data, but lets do a z-score test and remove all the outliers that are above or below the 3 standard deviations"
   ]
  },
  {
   "cell_type": "code",
   "execution_count": 50,
   "metadata": {},
   "outputs": [
    {
     "name": "stdout",
     "output_type": "stream",
     "text": [
      "0        0.128169\n",
      "1        0.002906\n",
      "2        0.142485\n",
      "3        0.179169\n",
      "4        0.154116\n",
      "           ...   \n",
      "29944    0.186058\n",
      "29945    0.180511\n",
      "29946    0.128169\n",
      "29947    0.182837\n",
      "29948    0.177872\n",
      "Name: TSH, Length: 20061, dtype: float64\n",
      "Outliers:\n",
      "        age sex on_thyroxine query_on_thyroxine on_antithyroid_medication  \\\n",
      "88     39.0   f            f                  f                         f   \n",
      "116    50.0   m            f                  f                         f   \n",
      "224    79.0   f            f                  f                         f   \n",
      "259    63.0   m            f                  f                         f   \n",
      "282    70.0   m            f                  f                         f   \n",
      "...     ...  ..          ...                ...                       ...   \n",
      "22253  15.0   f            t                  f                         f   \n",
      "22260  53.0   f            f                  f                         f   \n",
      "22370  62.0   f            f                  f                         f   \n",
      "22648  60.0   f            f                  f                         f   \n",
      "22713  72.0   f            f                  f                         f   \n",
      "\n",
      "      sick pregnant thyroid_surgery I131_treatment query_hypothyroid  ...  \\\n",
      "88       f        f               f              f                 f  ...   \n",
      "116      f        f               f              f                 f  ...   \n",
      "224      f        f               f              f                 f  ...   \n",
      "259      f        f               f              f                 f  ...   \n",
      "282      f        f               f              f                 f  ...   \n",
      "...    ...      ...             ...            ...               ...  ...   \n",
      "22253    f        f               f              f                 f  ...   \n",
      "22260    f        f               f              f                 f  ...   \n",
      "22370    f        f               f              f                 f  ...   \n",
      "22648    t        f               f              f                 f  ...   \n",
      "22713    f        f               f              f                 f  ...   \n",
      "\n",
      "      goitre tumor hypopituitary psych    TSH   T3   TT4   T4U   FTI     class  \n",
      "88         f     f             f     f  160.0  0.4  11.0  1.24   8.9  negative  \n",
      "116        f     f             f     f  151.0  1.0  32.0  1.16  28.0  negative  \n",
      "224        f     f             f     f  143.0  0.7  73.0  1.01  72.0  negative  \n",
      "259        f     f             f     f  108.0  0.4  14.0  0.98  14.0  negative  \n",
      "282        f     f             f     f   86.0  0.5  27.0  0.84  32.0  negative  \n",
      "...      ...   ...           ...   ...    ...  ...   ...   ...   ...       ...  \n",
      "22253      f     f             f     f  145.0  1.7  19.0  1.13  17.0  negative  \n",
      "22260      f     f             f     f  165.0  0.4  17.0  1.19  14.0  negative  \n",
      "22370      f     f             f     f  150.0  1.6  34.0  1.07  32.0  negative  \n",
      "22648      f     f             f     f  183.0  1.1  45.0  0.97  46.0  negative  \n",
      "22713      f     f             f     f  143.0  0.4  15.0  0.98  15.0  negative  \n",
      "\n",
      "[227 rows x 22 columns]\n"
     ]
    }
   ],
   "source": [
    "# Calculate Z-scores for the 'TSH' column\n",
    "z_scores = np.abs((df['TSH'] - df['TSH'].mean()) / df['TSH'].std())\n",
    "\n",
    "print(z_scores)\n",
    "# Define a threshold for identifying outliers (e.g., Z-score > 3)\n",
    "threshold = 3\n",
    "\n",
    "# Identify outliers\n",
    "outliers = df[z_scores > threshold]\n",
    "\n",
    "print(\"Outliers:\")\n",
    "print(outliers)"
   ]
  },
  {
   "cell_type": "markdown",
   "metadata": {},
   "source": [
    "observe that with z-score thresholds greater than 3 we have only 227 obserations removed, which much better than keeping hard thresholds"
   ]
  },
  {
   "cell_type": "code",
   "execution_count": 51,
   "metadata": {},
   "outputs": [
    {
     "data": {
      "text/plain": [
       "227"
      ]
     },
     "execution_count": 51,
     "metadata": {},
     "output_type": "execute_result"
    }
   ],
   "source": [
    "removal_count = 0\n",
    "removal_count += outliers.shape[0]\n",
    "removal_count"
   ]
  },
  {
   "cell_type": "code",
   "execution_count": 52,
   "metadata": {},
   "outputs": [
    {
     "data": {
      "text/plain": [
       "(20061, 22)"
      ]
     },
     "execution_count": 52,
     "metadata": {},
     "output_type": "execute_result"
    }
   ],
   "source": [
    "df1=df\n",
    "df1.shape"
   ]
  },
  {
   "cell_type": "code",
   "execution_count": 53,
   "metadata": {},
   "outputs": [],
   "source": [
    "df = df1"
   ]
  },
  {
   "cell_type": "code",
   "execution_count": 54,
   "metadata": {},
   "outputs": [
    {
     "data": {
      "text/plain": [
       "(20061, 22)"
      ]
     },
     "execution_count": 54,
     "metadata": {},
     "output_type": "execute_result"
    }
   ],
   "source": [
    "df.shape"
   ]
  },
  {
   "cell_type": "code",
   "execution_count": 55,
   "metadata": {},
   "outputs": [
    {
     "name": "stdout",
     "output_type": "stream",
     "text": [
      "DataFrame without outliers:\n"
     ]
    }
   ],
   "source": [
    "# Select the numerical columns from the dataset\n",
    "numerical_cols = [ 'TT4','TSH', 'T3', 'T4U', 'FTI']\n",
    "\n",
    "# Define a threshold for identifying outliers (e.g., Z-score > 2)\n",
    "threshold = 3\n",
    "\n",
    "# Iterate over the columns and remove outliers\n",
    "non_outliers_data_frame = df.copy()  # Create a copy to store non-outliers\n",
    "for column in numerical_cols:\n",
    "    z_scores = np.abs((non_outliers_data_frame[column] - non_outliers_data_frame[column].mean()) / non_outliers_data_frame[column].std())\n",
    "    non_outliers_data_frame = non_outliers_data_frame[(z_scores <= threshold)]\n",
    "    #removal_count += non_outliers_data_frame.shape[0]\n",
    "\n",
    "print(\"DataFrame without outliers:\")\n",
    "#print(non_outliers_data_frame)\n"
   ]
  },
  {
   "cell_type": "code",
   "execution_count": 56,
   "metadata": {},
   "outputs": [
    {
     "data": {
      "text/plain": [
       "(19454, 22)"
      ]
     },
     "execution_count": 56,
     "metadata": {},
     "output_type": "execute_result"
    }
   ],
   "source": [
    "non_outliers_data_frame.shape"
   ]
  },
  {
   "cell_type": "code",
   "execution_count": 57,
   "metadata": {},
   "outputs": [],
   "source": [
    "data = non_outliers_data_frame"
   ]
  },
  {
   "cell_type": "code",
   "execution_count": 58,
   "metadata": {},
   "outputs": [
    {
     "data": {
      "image/png": "[encoded data removed]",
      "text/plain": [
       "<Figure size 1000x1000 with 6 Axes>"
      ]
     },
     "metadata": {},
     "output_type": "display_data"
    }
   ],
   "source": [
    "#Boxplot to detect outlier\n",
    "numerical_col = non_outliers_data_frame.select_dtypes(include=['float64'])\n",
    "\n",
    "fig,axes=plt.subplots(2,3,figsize=(10,10))\n",
    "\n",
    "for ax,col in zip(axes.flatten(),numerical_col.columns):\n",
    "    sns.boxplot(numerical_col[col],ax=ax)\n",
    "    ax.set_title(col)\n",
    "plt.tight_layout()\n",
    "plt.show()"
   ]
  },
  {
   "cell_type": "code",
   "execution_count": 40,
   "metadata": {},
   "outputs": [
    {
     "name": "stderr",
     "output_type": "stream",
     "text": [
      "c:\\Users\\hp\\Desktop\\Thyroid-disease-detection\\venv\\lib\\site-packages\\seaborn\\_oldcore.py:1498: FutureWarning: is_categorical_dtype is deprecated and will be removed in a future version. Use isinstance(dtype, CategoricalDtype) instead\n",
      "  if pd.api.types.is_categorical_dtype(vector):\n",
      "c:\\Users\\hp\\Desktop\\Thyroid-disease-detection\\venv\\lib\\site-packages\\seaborn\\_oldcore.py:1119: FutureWarning: use_inf_as_na option is deprecated and will be removed in a future version. Convert inf values to NaN before operating instead.\n",
      "  with pd.option_context('mode.use_inf_as_na', True):\n",
      "c:\\Users\\hp\\Desktop\\Thyroid-disease-detection\\venv\\lib\\site-packages\\seaborn\\_oldcore.py:1498: FutureWarning: is_categorical_dtype is deprecated and will be removed in a future version. Use isinstance(dtype, CategoricalDtype) instead\n",
      "  if pd.api.types.is_categorical_dtype(vector):\n",
      "c:\\Users\\hp\\Desktop\\Thyroid-disease-detection\\venv\\lib\\site-packages\\seaborn\\_oldcore.py:1119: FutureWarning: use_inf_as_na option is deprecated and will be removed in a future version. Convert inf values to NaN before operating instead.\n",
      "  with pd.option_context('mode.use_inf_as_na', True):\n",
      "c:\\Users\\hp\\Desktop\\Thyroid-disease-detection\\venv\\lib\\site-packages\\seaborn\\_oldcore.py:1498: FutureWarning: is_categorical_dtype is deprecated and will be removed in a future version. Use isinstance(dtype, CategoricalDtype) instead\n",
      "  if pd.api.types.is_categorical_dtype(vector):\n",
      "c:\\Users\\hp\\Desktop\\Thyroid-disease-detection\\venv\\lib\\site-packages\\seaborn\\_oldcore.py:1119: FutureWarning: use_inf_as_na option is deprecated and will be removed in a future version. Convert inf values to NaN before operating instead.\n",
      "  with pd.option_context('mode.use_inf_as_na', True):\n",
      "c:\\Users\\hp\\Desktop\\Thyroid-disease-detection\\venv\\lib\\site-packages\\seaborn\\_oldcore.py:1498: FutureWarning: is_categorical_dtype is deprecated and will be removed in a future version. Use isinstance(dtype, CategoricalDtype) instead\n",
      "  if pd.api.types.is_categorical_dtype(vector):\n",
      "c:\\Users\\hp\\Desktop\\Thyroid-disease-detection\\venv\\lib\\site-packages\\seaborn\\_oldcore.py:1119: FutureWarning: use_inf_as_na option is deprecated and will be removed in a future version. Convert inf values to NaN before operating instead.\n",
      "  with pd.option_context('mode.use_inf_as_na', True):\n",
      "c:\\Users\\hp\\Desktop\\Thyroid-disease-detection\\venv\\lib\\site-packages\\seaborn\\_oldcore.py:1498: FutureWarning: is_categorical_dtype is deprecated and will be removed in a future version. Use isinstance(dtype, CategoricalDtype) instead\n",
      "  if pd.api.types.is_categorical_dtype(vector):\n",
      "c:\\Users\\hp\\Desktop\\Thyroid-disease-detection\\venv\\lib\\site-packages\\seaborn\\_oldcore.py:1119: FutureWarning: use_inf_as_na option is deprecated and will be removed in a future version. Convert inf values to NaN before operating instead.\n",
      "  with pd.option_context('mode.use_inf_as_na', True):\n",
      "c:\\Users\\hp\\Desktop\\Thyroid-disease-detection\\venv\\lib\\site-packages\\seaborn\\_oldcore.py:1498: FutureWarning: is_categorical_dtype is deprecated and will be removed in a future version. Use isinstance(dtype, CategoricalDtype) instead\n",
      "  if pd.api.types.is_categorical_dtype(vector):\n",
      "c:\\Users\\hp\\Desktop\\Thyroid-disease-detection\\venv\\lib\\site-packages\\seaborn\\_oldcore.py:1119: FutureWarning: use_inf_as_na option is deprecated and will be removed in a future version. Convert inf values to NaN before operating instead.\n",
      "  with pd.option_context('mode.use_inf_as_na', True):\n"
     ]
    },
    {
     "data": {
      "image/png": "[encoded data removed]",
      "text/plain": [
       "<Figure size 1000x500 with 6 Axes>"
      ]
     },
     "metadata": {},
     "output_type": "display_data"
    }
   ],
   "source": [
    "numerical_col = non_outliers_data_frame.select_dtypes(include=['float64'])\n",
    "sns.set_palette(\"Set2\")\n",
    "fig,axes=plt.subplots(2,3,figsize=(10,5))\n",
    "for ax,column in zip(axes.flatten(),numerical_col.columns):\n",
    "    sns.histplot(data=non_outliers_data_frame,x=column,ax=ax,kde=True)\n",
    "    ax.set_title(column, fontsize=12)\n",
    "plt.tight_layout()\n"
   ]
  },
  {
   "cell_type": "markdown",
   "metadata": {},
   "source": [
    "so we can observe that we have removed outliers and our distribution is looking much more gaussian, except that 0 which we have added erly on to replace NaNs"
   ]
  },
  {
   "cell_type": "code",
   "execution_count": 58,
   "metadata": {},
   "outputs": [
    {
     "data": {
      "text/plain": [
       "(19454, 22)"
      ]
     },
     "execution_count": 58,
     "metadata": {},
     "output_type": "execute_result"
    }
   ],
   "source": [
    "non_outliers_data_frame.shape"
   ]
  },
  {
   "cell_type": "code",
   "execution_count": 72,
   "metadata": {},
   "outputs": [
    {
     "data": {
      "text/plain": [
       "607"
      ]
     },
     "execution_count": 72,
     "metadata": {},
     "output_type": "execute_result"
    }
   ],
   "source": [
    "# data loss\n",
    "\n",
    "df.shape[0]-non_outliers_data_frame.shape[0]\n",
    "#607 outliers has been removed"
   ]
  },
  {
   "cell_type": "markdown",
   "metadata": {},
   "source": [
    "#### List the categorical and numerical columns"
   ]
  },
  {
   "cell_type": "code",
   "execution_count": 87,
   "metadata": {},
   "outputs": [],
   "source": [
    "data = non_outliers_data_frame\n"
   ]
  },
  {
   "cell_type": "code",
   "execution_count": 61,
   "metadata": {},
   "outputs": [
    {
     "name": "stdout",
     "output_type": "stream",
     "text": [
      "['age', 'TSH', 'T3', 'TT4', 'T4U', 'FTI']\n",
      "Unique values in 'sex': ['f' 'm']\n",
      "Unique values in 'on_thyroxine': ['f' 't']\n",
      "Unique values in 'query_on_thyroxine': ['f' 't']\n",
      "Unique values in 'on_antithyroid_medication': ['f' 't']\n",
      "Unique values in 'sick': ['f' 't']\n",
      "Unique values in 'pregnant': ['f' 't']\n",
      "Unique values in 'thyroid_surgery': ['f' 't']\n",
      "Unique values in 'I131_treatment': ['f' 't']\n",
      "Unique values in 'query_hypothyroid': ['f' 't']\n",
      "Unique values in 'query_hyperthyroid': ['f' 't']\n",
      "Unique values in 'lithium': ['f' 't']\n",
      "Unique values in 'goitre': ['f' 't']\n",
      "Unique values in 'tumor': ['f' 't']\n",
      "Unique values in 'hypopituitary': ['f' 't']\n",
      "Unique values in 'psych': ['f' 't']\n",
      "Unique values in 'class': ['negative' 'hyperthyroid' 'hypothyroid']\n"
     ]
    }
   ],
   "source": [
    "\n",
    "\n",
    "# List of numerical columns\n",
    "numerical_columns = data.select_dtypes(include=['float64']).columns.tolist()\n",
    "\n",
    "# List of categorical columns\n",
    "categorical_columns = data.select_dtypes(exclude=['float64']).columns.tolist()\n",
    "print(numerical_columns)\n",
    "\n",
    "# Print unique values for each categorical column\n",
    "for column in categorical_columns:\n",
    "    unique_values = data[column].unique()\n",
    "    print(f\"Unique values in '{column}': {unique_values}\")\n"
   ]
  },
  {
   "cell_type": "markdown",
   "metadata": {},
   "source": [
    "#### Replace categoric values with numeric values"
   ]
  },
  {
   "cell_type": "code",
   "execution_count": 88,
   "metadata": {},
   "outputs": [],
   "source": [
    "# map sex column values to 0 and 1\n",
    "data['sex'] = data['sex'].map({'f': 0, 'm': 1})"
   ]
  },
  {
   "cell_type": "code",
   "execution_count": 89,
   "metadata": {},
   "outputs": [
    {
     "data": {
      "text/html": [
       "<div>\n",
       "<style scoped>\n",
       "    .dataframe tbody tr th:only-of-type {\n",
       "        vertical-align: middle;\n",
       "    }\n",
       "\n",
       "    .dataframe tbody tr th {\n",
       "        vertical-align: top;\n",
       "    }\n",
       "\n",
       "    .dataframe thead th {\n",
       "        text-align: right;\n",
       "    }\n",
       "</style>\n",
       "<table border=\"1\" class=\"dataframe\">\n",
       "  <thead>\n",
       "    <tr style=\"text-align: right;\">\n",
       "      <th></th>\n",
       "      <th>age</th>\n",
       "      <th>sex</th>\n",
       "      <th>on_thyroxine</th>\n",
       "      <th>query_on_thyroxine</th>\n",
       "      <th>on_antithyroid_medication</th>\n",
       "      <th>sick</th>\n",
       "      <th>pregnant</th>\n",
       "      <th>thyroid_surgery</th>\n",
       "      <th>I131_treatment</th>\n",
       "      <th>query_hypothyroid</th>\n",
       "      <th>...</th>\n",
       "      <th>goitre</th>\n",
       "      <th>tumor</th>\n",
       "      <th>hypopituitary</th>\n",
       "      <th>psych</th>\n",
       "      <th>TSH</th>\n",
       "      <th>T3</th>\n",
       "      <th>TT4</th>\n",
       "      <th>T4U</th>\n",
       "      <th>FTI</th>\n",
       "      <th>class</th>\n",
       "    </tr>\n",
       "  </thead>\n",
       "  <tbody>\n",
       "    <tr>\n",
       "      <th>0</th>\n",
       "      <td>41.0</td>\n",
       "      <td>NaN</td>\n",
       "      <td>0</td>\n",
       "      <td>0</td>\n",
       "      <td>0</td>\n",
       "      <td>0</td>\n",
       "      <td>0</td>\n",
       "      <td>0</td>\n",
       "      <td>0</td>\n",
       "      <td>0</td>\n",
       "      <td>...</td>\n",
       "      <td>0</td>\n",
       "      <td>0</td>\n",
       "      <td>0</td>\n",
       "      <td>0</td>\n",
       "      <td>1.30</td>\n",
       "      <td>2.5</td>\n",
       "      <td>125.0</td>\n",
       "      <td>1.14</td>\n",
       "      <td>109.0</td>\n",
       "      <td>negative</td>\n",
       "    </tr>\n",
       "    <tr>\n",
       "      <th>1</th>\n",
       "      <td>23.0</td>\n",
       "      <td>NaN</td>\n",
       "      <td>0</td>\n",
       "      <td>0</td>\n",
       "      <td>0</td>\n",
       "      <td>0</td>\n",
       "      <td>0</td>\n",
       "      <td>0</td>\n",
       "      <td>0</td>\n",
       "      <td>0</td>\n",
       "      <td>...</td>\n",
       "      <td>0</td>\n",
       "      <td>0</td>\n",
       "      <td>0</td>\n",
       "      <td>0</td>\n",
       "      <td>4.10</td>\n",
       "      <td>2.0</td>\n",
       "      <td>102.0</td>\n",
       "      <td>0.00</td>\n",
       "      <td>0.0</td>\n",
       "      <td>negative</td>\n",
       "    </tr>\n",
       "    <tr>\n",
       "      <th>2</th>\n",
       "      <td>46.0</td>\n",
       "      <td>NaN</td>\n",
       "      <td>0</td>\n",
       "      <td>0</td>\n",
       "      <td>0</td>\n",
       "      <td>0</td>\n",
       "      <td>0</td>\n",
       "      <td>0</td>\n",
       "      <td>0</td>\n",
       "      <td>0</td>\n",
       "      <td>...</td>\n",
       "      <td>0</td>\n",
       "      <td>0</td>\n",
       "      <td>0</td>\n",
       "      <td>0</td>\n",
       "      <td>0.98</td>\n",
       "      <td>0.0</td>\n",
       "      <td>109.0</td>\n",
       "      <td>0.91</td>\n",
       "      <td>120.0</td>\n",
       "      <td>negative</td>\n",
       "    </tr>\n",
       "    <tr>\n",
       "      <th>3</th>\n",
       "      <td>70.0</td>\n",
       "      <td>NaN</td>\n",
       "      <td>1</td>\n",
       "      <td>0</td>\n",
       "      <td>0</td>\n",
       "      <td>0</td>\n",
       "      <td>0</td>\n",
       "      <td>0</td>\n",
       "      <td>0</td>\n",
       "      <td>0</td>\n",
       "      <td>...</td>\n",
       "      <td>0</td>\n",
       "      <td>0</td>\n",
       "      <td>0</td>\n",
       "      <td>0</td>\n",
       "      <td>0.16</td>\n",
       "      <td>1.9</td>\n",
       "      <td>175.0</td>\n",
       "      <td>0.00</td>\n",
       "      <td>0.0</td>\n",
       "      <td>negative</td>\n",
       "    </tr>\n",
       "    <tr>\n",
       "      <th>4</th>\n",
       "      <td>70.0</td>\n",
       "      <td>NaN</td>\n",
       "      <td>0</td>\n",
       "      <td>0</td>\n",
       "      <td>0</td>\n",
       "      <td>0</td>\n",
       "      <td>0</td>\n",
       "      <td>0</td>\n",
       "      <td>0</td>\n",
       "      <td>0</td>\n",
       "      <td>...</td>\n",
       "      <td>0</td>\n",
       "      <td>0</td>\n",
       "      <td>0</td>\n",
       "      <td>0</td>\n",
       "      <td>0.72</td>\n",
       "      <td>1.2</td>\n",
       "      <td>61.0</td>\n",
       "      <td>0.87</td>\n",
       "      <td>70.0</td>\n",
       "      <td>negative</td>\n",
       "    </tr>\n",
       "  </tbody>\n",
       "</table>\n",
       "<p>5 rows × 22 columns</p>\n",
       "</div>"
      ],
      "text/plain": [
       "    age  sex  on_thyroxine  query_on_thyroxine  on_antithyroid_medication  \\\n",
       "0  41.0  NaN             0                   0                          0   \n",
       "1  23.0  NaN             0                   0                          0   \n",
       "2  46.0  NaN             0                   0                          0   \n",
       "3  70.0  NaN             1                   0                          0   \n",
       "4  70.0  NaN             0                   0                          0   \n",
       "\n",
       "   sick  pregnant  thyroid_surgery  I131_treatment  query_hypothyroid  ...  \\\n",
       "0     0         0                0               0                  0  ...   \n",
       "1     0         0                0               0                  0  ...   \n",
       "2     0         0                0               0                  0  ...   \n",
       "3     0         0                0               0                  0  ...   \n",
       "4     0         0                0               0                  0  ...   \n",
       "\n",
       "   goitre  tumor  hypopituitary  psych   TSH   T3    TT4   T4U    FTI  \\\n",
       "0       0      0              0      0  1.30  2.5  125.0  1.14  109.0   \n",
       "1       0      0              0      0  4.10  2.0  102.0  0.00    0.0   \n",
       "2       0      0              0      0  0.98  0.0  109.0  0.91  120.0   \n",
       "3       0      0              0      0  0.16  1.9  175.0  0.00    0.0   \n",
       "4       0      0              0      0  0.72  1.2   61.0  0.87   70.0   \n",
       "\n",
       "      class  \n",
       "0  negative  \n",
       "1  negative  \n",
       "2  negative  \n",
       "3  negative  \n",
       "4  negative  \n",
       "\n",
       "[5 rows x 22 columns]"
      ]
     },
     "execution_count": 89,
     "metadata": {},
     "output_type": "execute_result"
    }
   ],
   "source": [
    "data.head()"
   ]
  },
  {
   "cell_type": "code",
   "execution_count": 90,
   "metadata": {},
   "outputs": [],
   "source": [
    "categorical_columns_to_convert = [\n",
    "    'on_thyroxine', 'query_on_thyroxine', 'on_antithyroid_medication',\n",
    "    'sick', 'pregnant', 'thyroid_surgery', 'I131_treatment',\n",
    "    'query_hypothyroid', 'query_hyperthyroid', 'lithium', 'goitre',\n",
    "    'tumor', 'hypopituitary', 'psych'\n",
    "]"
   ]
  },
  {
   "cell_type": "code",
   "execution_count": 91,
   "metadata": {},
   "outputs": [],
   "source": [
    "# map all othere categorical function to 0 and 1\n",
    "for column in categorical_columns_to_convert:\n",
    "    if len(data[column].unique()) == 2:\n",
    "       data[column] = data[column].map({'f': 0, 't': 1})"
   ]
  },
  {
   "cell_type": "code",
   "execution_count": 66,
   "metadata": {},
   "outputs": [
    {
     "data": {
      "text/html": [
       "<div>\n",
       "<style scoped>\n",
       "    .dataframe tbody tr th:only-of-type {\n",
       "        vertical-align: middle;\n",
       "    }\n",
       "\n",
       "    .dataframe tbody tr th {\n",
       "        vertical-align: top;\n",
       "    }\n",
       "\n",
       "    .dataframe thead th {\n",
       "        text-align: right;\n",
       "    }\n",
       "</style>\n",
       "<table border=\"1\" class=\"dataframe\">\n",
       "  <thead>\n",
       "    <tr style=\"text-align: right;\">\n",
       "      <th></th>\n",
       "      <th>age</th>\n",
       "      <th>sex</th>\n",
       "      <th>on_thyroxine</th>\n",
       "      <th>query_on_thyroxine</th>\n",
       "      <th>on_antithyroid_medication</th>\n",
       "      <th>sick</th>\n",
       "      <th>pregnant</th>\n",
       "      <th>thyroid_surgery</th>\n",
       "      <th>I131_treatment</th>\n",
       "      <th>query_hypothyroid</th>\n",
       "      <th>...</th>\n",
       "      <th>goitre</th>\n",
       "      <th>tumor</th>\n",
       "      <th>hypopituitary</th>\n",
       "      <th>psych</th>\n",
       "      <th>TSH</th>\n",
       "      <th>T3</th>\n",
       "      <th>TT4</th>\n",
       "      <th>T4U</th>\n",
       "      <th>FTI</th>\n",
       "      <th>class</th>\n",
       "    </tr>\n",
       "  </thead>\n",
       "  <tbody>\n",
       "    <tr>\n",
       "      <th>0</th>\n",
       "      <td>41.0</td>\n",
       "      <td>0</td>\n",
       "      <td>0</td>\n",
       "      <td>0</td>\n",
       "      <td>0</td>\n",
       "      <td>0</td>\n",
       "      <td>0</td>\n",
       "      <td>0</td>\n",
       "      <td>0</td>\n",
       "      <td>0</td>\n",
       "      <td>...</td>\n",
       "      <td>0</td>\n",
       "      <td>0</td>\n",
       "      <td>0</td>\n",
       "      <td>0</td>\n",
       "      <td>1.30</td>\n",
       "      <td>2.5</td>\n",
       "      <td>125.0</td>\n",
       "      <td>1.14</td>\n",
       "      <td>109.0</td>\n",
       "      <td>negative</td>\n",
       "    </tr>\n",
       "    <tr>\n",
       "      <th>1</th>\n",
       "      <td>23.0</td>\n",
       "      <td>0</td>\n",
       "      <td>0</td>\n",
       "      <td>0</td>\n",
       "      <td>0</td>\n",
       "      <td>0</td>\n",
       "      <td>0</td>\n",
       "      <td>0</td>\n",
       "      <td>0</td>\n",
       "      <td>0</td>\n",
       "      <td>...</td>\n",
       "      <td>0</td>\n",
       "      <td>0</td>\n",
       "      <td>0</td>\n",
       "      <td>0</td>\n",
       "      <td>4.10</td>\n",
       "      <td>2.0</td>\n",
       "      <td>102.0</td>\n",
       "      <td>0.00</td>\n",
       "      <td>0.0</td>\n",
       "      <td>negative</td>\n",
       "    </tr>\n",
       "    <tr>\n",
       "      <th>2</th>\n",
       "      <td>46.0</td>\n",
       "      <td>1</td>\n",
       "      <td>0</td>\n",
       "      <td>0</td>\n",
       "      <td>0</td>\n",
       "      <td>0</td>\n",
       "      <td>0</td>\n",
       "      <td>0</td>\n",
       "      <td>0</td>\n",
       "      <td>0</td>\n",
       "      <td>...</td>\n",
       "      <td>0</td>\n",
       "      <td>0</td>\n",
       "      <td>0</td>\n",
       "      <td>0</td>\n",
       "      <td>0.98</td>\n",
       "      <td>0.0</td>\n",
       "      <td>109.0</td>\n",
       "      <td>0.91</td>\n",
       "      <td>120.0</td>\n",
       "      <td>negative</td>\n",
       "    </tr>\n",
       "    <tr>\n",
       "      <th>3</th>\n",
       "      <td>70.0</td>\n",
       "      <td>0</td>\n",
       "      <td>1</td>\n",
       "      <td>0</td>\n",
       "      <td>0</td>\n",
       "      <td>0</td>\n",
       "      <td>0</td>\n",
       "      <td>0</td>\n",
       "      <td>0</td>\n",
       "      <td>0</td>\n",
       "      <td>...</td>\n",
       "      <td>0</td>\n",
       "      <td>0</td>\n",
       "      <td>0</td>\n",
       "      <td>0</td>\n",
       "      <td>0.16</td>\n",
       "      <td>1.9</td>\n",
       "      <td>175.0</td>\n",
       "      <td>0.00</td>\n",
       "      <td>0.0</td>\n",
       "      <td>negative</td>\n",
       "    </tr>\n",
       "    <tr>\n",
       "      <th>4</th>\n",
       "      <td>70.0</td>\n",
       "      <td>0</td>\n",
       "      <td>0</td>\n",
       "      <td>0</td>\n",
       "      <td>0</td>\n",
       "      <td>0</td>\n",
       "      <td>0</td>\n",
       "      <td>0</td>\n",
       "      <td>0</td>\n",
       "      <td>0</td>\n",
       "      <td>...</td>\n",
       "      <td>0</td>\n",
       "      <td>0</td>\n",
       "      <td>0</td>\n",
       "      <td>0</td>\n",
       "      <td>0.72</td>\n",
       "      <td>1.2</td>\n",
       "      <td>61.0</td>\n",
       "      <td>0.87</td>\n",
       "      <td>70.0</td>\n",
       "      <td>negative</td>\n",
       "    </tr>\n",
       "    <tr>\n",
       "      <th>...</th>\n",
       "      <td>...</td>\n",
       "      <td>...</td>\n",
       "      <td>...</td>\n",
       "      <td>...</td>\n",
       "      <td>...</td>\n",
       "      <td>...</td>\n",
       "      <td>...</td>\n",
       "      <td>...</td>\n",
       "      <td>...</td>\n",
       "      <td>...</td>\n",
       "      <td>...</td>\n",
       "      <td>...</td>\n",
       "      <td>...</td>\n",
       "      <td>...</td>\n",
       "      <td>...</td>\n",
       "      <td>...</td>\n",
       "      <td>...</td>\n",
       "      <td>...</td>\n",
       "      <td>...</td>\n",
       "      <td>...</td>\n",
       "      <td>...</td>\n",
       "    </tr>\n",
       "    <tr>\n",
       "      <th>97</th>\n",
       "      <td>39.0</td>\n",
       "      <td>0</td>\n",
       "      <td>0</td>\n",
       "      <td>0</td>\n",
       "      <td>1</td>\n",
       "      <td>0</td>\n",
       "      <td>0</td>\n",
       "      <td>0</td>\n",
       "      <td>0</td>\n",
       "      <td>0</td>\n",
       "      <td>...</td>\n",
       "      <td>0</td>\n",
       "      <td>0</td>\n",
       "      <td>0</td>\n",
       "      <td>0</td>\n",
       "      <td>4.30</td>\n",
       "      <td>2.4</td>\n",
       "      <td>135.0</td>\n",
       "      <td>1.51</td>\n",
       "      <td>89.0</td>\n",
       "      <td>negative</td>\n",
       "    </tr>\n",
       "    <tr>\n",
       "      <th>98</th>\n",
       "      <td>69.0</td>\n",
       "      <td>0</td>\n",
       "      <td>0</td>\n",
       "      <td>0</td>\n",
       "      <td>0</td>\n",
       "      <td>0</td>\n",
       "      <td>0</td>\n",
       "      <td>0</td>\n",
       "      <td>0</td>\n",
       "      <td>0</td>\n",
       "      <td>...</td>\n",
       "      <td>0</td>\n",
       "      <td>0</td>\n",
       "      <td>0</td>\n",
       "      <td>0</td>\n",
       "      <td>1.40</td>\n",
       "      <td>0.0</td>\n",
       "      <td>123.0</td>\n",
       "      <td>0.91</td>\n",
       "      <td>136.0</td>\n",
       "      <td>negative</td>\n",
       "    </tr>\n",
       "    <tr>\n",
       "      <th>99</th>\n",
       "      <td>48.0</td>\n",
       "      <td>0</td>\n",
       "      <td>0</td>\n",
       "      <td>0</td>\n",
       "      <td>0</td>\n",
       "      <td>0</td>\n",
       "      <td>0</td>\n",
       "      <td>0</td>\n",
       "      <td>0</td>\n",
       "      <td>0</td>\n",
       "      <td>...</td>\n",
       "      <td>0</td>\n",
       "      <td>0</td>\n",
       "      <td>0</td>\n",
       "      <td>0</td>\n",
       "      <td>0.30</td>\n",
       "      <td>1.6</td>\n",
       "      <td>86.0</td>\n",
       "      <td>0.93</td>\n",
       "      <td>92.0</td>\n",
       "      <td>negative</td>\n",
       "    </tr>\n",
       "    <tr>\n",
       "      <th>100</th>\n",
       "      <td>28.0</td>\n",
       "      <td>0</td>\n",
       "      <td>0</td>\n",
       "      <td>0</td>\n",
       "      <td>0</td>\n",
       "      <td>0</td>\n",
       "      <td>0</td>\n",
       "      <td>0</td>\n",
       "      <td>0</td>\n",
       "      <td>0</td>\n",
       "      <td>...</td>\n",
       "      <td>0</td>\n",
       "      <td>0</td>\n",
       "      <td>0</td>\n",
       "      <td>0</td>\n",
       "      <td>1.30</td>\n",
       "      <td>1.4</td>\n",
       "      <td>120.0</td>\n",
       "      <td>0.82</td>\n",
       "      <td>146.0</td>\n",
       "      <td>negative</td>\n",
       "    </tr>\n",
       "    <tr>\n",
       "      <th>101</th>\n",
       "      <td>62.0</td>\n",
       "      <td>1</td>\n",
       "      <td>0</td>\n",
       "      <td>0</td>\n",
       "      <td>0</td>\n",
       "      <td>1</td>\n",
       "      <td>0</td>\n",
       "      <td>0</td>\n",
       "      <td>0</td>\n",
       "      <td>0</td>\n",
       "      <td>...</td>\n",
       "      <td>0</td>\n",
       "      <td>0</td>\n",
       "      <td>0</td>\n",
       "      <td>0</td>\n",
       "      <td>12.00</td>\n",
       "      <td>1.5</td>\n",
       "      <td>105.0</td>\n",
       "      <td>0.86</td>\n",
       "      <td>122.0</td>\n",
       "      <td>negative</td>\n",
       "    </tr>\n",
       "  </tbody>\n",
       "</table>\n",
       "<p>100 rows × 22 columns</p>\n",
       "</div>"
      ],
      "text/plain": [
       "      age  sex  on_thyroxine  query_on_thyroxine  on_antithyroid_medication  \\\n",
       "0    41.0    0             0                   0                          0   \n",
       "1    23.0    0             0                   0                          0   \n",
       "2    46.0    1             0                   0                          0   \n",
       "3    70.0    0             1                   0                          0   \n",
       "4    70.0    0             0                   0                          0   \n",
       "..    ...  ...           ...                 ...                        ...   \n",
       "97   39.0    0             0                   0                          1   \n",
       "98   69.0    0             0                   0                          0   \n",
       "99   48.0    0             0                   0                          0   \n",
       "100  28.0    0             0                   0                          0   \n",
       "101  62.0    1             0                   0                          0   \n",
       "\n",
       "     sick  pregnant  thyroid_surgery  I131_treatment  query_hypothyroid  ...  \\\n",
       "0       0         0                0               0                  0  ...   \n",
       "1       0         0                0               0                  0  ...   \n",
       "2       0         0                0               0                  0  ...   \n",
       "3       0         0                0               0                  0  ...   \n",
       "4       0         0                0               0                  0  ...   \n",
       "..    ...       ...              ...             ...                ...  ...   \n",
       "97      0         0                0               0                  0  ...   \n",
       "98      0         0                0               0                  0  ...   \n",
       "99      0         0                0               0                  0  ...   \n",
       "100     0         0                0               0                  0  ...   \n",
       "101     1         0                0               0                  0  ...   \n",
       "\n",
       "     goitre  tumor  hypopituitary  psych    TSH   T3    TT4   T4U    FTI  \\\n",
       "0         0      0              0      0   1.30  2.5  125.0  1.14  109.0   \n",
       "1         0      0              0      0   4.10  2.0  102.0  0.00    0.0   \n",
       "2         0      0              0      0   0.98  0.0  109.0  0.91  120.0   \n",
       "3         0      0              0      0   0.16  1.9  175.0  0.00    0.0   \n",
       "4         0      0              0      0   0.72  1.2   61.0  0.87   70.0   \n",
       "..      ...    ...            ...    ...    ...  ...    ...   ...    ...   \n",
       "97        0      0              0      0   4.30  2.4  135.0  1.51   89.0   \n",
       "98        0      0              0      0   1.40  0.0  123.0  0.91  136.0   \n",
       "99        0      0              0      0   0.30  1.6   86.0  0.93   92.0   \n",
       "100       0      0              0      0   1.30  1.4  120.0  0.82  146.0   \n",
       "101       0      0              0      0  12.00  1.5  105.0  0.86  122.0   \n",
       "\n",
       "        class  \n",
       "0    negative  \n",
       "1    negative  \n",
       "2    negative  \n",
       "3    negative  \n",
       "4    negative  \n",
       "..        ...  \n",
       "97   negative  \n",
       "98   negative  \n",
       "99   negative  \n",
       "100  negative  \n",
       "101  negative  \n",
       "\n",
       "[100 rows x 22 columns]"
      ]
     },
     "execution_count": 66,
     "metadata": {},
     "output_type": "execute_result"
    }
   ],
   "source": [
    "data.head(100)"
   ]
  },
  {
   "cell_type": "code",
   "execution_count": 72,
   "metadata": {},
   "outputs": [
    {
     "name": "stderr",
     "output_type": "stream",
     "text": [
      "c:\\Users\\hp\\Desktop\\Thyroid-disease-detection\\venv\\lib\\site-packages\\seaborn\\_oldcore.py:1498: FutureWarning: is_categorical_dtype is deprecated and will be removed in a future version. Use isinstance(dtype, CategoricalDtype) instead\n",
      "  if pd.api.types.is_categorical_dtype(vector):\n",
      "c:\\Users\\hp\\Desktop\\Thyroid-disease-detection\\venv\\lib\\site-packages\\seaborn\\_oldcore.py:1498: FutureWarning: is_categorical_dtype is deprecated and will be removed in a future version. Use isinstance(dtype, CategoricalDtype) instead\n",
      "  if pd.api.types.is_categorical_dtype(vector):\n",
      "c:\\Users\\hp\\Desktop\\Thyroid-disease-detection\\venv\\lib\\site-packages\\seaborn\\_oldcore.py:1498: FutureWarning: is_categorical_dtype is deprecated and will be removed in a future version. Use isinstance(dtype, CategoricalDtype) instead\n",
      "  if pd.api.types.is_categorical_dtype(vector):\n"
     ]
    },
    {
     "data": {
      "image/png": "[encoded data removed]",
      "text/plain": [
       "<Figure size 640x480 with 1 Axes>"
      ]
     },
     "metadata": {},
     "output_type": "display_data"
    }
   ],
   "source": [
    "sns.set_palette(\"Set2\")\n",
    "sns.countplot(data=data,x=data['class'])\n",
    "plt.xlabel('class')\n",
    "plt.ylabel('count')\n",
    "plt.title('count of classes')\n",
    "\n",
    "plt.xticks(rotation=30)\n",
    "plt.tight_layout()\n",
    "plt.show()"
   ]
  },
  {
   "cell_type": "markdown",
   "metadata": {},
   "source": [
    "we can observe that the data is highly imbalanced and other classes are very less"
   ]
  },
  {
   "cell_type": "code",
   "execution_count": 92,
   "metadata": {},
   "outputs": [],
   "source": [
    "class_counts = data['class'].value_counts()"
   ]
  },
  {
   "cell_type": "code",
   "execution_count": 93,
   "metadata": {},
   "outputs": [],
   "source": [
    "class_counts_df = class_counts.reset_index()\n",
    "class_counts_df.columns = ['class', 'count']"
   ]
  },
  {
   "cell_type": "code",
   "execution_count": 94,
   "metadata": {},
   "outputs": [
    {
     "data": {
      "text/html": [
       "<div>\n",
       "<style scoped>\n",
       "    .dataframe tbody tr th:only-of-type {\n",
       "        vertical-align: middle;\n",
       "    }\n",
       "\n",
       "    .dataframe tbody tr th {\n",
       "        vertical-align: top;\n",
       "    }\n",
       "\n",
       "    .dataframe thead th {\n",
       "        text-align: right;\n",
       "    }\n",
       "</style>\n",
       "<table border=\"1\" class=\"dataframe\">\n",
       "  <thead>\n",
       "    <tr style=\"text-align: right;\">\n",
       "      <th></th>\n",
       "      <th>class</th>\n",
       "      <th>count</th>\n",
       "    </tr>\n",
       "  </thead>\n",
       "  <tbody>\n",
       "    <tr>\n",
       "      <th>0</th>\n",
       "      <td>negative</td>\n",
       "      <td>18071</td>\n",
       "    </tr>\n",
       "    <tr>\n",
       "      <th>1</th>\n",
       "      <td>hypothyroid</td>\n",
       "      <td>1060</td>\n",
       "    </tr>\n",
       "    <tr>\n",
       "      <th>2</th>\n",
       "      <td>hyperthyroid</td>\n",
       "      <td>323</td>\n",
       "    </tr>\n",
       "  </tbody>\n",
       "</table>\n",
       "</div>"
      ],
      "text/plain": [
       "          class  count\n",
       "0      negative  18071\n",
       "1   hypothyroid   1060\n",
       "2  hyperthyroid    323"
      ]
     },
     "execution_count": 94,
     "metadata": {},
     "output_type": "execute_result"
    }
   ],
   "source": [
    "class_counts_df "
   ]
  },
  {
   "cell_type": "markdown",
   "metadata": {},
   "source": [
    "check for duplicate data in the data frame"
   ]
  },
  {
   "cell_type": "code",
   "execution_count": 74,
   "metadata": {},
   "outputs": [
    {
     "data": {
      "text/plain": [
       "1374"
      ]
     },
     "execution_count": 74,
     "metadata": {},
     "output_type": "execute_result"
    }
   ],
   "source": [
    "data.duplicated().sum()\n",
    "#There are 10 duplicated value"
   ]
  },
  {
   "cell_type": "code",
   "execution_count": 75,
   "metadata": {},
   "outputs": [],
   "source": [
    "# Check for duplicate rows\n",
    "duplicate_rows = data[data.duplicated()]"
   ]
  },
  {
   "cell_type": "code",
   "execution_count": 76,
   "metadata": {},
   "outputs": [
    {
     "name": "stdout",
     "output_type": "stream",
     "text": [
      "Duplicate Rows:\n"
     ]
    },
    {
     "data": {
      "text/html": [
       "<div>\n",
       "<style scoped>\n",
       "    .dataframe tbody tr th:only-of-type {\n",
       "        vertical-align: middle;\n",
       "    }\n",
       "\n",
       "    .dataframe tbody tr th {\n",
       "        vertical-align: top;\n",
       "    }\n",
       "\n",
       "    .dataframe thead th {\n",
       "        text-align: right;\n",
       "    }\n",
       "</style>\n",
       "<table border=\"1\" class=\"dataframe\">\n",
       "  <thead>\n",
       "    <tr style=\"text-align: right;\">\n",
       "      <th></th>\n",
       "      <th>age</th>\n",
       "      <th>sex</th>\n",
       "      <th>on_thyroxine</th>\n",
       "      <th>query_on_thyroxine</th>\n",
       "      <th>on_antithyroid_medication</th>\n",
       "      <th>sick</th>\n",
       "      <th>pregnant</th>\n",
       "      <th>thyroid_surgery</th>\n",
       "      <th>I131_treatment</th>\n",
       "      <th>query_hypothyroid</th>\n",
       "      <th>...</th>\n",
       "      <th>goitre</th>\n",
       "      <th>tumor</th>\n",
       "      <th>hypopituitary</th>\n",
       "      <th>psych</th>\n",
       "      <th>TSH</th>\n",
       "      <th>T3</th>\n",
       "      <th>TT4</th>\n",
       "      <th>T4U</th>\n",
       "      <th>FTI</th>\n",
       "      <th>class</th>\n",
       "    </tr>\n",
       "  </thead>\n",
       "  <tbody>\n",
       "    <tr>\n",
       "      <th>685</th>\n",
       "      <td>63.0</td>\n",
       "      <td>0</td>\n",
       "      <td>0</td>\n",
       "      <td>0</td>\n",
       "      <td>0</td>\n",
       "      <td>0</td>\n",
       "      <td>0</td>\n",
       "      <td>0</td>\n",
       "      <td>0</td>\n",
       "      <td>0</td>\n",
       "      <td>...</td>\n",
       "      <td>0</td>\n",
       "      <td>0</td>\n",
       "      <td>0</td>\n",
       "      <td>0</td>\n",
       "      <td>0.0</td>\n",
       "      <td>0.0</td>\n",
       "      <td>0.0</td>\n",
       "      <td>0.0</td>\n",
       "      <td>0.0</td>\n",
       "      <td>negative</td>\n",
       "    </tr>\n",
       "    <tr>\n",
       "      <th>2145</th>\n",
       "      <td>56.0</td>\n",
       "      <td>0</td>\n",
       "      <td>0</td>\n",
       "      <td>0</td>\n",
       "      <td>0</td>\n",
       "      <td>0</td>\n",
       "      <td>0</td>\n",
       "      <td>0</td>\n",
       "      <td>0</td>\n",
       "      <td>0</td>\n",
       "      <td>...</td>\n",
       "      <td>0</td>\n",
       "      <td>0</td>\n",
       "      <td>0</td>\n",
       "      <td>0</td>\n",
       "      <td>0.0</td>\n",
       "      <td>0.0</td>\n",
       "      <td>0.0</td>\n",
       "      <td>0.0</td>\n",
       "      <td>0.0</td>\n",
       "      <td>negative</td>\n",
       "    </tr>\n",
       "    <tr>\n",
       "      <th>7546</th>\n",
       "      <td>41.0</td>\n",
       "      <td>0</td>\n",
       "      <td>0</td>\n",
       "      <td>0</td>\n",
       "      <td>0</td>\n",
       "      <td>0</td>\n",
       "      <td>0</td>\n",
       "      <td>0</td>\n",
       "      <td>0</td>\n",
       "      <td>0</td>\n",
       "      <td>...</td>\n",
       "      <td>0</td>\n",
       "      <td>0</td>\n",
       "      <td>0</td>\n",
       "      <td>0</td>\n",
       "      <td>0.0</td>\n",
       "      <td>0.0</td>\n",
       "      <td>0.0</td>\n",
       "      <td>0.0</td>\n",
       "      <td>0.0</td>\n",
       "      <td>negative</td>\n",
       "    </tr>\n",
       "    <tr>\n",
       "      <th>7548</th>\n",
       "      <td>32.0</td>\n",
       "      <td>0</td>\n",
       "      <td>0</td>\n",
       "      <td>0</td>\n",
       "      <td>0</td>\n",
       "      <td>0</td>\n",
       "      <td>0</td>\n",
       "      <td>0</td>\n",
       "      <td>0</td>\n",
       "      <td>0</td>\n",
       "      <td>...</td>\n",
       "      <td>0</td>\n",
       "      <td>0</td>\n",
       "      <td>0</td>\n",
       "      <td>0</td>\n",
       "      <td>0.0</td>\n",
       "      <td>0.0</td>\n",
       "      <td>0.0</td>\n",
       "      <td>0.0</td>\n",
       "      <td>0.0</td>\n",
       "      <td>negative</td>\n",
       "    </tr>\n",
       "    <tr>\n",
       "      <th>7549</th>\n",
       "      <td>60.0</td>\n",
       "      <td>0</td>\n",
       "      <td>0</td>\n",
       "      <td>0</td>\n",
       "      <td>0</td>\n",
       "      <td>0</td>\n",
       "      <td>0</td>\n",
       "      <td>0</td>\n",
       "      <td>0</td>\n",
       "      <td>0</td>\n",
       "      <td>...</td>\n",
       "      <td>0</td>\n",
       "      <td>0</td>\n",
       "      <td>0</td>\n",
       "      <td>0</td>\n",
       "      <td>0.0</td>\n",
       "      <td>0.0</td>\n",
       "      <td>0.0</td>\n",
       "      <td>0.0</td>\n",
       "      <td>0.0</td>\n",
       "      <td>negative</td>\n",
       "    </tr>\n",
       "  </tbody>\n",
       "</table>\n",
       "<p>5 rows × 22 columns</p>\n",
       "</div>"
      ],
      "text/plain": [
       "       age  sex  on_thyroxine  query_on_thyroxine  on_antithyroid_medication  \\\n",
       "685   63.0    0             0                   0                          0   \n",
       "2145  56.0    0             0                   0                          0   \n",
       "7546  41.0    0             0                   0                          0   \n",
       "7548  32.0    0             0                   0                          0   \n",
       "7549  60.0    0             0                   0                          0   \n",
       "\n",
       "      sick  pregnant  thyroid_surgery  I131_treatment  query_hypothyroid  ...  \\\n",
       "685      0         0                0               0                  0  ...   \n",
       "2145     0         0                0               0                  0  ...   \n",
       "7546     0         0                0               0                  0  ...   \n",
       "7548     0         0                0               0                  0  ...   \n",
       "7549     0         0                0               0                  0  ...   \n",
       "\n",
       "      goitre  tumor  hypopituitary  psych  TSH   T3  TT4  T4U  FTI     class  \n",
       "685        0      0              0      0  0.0  0.0  0.0  0.0  0.0  negative  \n",
       "2145       0      0              0      0  0.0  0.0  0.0  0.0  0.0  negative  \n",
       "7546       0      0              0      0  0.0  0.0  0.0  0.0  0.0  negative  \n",
       "7548       0      0              0      0  0.0  0.0  0.0  0.0  0.0  negative  \n",
       "7549       0      0              0      0  0.0  0.0  0.0  0.0  0.0  negative  \n",
       "\n",
       "[5 rows x 22 columns]"
      ]
     },
     "execution_count": 76,
     "metadata": {},
     "output_type": "execute_result"
    }
   ],
   "source": [
    "# Display duplicate rows (if any)\n",
    "print(\"Duplicate Rows:\")\n",
    "duplicate_rows.head()"
   ]
  },
  {
   "cell_type": "code",
   "execution_count": 77,
   "metadata": {},
   "outputs": [
    {
     "data": {
      "text/plain": [
       "class\n",
       "negative       1327\n",
       "hypothyroid      47\n",
       "Name: count, dtype: int64"
      ]
     },
     "execution_count": 77,
     "metadata": {},
     "output_type": "execute_result"
    }
   ],
   "source": [
    "class_counts = duplicate_rows['class'].value_counts()\n",
    "class_counts"
   ]
  },
  {
   "cell_type": "markdown",
   "metadata": {},
   "source": [
    "eliminate duplicate rows"
   ]
  },
  {
   "cell_type": "code",
   "execution_count": 78,
   "metadata": {},
   "outputs": [],
   "source": [
    "df_no_duplicates = data.drop_duplicates()"
   ]
  },
  {
   "cell_type": "code",
   "execution_count": 79,
   "metadata": {},
   "outputs": [
    {
     "data": {
      "text/plain": [
       "(18080, 22)"
      ]
     },
     "execution_count": 79,
     "metadata": {},
     "output_type": "execute_result"
    }
   ],
   "source": [
    "df_no_duplicates.shape"
   ]
  },
  {
   "cell_type": "code",
   "execution_count": 80,
   "metadata": {},
   "outputs": [
    {
     "name": "stdout",
     "output_type": "stream",
     "text": [
      "(18080, 22)\n"
     ]
    },
    {
     "data": {
      "text/plain": [
       "class\n",
       "negative        16744\n",
       "hypothyroid      1013\n",
       "hyperthyroid      323\n",
       "Name: count, dtype: int64"
      ]
     },
     "execution_count": 80,
     "metadata": {},
     "output_type": "execute_result"
    }
   ],
   "source": [
    "data=df_no_duplicates\n",
    "print(data.shape)\n",
    "data['class'].value_counts()"
   ]
  },
  {
   "cell_type": "code",
   "execution_count": 95,
   "metadata": {},
   "outputs": [
    {
     "name": "stderr",
     "output_type": "stream",
     "text": [
      "c:\\Users\\hp\\Desktop\\Thyroid-disease-detection\\venv\\lib\\site-packages\\seaborn\\_oldcore.py:1498: FutureWarning: is_categorical_dtype is deprecated and will be removed in a future version. Use isinstance(dtype, CategoricalDtype) instead\n",
      "  if pd.api.types.is_categorical_dtype(vector):\n",
      "c:\\Users\\hp\\Desktop\\Thyroid-disease-detection\\venv\\lib\\site-packages\\seaborn\\_oldcore.py:1498: FutureWarning: is_categorical_dtype is deprecated and will be removed in a future version. Use isinstance(dtype, CategoricalDtype) instead\n",
      "  if pd.api.types.is_categorical_dtype(vector):\n",
      "c:\\Users\\hp\\Desktop\\Thyroid-disease-detection\\venv\\lib\\site-packages\\seaborn\\_oldcore.py:1498: FutureWarning: is_categorical_dtype is deprecated and will be removed in a future version. Use isinstance(dtype, CategoricalDtype) instead\n",
      "  if pd.api.types.is_categorical_dtype(vector):\n"
     ]
    },
    {
     "data": {
      "image/png": "[encoded data removed]",
      "text/plain": [
       "<Figure size 640x480 with 1 Axes>"
      ]
     },
     "metadata": {},
     "output_type": "display_data"
    }
   ],
   "source": [
    "data_hypothyroid = data[data['class'] == 'hypothyroid']\n",
    "ax = sns.countplot(x='sex', data=data_hypothyroid)\n",
    "\n",
    "# Add total counts on top of the bars\n",
    "for p in ax.patches:\n",
    "    ax.annotate(f'{p.get_height()}', (p.get_x() + p.get_width() / 2., p.get_height()), ha='center', va='center', fontsize=12, color='black', xytext=(0, 5), textcoords='offset points')\n",
    "plt.title('Hypothyroidism variation with gender')\n",
    "plt.show()"
   ]
  },
  {
   "cell_type": "code",
   "execution_count": 96,
   "metadata": {},
   "outputs": [
    {
     "name": "stderr",
     "output_type": "stream",
     "text": [
      "c:\\Users\\hp\\Desktop\\Thyroid-disease-detection\\venv\\lib\\site-packages\\seaborn\\_oldcore.py:1498: FutureWarning: is_categorical_dtype is deprecated and will be removed in a future version. Use isinstance(dtype, CategoricalDtype) instead\n",
      "  if pd.api.types.is_categorical_dtype(vector):\n",
      "c:\\Users\\hp\\Desktop\\Thyroid-disease-detection\\venv\\lib\\site-packages\\seaborn\\_oldcore.py:1498: FutureWarning: is_categorical_dtype is deprecated and will be removed in a future version. Use isinstance(dtype, CategoricalDtype) instead\n",
      "  if pd.api.types.is_categorical_dtype(vector):\n",
      "c:\\Users\\hp\\Desktop\\Thyroid-disease-detection\\venv\\lib\\site-packages\\seaborn\\_oldcore.py:1498: FutureWarning: is_categorical_dtype is deprecated and will be removed in a future version. Use isinstance(dtype, CategoricalDtype) instead\n",
      "  if pd.api.types.is_categorical_dtype(vector):\n"
     ]
    },
    {
     "data": {
      "image/png": "[encoded data removed]",
      "text/plain": [
       "<Figure size 640x480 with 1 Axes>"
      ]
     },
     "metadata": {},
     "output_type": "display_data"
    }
   ],
   "source": [
    "data_hyperthyroid = data[data['class'] == 'hyperthyroid']\n",
    "ax = sns.countplot(x='sex', data=data_hyperthyroid)\n",
    "\n",
    "# Add total counts on top of the bars\n",
    "for p in ax.patches:\n",
    "    ax.annotate(f'{p.get_height()}', (p.get_x() + p.get_width() / 2., p.get_height()), ha='center', va='center', fontsize=12, color='black', xytext=(0, 5), textcoords='offset points')\n",
    "plt.title('Hyperthyroidism variation with gender')\n",
    "plt.show()"
   ]
  },
  {
   "cell_type": "code",
   "execution_count": 103,
   "metadata": {},
   "outputs": [
    {
     "name": "stderr",
     "output_type": "stream",
     "text": [
      "c:\\Users\\hp\\Desktop\\Thyroid-disease-detection\\venv\\lib\\site-packages\\seaborn\\_oldcore.py:1498: FutureWarning: is_categorical_dtype is deprecated and will be removed in a future version. Use isinstance(dtype, CategoricalDtype) instead\n",
      "  if pd.api.types.is_categorical_dtype(vector):\n",
      "c:\\Users\\hp\\Desktop\\Thyroid-disease-detection\\venv\\lib\\site-packages\\seaborn\\_oldcore.py:1119: FutureWarning: use_inf_as_na option is deprecated and will be removed in a future version. Convert inf values to NaN before operating instead.\n",
      "  with pd.option_context('mode.use_inf_as_na', True):\n"
     ]
    },
    {
     "name": "stderr",
     "output_type": "stream",
     "text": [
      "c:\\Users\\hp\\Desktop\\Thyroid-disease-detection\\venv\\lib\\site-packages\\seaborn\\_oldcore.py:1498: FutureWarning: is_categorical_dtype is deprecated and will be removed in a future version. Use isinstance(dtype, CategoricalDtype) instead\n",
      "  if pd.api.types.is_categorical_dtype(vector):\n",
      "c:\\Users\\hp\\Desktop\\Thyroid-disease-detection\\venv\\lib\\site-packages\\seaborn\\_oldcore.py:1119: FutureWarning: use_inf_as_na option is deprecated and will be removed in a future version. Convert inf values to NaN before operating instead.\n",
      "  with pd.option_context('mode.use_inf_as_na', True):\n"
     ]
    },
    {
     "data": {
      "image/png": "[encoded data removed]",
      "text/plain": [
       "<Figure size 1000x600 with 1 Axes>"
      ]
     },
     "metadata": {},
     "output_type": "display_data"
    }
   ],
   "source": [
    "\n",
    "data_hypothyroid = data[data['class'] == 'hypothyroid']\n",
    "data_hyperthyroid = data[data['class'] == 'hyperthyroid']\n",
    "\n",
    "\n",
    "plt.figure(figsize=(10, 6))\n",
    "\n",
    "sns.histplot(data_hypothyroid['age'], bins=20, alpha=0.5, label='Hypothyroid',kde=True)\n",
    "sns.histplot(data_hyperthyroid['age'], bins=20, alpha=0.5, label='Hyperthyroid',kde=True)\n",
    "\n",
    "\n",
    "plt.title('Age Distribution by Class (Histogram)')\n",
    "plt.xlabel('Age')\n",
    "plt.ylabel('Frequency')\n",
    "plt.legend()\n",
    "plt.show()\n"
   ]
  },
  {
   "cell_type": "code",
   "execution_count": 106,
   "metadata": {},
   "outputs": [
    {
     "name": "stderr",
     "output_type": "stream",
     "text": [
      "c:\\Users\\hp\\Desktop\\Thyroid-disease-detection\\venv\\lib\\site-packages\\seaborn\\_oldcore.py:1498: FutureWarning: is_categorical_dtype is deprecated and will be removed in a future version. Use isinstance(dtype, CategoricalDtype) instead\n",
      "  if pd.api.types.is_categorical_dtype(vector):\n",
      "c:\\Users\\hp\\Desktop\\Thyroid-disease-detection\\venv\\lib\\site-packages\\seaborn\\_oldcore.py:1498: FutureWarning: is_categorical_dtype is deprecated and will be removed in a future version. Use isinstance(dtype, CategoricalDtype) instead\n",
      "  if pd.api.types.is_categorical_dtype(vector):\n"
     ]
    },
    {
     "name": "stderr",
     "output_type": "stream",
     "text": [
      "c:\\Users\\hp\\Desktop\\Thyroid-disease-detection\\venv\\lib\\site-packages\\seaborn\\_oldcore.py:1498: FutureWarning: is_categorical_dtype is deprecated and will be removed in a future version. Use isinstance(dtype, CategoricalDtype) instead\n",
      "  if pd.api.types.is_categorical_dtype(vector):\n",
      "c:\\Users\\hp\\Desktop\\Thyroid-disease-detection\\venv\\lib\\site-packages\\seaborn\\_oldcore.py:1498: FutureWarning: is_categorical_dtype is deprecated and will be removed in a future version. Use isinstance(dtype, CategoricalDtype) instead\n",
      "  if pd.api.types.is_categorical_dtype(vector):\n",
      "c:\\Users\\hp\\Desktop\\Thyroid-disease-detection\\venv\\lib\\site-packages\\seaborn\\_oldcore.py:1498: FutureWarning: is_categorical_dtype is deprecated and will be removed in a future version. Use isinstance(dtype, CategoricalDtype) instead\n",
      "  if pd.api.types.is_categorical_dtype(vector):\n",
      "c:\\Users\\hp\\Desktop\\Thyroid-disease-detection\\venv\\lib\\site-packages\\seaborn\\_oldcore.py:1498: FutureWarning: is_categorical_dtype is deprecated and will be removed in a future version. Use isinstance(dtype, CategoricalDtype) instead\n",
      "  if pd.api.types.is_categorical_dtype(vector):\n",
      "c:\\Users\\hp\\Desktop\\Thyroid-disease-detection\\venv\\lib\\site-packages\\seaborn\\_oldcore.py:1498: FutureWarning: is_categorical_dtype is deprecated and will be removed in a future version. Use isinstance(dtype, CategoricalDtype) instead\n",
      "  if pd.api.types.is_categorical_dtype(vector):\n",
      "c:\\Users\\hp\\Desktop\\Thyroid-disease-detection\\venv\\lib\\site-packages\\seaborn\\_oldcore.py:1498: FutureWarning: is_categorical_dtype is deprecated and will be removed in a future version. Use isinstance(dtype, CategoricalDtype) instead\n",
      "  if pd.api.types.is_categorical_dtype(vector):\n",
      "c:\\Users\\hp\\Desktop\\Thyroid-disease-detection\\venv\\lib\\site-packages\\seaborn\\_oldcore.py:1498: FutureWarning: is_categorical_dtype is deprecated and will be removed in a future version. Use isinstance(dtype, CategoricalDtype) instead\n",
      "  if pd.api.types.is_categorical_dtype(vector):\n",
      "c:\\Users\\hp\\Desktop\\Thyroid-disease-detection\\venv\\lib\\site-packages\\seaborn\\_oldcore.py:1498: FutureWarning: is_categorical_dtype is deprecated and will be removed in a future version. Use isinstance(dtype, CategoricalDtype) instead\n",
      "  if pd.api.types.is_categorical_dtype(vector):\n"
     ]
    },
    {
     "data": {
      "image/png": "[encoded data removed]",
      "text/plain": [
       "<Figure size 1400x800 with 5 Axes>"
      ]
     },
     "metadata": {},
     "output_type": "display_data"
    }
   ],
   "source": [
    "plt.figure(figsize=(14, 8))\n",
    "\n",
    "# Create a box plot for each hormone\n",
    "for hormone in ['T3', 'T4U', 'FTI', 'TT4', 'TSH']:\n",
    "    plt.subplot(2, 3, [1, 2, 3, 4, 5][['T3', 'T4U', 'FTI', 'TT4', 'TSH'].index(hormone)])\n",
    "    sns.boxplot(x='class', y=hormone, data=data, order=['hypothyroid', 'hyperthyroid', 'negative'])\n",
    "    plt.title(f'{hormone} Distribution by Class')\n",
    "    plt.xlabel('Class')\n",
    "    plt.ylabel(hormone)\n",
    "\n",
    "plt.tight_layout()\n",
    "plt.show()\n"
   ]
  },
  {
   "cell_type": "markdown",
   "metadata": {},
   "source": [
    "## Insights\n",
    "- Mostly people are normal. \n",
    "- only 1013 people have hypothyroidism out of 18080\n",
    "- and 323 people have hyperthyroidism out of 18080\n",
    "- It is observed that females have more hypothyroidism compared to males. out of 1013(diagnosed with hypothyroidism), only 226 are males and 787 are females.  \n",
    "- same goes for hyperthyroidims. Out of 323(diagnosed with hyperthyroidism),59 are males and 264 are females.\n",
    "- There is no specific age dependency but it can be obseved that people of around age 60 have more chances of diagnosed with hypothyroidism\n",
    "- T3, FTI, and TT4 is generally higher in case of hyperthyroidism\n"
   ]
  },
  {
   "cell_type": "markdown",
   "metadata": {},
   "source": [
    "As this data is higlhy imbalanced, apply SMOTE technique"
   ]
  },
  {
   "cell_type": "markdown",
   "metadata": {},
   "source": [
    "## SMOTE\n"
   ]
  },
  {
   "cell_type": "code",
   "execution_count": 95,
   "metadata": {},
   "outputs": [
    {
     "name": "stdout",
     "output_type": "stream",
     "text": [
      "Class distribution before SMOTE: Counter({'negative': 18071, 'hypothyroid': 1060, 'hyperthyroid': 323})\n"
     ]
    },
    {
     "ename": "ValueError",
     "evalue": "Input X contains NaN.\nSMOTE does not accept missing values encoded as NaN natively. For supervised learning, you might want to consider sklearn.ensemble.HistGradientBoostingClassifier and Regressor which accept missing values encoded as NaNs natively. Alternatively, it is possible to preprocess the data, for instance by using an imputer transformer in a pipeline or drop samples with missing values. See https://scikit-learn.org/stable/modules/impute.html You can find a list of all estimators that handle NaN values at the following page: https://scikit-learn.org/stable/modules/impute.html#estimators-that-handle-nan-values",
     "output_type": "error",
     "traceback": [
      "\u001b[1;31m---------------------------------------------------------------------------\u001b[0m",
      "\u001b[1;31mValueError\u001b[0m                                Traceback (most recent call last)",
      "\u001b[1;32mc:\\Users\\hp\\Desktop\\Thyroid-disease-detection\\research\\EDA.ipynb Cell 127\u001b[0m line \u001b[0;36m1\n\u001b[0;32m      <a href='vscode-notebook-cell:/c%3A/Users/hp/Desktop/Thyroid-disease-detection/research/EDA.ipynb#Y240sZmlsZQ%3D%3D?line=7'>8</a>\u001b[0m \u001b[39mprint\u001b[39m(\u001b[39m\"\u001b[39m\u001b[39mClass distribution before SMOTE:\u001b[39m\u001b[39m\"\u001b[39m, Counter(y))\n\u001b[0;32m     <a href='vscode-notebook-cell:/c%3A/Users/hp/Desktop/Thyroid-disease-detection/research/EDA.ipynb#Y240sZmlsZQ%3D%3D?line=9'>10</a>\u001b[0m smote \u001b[39m=\u001b[39m SMOTE(sampling_strategy\u001b[39m=\u001b[39m\u001b[39m'\u001b[39m\u001b[39mauto\u001b[39m\u001b[39m'\u001b[39m, random_state\u001b[39m=\u001b[39m\u001b[39m42\u001b[39m)\n\u001b[1;32m---> <a href='vscode-notebook-cell:/c%3A/Users/hp/Desktop/Thyroid-disease-detection/research/EDA.ipynb#Y240sZmlsZQ%3D%3D?line=11'>12</a>\u001b[0m X_resampled, y_resampled \u001b[39m=\u001b[39m smote\u001b[39m.\u001b[39;49mfit_resample(X, y)\n\u001b[0;32m     <a href='vscode-notebook-cell:/c%3A/Users/hp/Desktop/Thyroid-disease-detection/research/EDA.ipynb#Y240sZmlsZQ%3D%3D?line=13'>14</a>\u001b[0m \u001b[39mprint\u001b[39m(\u001b[39m\"\u001b[39m\u001b[39mClass distribution after SMOTE:\u001b[39m\u001b[39m\"\u001b[39m, Counter(y_resampled))\n",
      "File \u001b[1;32mc:\\Users\\hp\\Desktop\\Thyroid-disease-detection\\venv\\lib\\site-packages\\imblearn\\base.py:208\u001b[0m, in \u001b[0;36mBaseSampler.fit_resample\u001b[1;34m(self, X, y)\u001b[0m\n\u001b[0;32m    187\u001b[0m \u001b[39m\u001b[39m\u001b[39m\"\"\"Resample the dataset.\u001b[39;00m\n\u001b[0;32m    188\u001b[0m \n\u001b[0;32m    189\u001b[0m \u001b[39mParameters\u001b[39;00m\n\u001b[1;32m   (...)\u001b[0m\n\u001b[0;32m    205\u001b[0m \u001b[39m    The corresponding label of `X_resampled`.\u001b[39;00m\n\u001b[0;32m    206\u001b[0m \u001b[39m\"\"\"\u001b[39;00m\n\u001b[0;32m    207\u001b[0m \u001b[39mself\u001b[39m\u001b[39m.\u001b[39m_validate_params()\n\u001b[1;32m--> 208\u001b[0m \u001b[39mreturn\u001b[39;00m \u001b[39msuper\u001b[39;49m()\u001b[39m.\u001b[39;49mfit_resample(X, y)\n",
      "File \u001b[1;32mc:\\Users\\hp\\Desktop\\Thyroid-disease-detection\\venv\\lib\\site-packages\\imblearn\\base.py:106\u001b[0m, in \u001b[0;36mSamplerMixin.fit_resample\u001b[1;34m(self, X, y)\u001b[0m\n\u001b[0;32m    104\u001b[0m check_classification_targets(y)\n\u001b[0;32m    105\u001b[0m arrays_transformer \u001b[39m=\u001b[39m ArraysTransformer(X, y)\n\u001b[1;32m--> 106\u001b[0m X, y, binarize_y \u001b[39m=\u001b[39m \u001b[39mself\u001b[39;49m\u001b[39m.\u001b[39;49m_check_X_y(X, y)\n\u001b[0;32m    108\u001b[0m \u001b[39mself\u001b[39m\u001b[39m.\u001b[39msampling_strategy_ \u001b[39m=\u001b[39m check_sampling_strategy(\n\u001b[0;32m    109\u001b[0m     \u001b[39mself\u001b[39m\u001b[39m.\u001b[39msampling_strategy, y, \u001b[39mself\u001b[39m\u001b[39m.\u001b[39m_sampling_type\n\u001b[0;32m    110\u001b[0m )\n\u001b[0;32m    112\u001b[0m output \u001b[39m=\u001b[39m \u001b[39mself\u001b[39m\u001b[39m.\u001b[39m_fit_resample(X, y)\n",
      "File \u001b[1;32mc:\\Users\\hp\\Desktop\\Thyroid-disease-detection\\venv\\lib\\site-packages\\imblearn\\base.py:161\u001b[0m, in \u001b[0;36mBaseSampler._check_X_y\u001b[1;34m(self, X, y, accept_sparse)\u001b[0m\n\u001b[0;32m    159\u001b[0m     accept_sparse \u001b[39m=\u001b[39m [\u001b[39m\"\u001b[39m\u001b[39mcsr\u001b[39m\u001b[39m\"\u001b[39m, \u001b[39m\"\u001b[39m\u001b[39mcsc\u001b[39m\u001b[39m\"\u001b[39m]\n\u001b[0;32m    160\u001b[0m y, binarize_y \u001b[39m=\u001b[39m check_target_type(y, indicate_one_vs_all\u001b[39m=\u001b[39m\u001b[39mTrue\u001b[39;00m)\n\u001b[1;32m--> 161\u001b[0m X, y \u001b[39m=\u001b[39m \u001b[39mself\u001b[39;49m\u001b[39m.\u001b[39;49m_validate_data(X, y, reset\u001b[39m=\u001b[39;49m\u001b[39mTrue\u001b[39;49;00m, accept_sparse\u001b[39m=\u001b[39;49maccept_sparse)\n\u001b[0;32m    162\u001b[0m \u001b[39mreturn\u001b[39;00m X, y, binarize_y\n",
      "File \u001b[1;32mc:\\Users\\hp\\Desktop\\Thyroid-disease-detection\\venv\\lib\\site-packages\\sklearn\\base.py:621\u001b[0m, in \u001b[0;36mBaseEstimator._validate_data\u001b[1;34m(self, X, y, reset, validate_separately, cast_to_ndarray, **check_params)\u001b[0m\n\u001b[0;32m    619\u001b[0m         y \u001b[39m=\u001b[39m check_array(y, input_name\u001b[39m=\u001b[39m\u001b[39m\"\u001b[39m\u001b[39my\u001b[39m\u001b[39m\"\u001b[39m, \u001b[39m*\u001b[39m\u001b[39m*\u001b[39mcheck_y_params)\n\u001b[0;32m    620\u001b[0m     \u001b[39melse\u001b[39;00m:\n\u001b[1;32m--> 621\u001b[0m         X, y \u001b[39m=\u001b[39m check_X_y(X, y, \u001b[39m*\u001b[39m\u001b[39m*\u001b[39mcheck_params)\n\u001b[0;32m    622\u001b[0m     out \u001b[39m=\u001b[39m X, y\n\u001b[0;32m    624\u001b[0m \u001b[39mif\u001b[39;00m \u001b[39mnot\u001b[39;00m no_val_X \u001b[39mand\u001b[39;00m check_params\u001b[39m.\u001b[39mget(\u001b[39m\"\u001b[39m\u001b[39mensure_2d\u001b[39m\u001b[39m\"\u001b[39m, \u001b[39mTrue\u001b[39;00m):\n",
      "File \u001b[1;32mc:\\Users\\hp\\Desktop\\Thyroid-disease-detection\\venv\\lib\\site-packages\\sklearn\\utils\\validation.py:1147\u001b[0m, in \u001b[0;36mcheck_X_y\u001b[1;34m(X, y, accept_sparse, accept_large_sparse, dtype, order, copy, force_all_finite, ensure_2d, allow_nd, multi_output, ensure_min_samples, ensure_min_features, y_numeric, estimator)\u001b[0m\n\u001b[0;32m   1142\u001b[0m         estimator_name \u001b[39m=\u001b[39m _check_estimator_name(estimator)\n\u001b[0;32m   1143\u001b[0m     \u001b[39mraise\u001b[39;00m \u001b[39mValueError\u001b[39;00m(\n\u001b[0;32m   1144\u001b[0m         \u001b[39mf\u001b[39m\u001b[39m\"\u001b[39m\u001b[39m{\u001b[39;00mestimator_name\u001b[39m}\u001b[39;00m\u001b[39m requires y to be passed, but the target y is None\u001b[39m\u001b[39m\"\u001b[39m\n\u001b[0;32m   1145\u001b[0m     )\n\u001b[1;32m-> 1147\u001b[0m X \u001b[39m=\u001b[39m check_array(\n\u001b[0;32m   1148\u001b[0m     X,\n\u001b[0;32m   1149\u001b[0m     accept_sparse\u001b[39m=\u001b[39;49maccept_sparse,\n\u001b[0;32m   1150\u001b[0m     accept_large_sparse\u001b[39m=\u001b[39;49maccept_large_sparse,\n\u001b[0;32m   1151\u001b[0m     dtype\u001b[39m=\u001b[39;49mdtype,\n\u001b[0;32m   1152\u001b[0m     order\u001b[39m=\u001b[39;49morder,\n\u001b[0;32m   1153\u001b[0m     copy\u001b[39m=\u001b[39;49mcopy,\n\u001b[0;32m   1154\u001b[0m     force_all_finite\u001b[39m=\u001b[39;49mforce_all_finite,\n\u001b[0;32m   1155\u001b[0m     ensure_2d\u001b[39m=\u001b[39;49mensure_2d,\n\u001b[0;32m   1156\u001b[0m     allow_nd\u001b[39m=\u001b[39;49mallow_nd,\n\u001b[0;32m   1157\u001b[0m     ensure_min_samples\u001b[39m=\u001b[39;49mensure_min_samples,\n\u001b[0;32m   1158\u001b[0m     ensure_min_features\u001b[39m=\u001b[39;49mensure_min_features,\n\u001b[0;32m   1159\u001b[0m     estimator\u001b[39m=\u001b[39;49mestimator,\n\u001b[0;32m   1160\u001b[0m     input_name\u001b[39m=\u001b[39;49m\u001b[39m\"\u001b[39;49m\u001b[39mX\u001b[39;49m\u001b[39m\"\u001b[39;49m,\n\u001b[0;32m   1161\u001b[0m )\n\u001b[0;32m   1163\u001b[0m y \u001b[39m=\u001b[39m _check_y(y, multi_output\u001b[39m=\u001b[39mmulti_output, y_numeric\u001b[39m=\u001b[39my_numeric, estimator\u001b[39m=\u001b[39mestimator)\n\u001b[0;32m   1165\u001b[0m check_consistent_length(X, y)\n",
      "File \u001b[1;32mc:\\Users\\hp\\Desktop\\Thyroid-disease-detection\\venv\\lib\\site-packages\\sklearn\\utils\\validation.py:959\u001b[0m, in \u001b[0;36mcheck_array\u001b[1;34m(array, accept_sparse, accept_large_sparse, dtype, order, copy, force_all_finite, ensure_2d, allow_nd, ensure_min_samples, ensure_min_features, estimator, input_name)\u001b[0m\n\u001b[0;32m    953\u001b[0m         \u001b[39mraise\u001b[39;00m \u001b[39mValueError\u001b[39;00m(\n\u001b[0;32m    954\u001b[0m             \u001b[39m\"\u001b[39m\u001b[39mFound array with dim \u001b[39m\u001b[39m%d\u001b[39;00m\u001b[39m. \u001b[39m\u001b[39m%s\u001b[39;00m\u001b[39m expected <= 2.\u001b[39m\u001b[39m\"\u001b[39m\n\u001b[0;32m    955\u001b[0m             \u001b[39m%\u001b[39m (array\u001b[39m.\u001b[39mndim, estimator_name)\n\u001b[0;32m    956\u001b[0m         )\n\u001b[0;32m    958\u001b[0m     \u001b[39mif\u001b[39;00m force_all_finite:\n\u001b[1;32m--> 959\u001b[0m         _assert_all_finite(\n\u001b[0;32m    960\u001b[0m             array,\n\u001b[0;32m    961\u001b[0m             input_name\u001b[39m=\u001b[39;49minput_name,\n\u001b[0;32m    962\u001b[0m             estimator_name\u001b[39m=\u001b[39;49mestimator_name,\n\u001b[0;32m    963\u001b[0m             allow_nan\u001b[39m=\u001b[39;49mforce_all_finite \u001b[39m==\u001b[39;49m \u001b[39m\"\u001b[39;49m\u001b[39mallow-nan\u001b[39;49m\u001b[39m\"\u001b[39;49m,\n\u001b[0;32m    964\u001b[0m         )\n\u001b[0;32m    966\u001b[0m \u001b[39mif\u001b[39;00m ensure_min_samples \u001b[39m>\u001b[39m \u001b[39m0\u001b[39m:\n\u001b[0;32m    967\u001b[0m     n_samples \u001b[39m=\u001b[39m _num_samples(array)\n",
      "File \u001b[1;32mc:\\Users\\hp\\Desktop\\Thyroid-disease-detection\\venv\\lib\\site-packages\\sklearn\\utils\\validation.py:124\u001b[0m, in \u001b[0;36m_assert_all_finite\u001b[1;34m(X, allow_nan, msg_dtype, estimator_name, input_name)\u001b[0m\n\u001b[0;32m    121\u001b[0m \u001b[39mif\u001b[39;00m first_pass_isfinite:\n\u001b[0;32m    122\u001b[0m     \u001b[39mreturn\u001b[39;00m\n\u001b[1;32m--> 124\u001b[0m _assert_all_finite_element_wise(\n\u001b[0;32m    125\u001b[0m     X,\n\u001b[0;32m    126\u001b[0m     xp\u001b[39m=\u001b[39;49mxp,\n\u001b[0;32m    127\u001b[0m     allow_nan\u001b[39m=\u001b[39;49mallow_nan,\n\u001b[0;32m    128\u001b[0m     msg_dtype\u001b[39m=\u001b[39;49mmsg_dtype,\n\u001b[0;32m    129\u001b[0m     estimator_name\u001b[39m=\u001b[39;49mestimator_name,\n\u001b[0;32m    130\u001b[0m     input_name\u001b[39m=\u001b[39;49minput_name,\n\u001b[0;32m    131\u001b[0m )\n",
      "File \u001b[1;32mc:\\Users\\hp\\Desktop\\Thyroid-disease-detection\\venv\\lib\\site-packages\\sklearn\\utils\\validation.py:173\u001b[0m, in \u001b[0;36m_assert_all_finite_element_wise\u001b[1;34m(X, xp, allow_nan, msg_dtype, estimator_name, input_name)\u001b[0m\n\u001b[0;32m    156\u001b[0m \u001b[39mif\u001b[39;00m estimator_name \u001b[39mand\u001b[39;00m input_name \u001b[39m==\u001b[39m \u001b[39m\"\u001b[39m\u001b[39mX\u001b[39m\u001b[39m\"\u001b[39m \u001b[39mand\u001b[39;00m has_nan_error:\n\u001b[0;32m    157\u001b[0m     \u001b[39m# Improve the error message on how to handle missing values in\u001b[39;00m\n\u001b[0;32m    158\u001b[0m     \u001b[39m# scikit-learn.\u001b[39;00m\n\u001b[0;32m    159\u001b[0m     msg_err \u001b[39m+\u001b[39m\u001b[39m=\u001b[39m (\n\u001b[0;32m    160\u001b[0m         \u001b[39mf\u001b[39m\u001b[39m\"\u001b[39m\u001b[39m\\n\u001b[39;00m\u001b[39m{\u001b[39;00mestimator_name\u001b[39m}\u001b[39;00m\u001b[39m does not accept missing values\u001b[39m\u001b[39m\"\u001b[39m\n\u001b[0;32m    161\u001b[0m         \u001b[39m\"\u001b[39m\u001b[39m encoded as NaN natively. For supervised learning, you might want\u001b[39m\u001b[39m\"\u001b[39m\n\u001b[1;32m   (...)\u001b[0m\n\u001b[0;32m    171\u001b[0m         \u001b[39m\"\u001b[39m\u001b[39m#estimators-that-handle-nan-values\u001b[39m\u001b[39m\"\u001b[39m\n\u001b[0;32m    172\u001b[0m     )\n\u001b[1;32m--> 173\u001b[0m \u001b[39mraise\u001b[39;00m \u001b[39mValueError\u001b[39;00m(msg_err)\n",
      "\u001b[1;31mValueError\u001b[0m: Input X contains NaN.\nSMOTE does not accept missing values encoded as NaN natively. For supervised learning, you might want to consider sklearn.ensemble.HistGradientBoostingClassifier and Regressor which accept missing values encoded as NaNs natively. Alternatively, it is possible to preprocess the data, for instance by using an imputer transformer in a pipeline or drop samples with missing values. See https://scikit-learn.org/stable/modules/impute.html You can find a list of all estimators that handle NaN values at the following page: https://scikit-learn.org/stable/modules/impute.html#estimators-that-handle-nan-values"
     ]
    }
   ],
   "source": [
    "from imblearn.over_sampling import SMOTE\n",
    "from collections import Counter\n",
    "\n",
    "\n",
    "X = data.drop(columns=['class'])\n",
    "y = data['class']\n",
    "\n",
    "print(\"Class distribution before SMOTE:\", Counter(y))\n",
    "\n",
    "smote = SMOTE(sampling_strategy='auto', random_state=42)\n",
    "\n",
    "X_resampled, y_resampled = smote.fit_resample(X, y)\n",
    "\n",
    "print(\"Class distribution after SMOTE:\", Counter(y_resampled))\n"
   ]
  },
  {
   "cell_type": "code",
   "execution_count": 82,
   "metadata": {},
   "outputs": [
    {
     "data": {
      "text/html": [
       "<div>\n",
       "<style scoped>\n",
       "    .dataframe tbody tr th:only-of-type {\n",
       "        vertical-align: middle;\n",
       "    }\n",
       "\n",
       "    .dataframe tbody tr th {\n",
       "        vertical-align: top;\n",
       "    }\n",
       "\n",
       "    .dataframe thead th {\n",
       "        text-align: right;\n",
       "    }\n",
       "</style>\n",
       "<table border=\"1\" class=\"dataframe\">\n",
       "  <thead>\n",
       "    <tr style=\"text-align: right;\">\n",
       "      <th></th>\n",
       "      <th>age</th>\n",
       "      <th>sex</th>\n",
       "      <th>on_thyroxine</th>\n",
       "      <th>query_on_thyroxine</th>\n",
       "      <th>on_antithyroid_medication</th>\n",
       "      <th>sick</th>\n",
       "      <th>pregnant</th>\n",
       "      <th>thyroid_surgery</th>\n",
       "      <th>I131_treatment</th>\n",
       "      <th>query_hypothyroid</th>\n",
       "      <th>...</th>\n",
       "      <th>goitre</th>\n",
       "      <th>tumor</th>\n",
       "      <th>hypopituitary</th>\n",
       "      <th>psych</th>\n",
       "      <th>TSH</th>\n",
       "      <th>T3</th>\n",
       "      <th>TT4</th>\n",
       "      <th>T4U</th>\n",
       "      <th>FTI</th>\n",
       "      <th>class</th>\n",
       "    </tr>\n",
       "  </thead>\n",
       "  <tbody>\n",
       "    <tr>\n",
       "      <th>0</th>\n",
       "      <td>41.0</td>\n",
       "      <td>0</td>\n",
       "      <td>0</td>\n",
       "      <td>0</td>\n",
       "      <td>0</td>\n",
       "      <td>0</td>\n",
       "      <td>0</td>\n",
       "      <td>0</td>\n",
       "      <td>0</td>\n",
       "      <td>0</td>\n",
       "      <td>...</td>\n",
       "      <td>0</td>\n",
       "      <td>0</td>\n",
       "      <td>0</td>\n",
       "      <td>0</td>\n",
       "      <td>1.30</td>\n",
       "      <td>2.5</td>\n",
       "      <td>125.0</td>\n",
       "      <td>1.14</td>\n",
       "      <td>109.0</td>\n",
       "      <td>negative</td>\n",
       "    </tr>\n",
       "    <tr>\n",
       "      <th>1</th>\n",
       "      <td>23.0</td>\n",
       "      <td>0</td>\n",
       "      <td>0</td>\n",
       "      <td>0</td>\n",
       "      <td>0</td>\n",
       "      <td>0</td>\n",
       "      <td>0</td>\n",
       "      <td>0</td>\n",
       "      <td>0</td>\n",
       "      <td>0</td>\n",
       "      <td>...</td>\n",
       "      <td>0</td>\n",
       "      <td>0</td>\n",
       "      <td>0</td>\n",
       "      <td>0</td>\n",
       "      <td>4.10</td>\n",
       "      <td>2.0</td>\n",
       "      <td>102.0</td>\n",
       "      <td>0.00</td>\n",
       "      <td>0.0</td>\n",
       "      <td>negative</td>\n",
       "    </tr>\n",
       "    <tr>\n",
       "      <th>2</th>\n",
       "      <td>46.0</td>\n",
       "      <td>1</td>\n",
       "      <td>0</td>\n",
       "      <td>0</td>\n",
       "      <td>0</td>\n",
       "      <td>0</td>\n",
       "      <td>0</td>\n",
       "      <td>0</td>\n",
       "      <td>0</td>\n",
       "      <td>0</td>\n",
       "      <td>...</td>\n",
       "      <td>0</td>\n",
       "      <td>0</td>\n",
       "      <td>0</td>\n",
       "      <td>0</td>\n",
       "      <td>0.98</td>\n",
       "      <td>0.0</td>\n",
       "      <td>109.0</td>\n",
       "      <td>0.91</td>\n",
       "      <td>120.0</td>\n",
       "      <td>negative</td>\n",
       "    </tr>\n",
       "    <tr>\n",
       "      <th>3</th>\n",
       "      <td>70.0</td>\n",
       "      <td>0</td>\n",
       "      <td>1</td>\n",
       "      <td>0</td>\n",
       "      <td>0</td>\n",
       "      <td>0</td>\n",
       "      <td>0</td>\n",
       "      <td>0</td>\n",
       "      <td>0</td>\n",
       "      <td>0</td>\n",
       "      <td>...</td>\n",
       "      <td>0</td>\n",
       "      <td>0</td>\n",
       "      <td>0</td>\n",
       "      <td>0</td>\n",
       "      <td>0.16</td>\n",
       "      <td>1.9</td>\n",
       "      <td>175.0</td>\n",
       "      <td>0.00</td>\n",
       "      <td>0.0</td>\n",
       "      <td>negative</td>\n",
       "    </tr>\n",
       "    <tr>\n",
       "      <th>4</th>\n",
       "      <td>70.0</td>\n",
       "      <td>0</td>\n",
       "      <td>0</td>\n",
       "      <td>0</td>\n",
       "      <td>0</td>\n",
       "      <td>0</td>\n",
       "      <td>0</td>\n",
       "      <td>0</td>\n",
       "      <td>0</td>\n",
       "      <td>0</td>\n",
       "      <td>...</td>\n",
       "      <td>0</td>\n",
       "      <td>0</td>\n",
       "      <td>0</td>\n",
       "      <td>0</td>\n",
       "      <td>0.72</td>\n",
       "      <td>1.2</td>\n",
       "      <td>61.0</td>\n",
       "      <td>0.87</td>\n",
       "      <td>70.0</td>\n",
       "      <td>negative</td>\n",
       "    </tr>\n",
       "  </tbody>\n",
       "</table>\n",
       "<p>5 rows × 22 columns</p>\n",
       "</div>"
      ],
      "text/plain": [
       "    age  sex  on_thyroxine  query_on_thyroxine  on_antithyroid_medication  \\\n",
       "0  41.0    0             0                   0                          0   \n",
       "1  23.0    0             0                   0                          0   \n",
       "2  46.0    1             0                   0                          0   \n",
       "3  70.0    0             1                   0                          0   \n",
       "4  70.0    0             0                   0                          0   \n",
       "\n",
       "   sick  pregnant  thyroid_surgery  I131_treatment  query_hypothyroid  ...  \\\n",
       "0     0         0                0               0                  0  ...   \n",
       "1     0         0                0               0                  0  ...   \n",
       "2     0         0                0               0                  0  ...   \n",
       "3     0         0                0               0                  0  ...   \n",
       "4     0         0                0               0                  0  ...   \n",
       "\n",
       "   goitre  tumor  hypopituitary  psych   TSH   T3    TT4   T4U    FTI  \\\n",
       "0       0      0              0      0  1.30  2.5  125.0  1.14  109.0   \n",
       "1       0      0              0      0  4.10  2.0  102.0  0.00    0.0   \n",
       "2       0      0              0      0  0.98  0.0  109.0  0.91  120.0   \n",
       "3       0      0              0      0  0.16  1.9  175.0  0.00    0.0   \n",
       "4       0      0              0      0  0.72  1.2   61.0  0.87   70.0   \n",
       "\n",
       "      class  \n",
       "0  negative  \n",
       "1  negative  \n",
       "2  negative  \n",
       "3  negative  \n",
       "4  negative  \n",
       "\n",
       "[5 rows x 22 columns]"
      ]
     },
     "execution_count": 82,
     "metadata": {},
     "output_type": "execute_result"
    }
   ],
   "source": [
    "resampled_data = pd.concat([X_resampled, y_resampled], axis=1)\n",
    "resampled_data.head()\n"
   ]
  },
  {
   "cell_type": "markdown",
   "metadata": {},
   "source": [
    "## Feature importance"
   ]
  },
  {
   "cell_type": "code",
   "execution_count": 77,
   "metadata": {},
   "outputs": [
    {
     "name": "stdout",
     "output_type": "stream",
     "text": [
      "                      Feature  Importance\n",
      "16                        TSH    0.317566\n",
      "18                        TT4    0.216250\n",
      "20                        FTI    0.209513\n",
      "19                        T4U    0.084309\n",
      "17                         T3    0.078564\n",
      "2                on_thyroxine    0.029245\n",
      "1                         sex    0.023670\n",
      "0                         age    0.015538\n",
      "13                      tumor    0.005028\n",
      "15                      psych    0.004148\n",
      "10         query_hyperthyroid    0.003202\n",
      "5                        sick    0.003163\n",
      "9           query_hypothyroid    0.002633\n",
      "7             thyroid_surgery    0.002424\n",
      "12                     goitre    0.001125\n",
      "4   on_antithyroid_medication    0.001100\n",
      "6                    pregnant    0.000840\n",
      "3          query_on_thyroxine    0.000746\n",
      "8              I131_treatment    0.000731\n",
      "11                    lithium    0.000202\n",
      "14              hypopituitary    0.000003\n"
     ]
    },
    {
     "data": {
      "image/png": "[encoded data removed]",
      "text/plain": [
       "<Figure size 1000x600 with 1 Axes>"
      ]
     },
     "metadata": {},
     "output_type": "display_data"
    }
   ],
   "source": [
    "\n",
    "from sklearn.ensemble import RandomForestClassifier\n",
    "\n",
    "X = X_resampled\n",
    "y = y_resampled\n",
    "\n",
    "rf_model = RandomForestClassifier(random_state=42)\n",
    "\n",
    "rf_model.fit(X, y)\n",
    "\n",
    "\n",
    "feature_importances = rf_model.feature_importances_\n",
    "\n",
    "importance_df = pd.DataFrame({'Feature': X.columns, 'Importance': feature_importances})\n",
    "\n",
    "\n",
    "importance_df = importance_df.sort_values(by='Importance', ascending=False)\n",
    "\n",
    "print(importance_df)\n",
    "\n",
    "# Plot the feature importances\n",
    "plt.figure(figsize=(10, 6))\n",
    "plt.barh(importance_df['Feature'], importance_df['Importance'])\n",
    "plt.xlabel('Feature Importance')\n",
    "plt.ylabel('Feature')\n",
    "plt.title('Feature Importance for Resampled Data (Random Forest)')\n",
    "plt.show()\n"
   ]
  },
  {
   "cell_type": "markdown",
   "metadata": {},
   "source": [
    "## Clustering"
   ]
  },
  {
   "cell_type": "code",
   "execution_count": 86,
   "metadata": {},
   "outputs": [
    {
     "name": "stdout",
     "output_type": "stream",
     "text": [
      "(50232, 21)\n"
     ]
    },
    {
     "name": "stderr",
     "output_type": "stream",
     "text": [
      "c:\\Users\\hp\\Desktop\\Thyroid-disease-detection\\venv\\lib\\site-packages\\sklearn\\cluster\\_kmeans.py:1412: FutureWarning: The default value of `n_init` will change from 10 to 'auto' in 1.4. Set the value of `n_init` explicitly to suppress the warning\n",
      "  super()._check_params_vs_input(X, default_n_init=10)\n"
     ]
    },
    {
     "name": "stderr",
     "output_type": "stream",
     "text": [
      "c:\\Users\\hp\\Desktop\\Thyroid-disease-detection\\venv\\lib\\site-packages\\sklearn\\cluster\\_kmeans.py:1412: FutureWarning: The default value of `n_init` will change from 10 to 'auto' in 1.4. Set the value of `n_init` explicitly to suppress the warning\n",
      "  super()._check_params_vs_input(X, default_n_init=10)\n",
      "c:\\Users\\hp\\Desktop\\Thyroid-disease-detection\\venv\\lib\\site-packages\\sklearn\\cluster\\_kmeans.py:1412: FutureWarning: The default value of `n_init` will change from 10 to 'auto' in 1.4. Set the value of `n_init` explicitly to suppress the warning\n",
      "  super()._check_params_vs_input(X, default_n_init=10)\n",
      "c:\\Users\\hp\\Desktop\\Thyroid-disease-detection\\venv\\lib\\site-packages\\sklearn\\cluster\\_kmeans.py:1412: FutureWarning: The default value of `n_init` will change from 10 to 'auto' in 1.4. Set the value of `n_init` explicitly to suppress the warning\n",
      "  super()._check_params_vs_input(X, default_n_init=10)\n",
      "c:\\Users\\hp\\Desktop\\Thyroid-disease-detection\\venv\\lib\\site-packages\\sklearn\\cluster\\_kmeans.py:1412: FutureWarning: The default value of `n_init` will change from 10 to 'auto' in 1.4. Set the value of `n_init` explicitly to suppress the warning\n",
      "  super()._check_params_vs_input(X, default_n_init=10)\n",
      "c:\\Users\\hp\\Desktop\\Thyroid-disease-detection\\venv\\lib\\site-packages\\sklearn\\cluster\\_kmeans.py:1412: FutureWarning: The default value of `n_init` will change from 10 to 'auto' in 1.4. Set the value of `n_init` explicitly to suppress the warning\n",
      "  super()._check_params_vs_input(X, default_n_init=10)\n",
      "c:\\Users\\hp\\Desktop\\Thyroid-disease-detection\\venv\\lib\\site-packages\\sklearn\\cluster\\_kmeans.py:1412: FutureWarning: The default value of `n_init` will change from 10 to 'auto' in 1.4. Set the value of `n_init` explicitly to suppress the warning\n",
      "  super()._check_params_vs_input(X, default_n_init=10)\n",
      "c:\\Users\\hp\\Desktop\\Thyroid-disease-detection\\venv\\lib\\site-packages\\sklearn\\cluster\\_kmeans.py:1412: FutureWarning: The default value of `n_init` will change from 10 to 'auto' in 1.4. Set the value of `n_init` explicitly to suppress the warning\n",
      "  super()._check_params_vs_input(X, default_n_init=10)\n",
      "c:\\Users\\hp\\Desktop\\Thyroid-disease-detection\\venv\\lib\\site-packages\\sklearn\\cluster\\_kmeans.py:1412: FutureWarning: The default value of `n_init` will change from 10 to 'auto' in 1.4. Set the value of `n_init` explicitly to suppress the warning\n",
      "  super()._check_params_vs_input(X, default_n_init=10)\n",
      "c:\\Users\\hp\\Desktop\\Thyroid-disease-detection\\venv\\lib\\site-packages\\sklearn\\cluster\\_kmeans.py:1412: FutureWarning: The default value of `n_init` will change from 10 to 'auto' in 1.4. Set the value of `n_init` explicitly to suppress the warning\n",
      "  super()._check_params_vs_input(X, default_n_init=10)\n",
      "c:\\Users\\hp\\Desktop\\Thyroid-disease-detection\\venv\\lib\\site-packages\\matplotlib\\axes\\_axes.py:1183: RuntimeWarning: All-NaN axis encountered\n",
      "  minx = np.nanmin(masked_verts[..., 0])\n",
      "c:\\Users\\hp\\Desktop\\Thyroid-disease-detection\\venv\\lib\\site-packages\\matplotlib\\axes\\_axes.py:1184: RuntimeWarning: All-NaN axis encountered\n",
      "  maxx = np.nanmax(masked_verts[..., 0])\n"
     ]
    },
    {
     "data": {
      "image/png": "[encoded data removed]",
      "text/plain": [
       "<Figure size 800x600 with 1 Axes>"
      ]
     },
     "metadata": {},
     "output_type": "display_data"
    },
    {
     "data": {
      "image/png": "[encoded data removed]",
      "text/plain": [
       "<Figure size 600x600 with 1 Axes>"
      ]
     },
     "metadata": {},
     "output_type": "display_data"
    },
    {
     "name": "stdout",
     "output_type": "stream",
     "text": [
      "Optimal number of clusters (k): None\n"
     ]
    }
   ],
   "source": [
    "\n",
    "from sklearn.cluster import KMeans\n",
    "from sklearn.preprocessing import StandardScaler\n",
    "from kneed import KneeLocator\n",
    "\n",
    "X=resampled_data.drop(columns=['class'])\n",
    "print(X.shape)\n",
    "\n",
    "\n",
    "scaler = StandardScaler()\n",
    "X_scaled = scaler.fit_transform(X)\n",
    "\n",
    "\n",
    "k_values = range(1, 11)  \n",
    "\n",
    "\n",
    "inertia = []\n",
    "\n",
    "\n",
    "for k in k_values:\n",
    "    kmeans = KMeans(n_clusters=k, init='k-means++', random_state=42)\n",
    "    kmeans.fit(X_scaled)\n",
    "    inertia.append(kmeans.inertia_)\n",
    "\n",
    "\n",
    "knee_locator = KneeLocator(k_values, inertia,direction='decreasing',curve='convex')\n",
    "\n",
    "\n",
    "plt.figure(figsize=(8, 6))\n",
    "plt.plot(k_values, inertia, marker='o', linestyle='-', color='b')\n",
    "plt.xlabel('Number of Clusters (k)')\n",
    "plt.ylabel('Inertia (Within-Cluster Sum of Squares)')\n",
    "plt.title('Elbow Method for Optimal K')\n",
    "knee_locator.plot_knee()\n",
    "plt.grid(True)\n",
    "plt.show()\n",
    "\n",
    "\n",
    "optimal_k = knee_locator.elbow\n",
    "\n",
    "print(f'Optimal number of clusters (k): {optimal_k}')\n"
   ]
  },
  {
   "cell_type": "code",
   "execution_count": 80,
   "metadata": {},
   "outputs": [
    {
     "name": "stderr",
     "output_type": "stream",
     "text": [
      "c:\\Users\\hp\\Desktop\\Thyroid-disease-detection\\venv\\lib\\site-packages\\sklearn\\cluster\\_kmeans.py:1412: FutureWarning: The default value of `n_init` will change from 10 to 'auto' in 1.4. Set the value of `n_init` explicitly to suppress the warning\n",
      "  super()._check_params_vs_input(X, default_n_init=10)\n"
     ]
    }
   ],
   "source": [
    "#so, optimum 3 clusters should be there\n",
    "kmeans = KMeans(n_clusters=3,init='k-means++', random_state=42)\n",
    "resampled_data['cluster']=kmeans.fit_predict(X)"
   ]
  },
  {
   "cell_type": "code",
   "execution_count": 81,
   "metadata": {},
   "outputs": [
    {
     "data": {
      "text/html": [
       "<div>\n",
       "<style scoped>\n",
       "    .dataframe tbody tr th:only-of-type {\n",
       "        vertical-align: middle;\n",
       "    }\n",
       "\n",
       "    .dataframe tbody tr th {\n",
       "        vertical-align: top;\n",
       "    }\n",
       "\n",
       "    .dataframe thead th {\n",
       "        text-align: right;\n",
       "    }\n",
       "</style>\n",
       "<table border=\"1\" class=\"dataframe\">\n",
       "  <thead>\n",
       "    <tr style=\"text-align: right;\">\n",
       "      <th></th>\n",
       "      <th>age</th>\n",
       "      <th>sex</th>\n",
       "      <th>on_thyroxine</th>\n",
       "      <th>query_on_thyroxine</th>\n",
       "      <th>on_antithyroid_medication</th>\n",
       "      <th>sick</th>\n",
       "      <th>pregnant</th>\n",
       "      <th>thyroid_surgery</th>\n",
       "      <th>I131_treatment</th>\n",
       "      <th>query_hypothyroid</th>\n",
       "      <th>...</th>\n",
       "      <th>tumor</th>\n",
       "      <th>hypopituitary</th>\n",
       "      <th>psych</th>\n",
       "      <th>TSH</th>\n",
       "      <th>T3</th>\n",
       "      <th>TT4</th>\n",
       "      <th>T4U</th>\n",
       "      <th>FTI</th>\n",
       "      <th>class</th>\n",
       "      <th>cluster</th>\n",
       "    </tr>\n",
       "  </thead>\n",
       "  <tbody>\n",
       "    <tr>\n",
       "      <th>0</th>\n",
       "      <td>41.0</td>\n",
       "      <td>0</td>\n",
       "      <td>0</td>\n",
       "      <td>0</td>\n",
       "      <td>0</td>\n",
       "      <td>0</td>\n",
       "      <td>0</td>\n",
       "      <td>0</td>\n",
       "      <td>0</td>\n",
       "      <td>0</td>\n",
       "      <td>...</td>\n",
       "      <td>0</td>\n",
       "      <td>0</td>\n",
       "      <td>0</td>\n",
       "      <td>1.30</td>\n",
       "      <td>2.5</td>\n",
       "      <td>125.0</td>\n",
       "      <td>1.14</td>\n",
       "      <td>109.0</td>\n",
       "      <td>negative</td>\n",
       "      <td>0</td>\n",
       "    </tr>\n",
       "    <tr>\n",
       "      <th>1</th>\n",
       "      <td>23.0</td>\n",
       "      <td>0</td>\n",
       "      <td>0</td>\n",
       "      <td>0</td>\n",
       "      <td>0</td>\n",
       "      <td>0</td>\n",
       "      <td>0</td>\n",
       "      <td>0</td>\n",
       "      <td>0</td>\n",
       "      <td>0</td>\n",
       "      <td>...</td>\n",
       "      <td>0</td>\n",
       "      <td>0</td>\n",
       "      <td>0</td>\n",
       "      <td>4.10</td>\n",
       "      <td>2.0</td>\n",
       "      <td>102.0</td>\n",
       "      <td>0.00</td>\n",
       "      <td>0.0</td>\n",
       "      <td>negative</td>\n",
       "      <td>1</td>\n",
       "    </tr>\n",
       "    <tr>\n",
       "      <th>2</th>\n",
       "      <td>46.0</td>\n",
       "      <td>1</td>\n",
       "      <td>0</td>\n",
       "      <td>0</td>\n",
       "      <td>0</td>\n",
       "      <td>0</td>\n",
       "      <td>0</td>\n",
       "      <td>0</td>\n",
       "      <td>0</td>\n",
       "      <td>0</td>\n",
       "      <td>...</td>\n",
       "      <td>0</td>\n",
       "      <td>0</td>\n",
       "      <td>0</td>\n",
       "      <td>0.98</td>\n",
       "      <td>0.0</td>\n",
       "      <td>109.0</td>\n",
       "      <td>0.91</td>\n",
       "      <td>120.0</td>\n",
       "      <td>negative</td>\n",
       "      <td>0</td>\n",
       "    </tr>\n",
       "    <tr>\n",
       "      <th>3</th>\n",
       "      <td>70.0</td>\n",
       "      <td>0</td>\n",
       "      <td>1</td>\n",
       "      <td>0</td>\n",
       "      <td>0</td>\n",
       "      <td>0</td>\n",
       "      <td>0</td>\n",
       "      <td>0</td>\n",
       "      <td>0</td>\n",
       "      <td>0</td>\n",
       "      <td>...</td>\n",
       "      <td>0</td>\n",
       "      <td>0</td>\n",
       "      <td>0</td>\n",
       "      <td>0.16</td>\n",
       "      <td>1.9</td>\n",
       "      <td>175.0</td>\n",
       "      <td>0.00</td>\n",
       "      <td>0.0</td>\n",
       "      <td>negative</td>\n",
       "      <td>0</td>\n",
       "    </tr>\n",
       "    <tr>\n",
       "      <th>4</th>\n",
       "      <td>70.0</td>\n",
       "      <td>0</td>\n",
       "      <td>0</td>\n",
       "      <td>0</td>\n",
       "      <td>0</td>\n",
       "      <td>0</td>\n",
       "      <td>0</td>\n",
       "      <td>0</td>\n",
       "      <td>0</td>\n",
       "      <td>0</td>\n",
       "      <td>...</td>\n",
       "      <td>0</td>\n",
       "      <td>0</td>\n",
       "      <td>0</td>\n",
       "      <td>0.72</td>\n",
       "      <td>1.2</td>\n",
       "      <td>61.0</td>\n",
       "      <td>0.87</td>\n",
       "      <td>70.0</td>\n",
       "      <td>negative</td>\n",
       "      <td>0</td>\n",
       "    </tr>\n",
       "  </tbody>\n",
       "</table>\n",
       "<p>5 rows × 23 columns</p>\n",
       "</div>"
      ],
      "text/plain": [
       "    age  sex  on_thyroxine  query_on_thyroxine  on_antithyroid_medication  \\\n",
       "0  41.0    0             0                   0                          0   \n",
       "1  23.0    0             0                   0                          0   \n",
       "2  46.0    1             0                   0                          0   \n",
       "3  70.0    0             1                   0                          0   \n",
       "4  70.0    0             0                   0                          0   \n",
       "\n",
       "   sick  pregnant  thyroid_surgery  I131_treatment  query_hypothyroid  ...  \\\n",
       "0     0         0                0               0                  0  ...   \n",
       "1     0         0                0               0                  0  ...   \n",
       "2     0         0                0               0                  0  ...   \n",
       "3     0         0                0               0                  0  ...   \n",
       "4     0         0                0               0                  0  ...   \n",
       "\n",
       "   tumor  hypopituitary  psych   TSH   T3    TT4   T4U    FTI     class  \\\n",
       "0      0              0      0  1.30  2.5  125.0  1.14  109.0  negative   \n",
       "1      0              0      0  4.10  2.0  102.0  0.00    0.0  negative   \n",
       "2      0              0      0  0.98  0.0  109.0  0.91  120.0  negative   \n",
       "3      0              0      0  0.16  1.9  175.0  0.00    0.0  negative   \n",
       "4      0              0      0  0.72  1.2   61.0  0.87   70.0  negative   \n",
       "\n",
       "   cluster  \n",
       "0        0  \n",
       "1        1  \n",
       "2        0  \n",
       "3        0  \n",
       "4        0  \n",
       "\n",
       "[5 rows x 23 columns]"
      ]
     },
     "execution_count": 81,
     "metadata": {},
     "output_type": "execute_result"
    }
   ],
   "source": [
    "resampled_data.head()"
   ]
  },
  {
   "cell_type": "code",
   "execution_count": 82,
   "metadata": {},
   "outputs": [
    {
     "data": {
      "text/plain": [
       "cluster\n",
       "1    25107\n",
       "0    17673\n",
       "2     7452\n",
       "Name: count, dtype: int64"
      ]
     },
     "execution_count": 82,
     "metadata": {},
     "output_type": "execute_result"
    }
   ],
   "source": [
    "resampled_data['cluster'].value_counts()"
   ]
  },
  {
   "cell_type": "markdown",
   "metadata": {},
   "source": [
    "- 27,212 points fall in cluster 0\n",
    "- 18,964 datapoints fall in cluster 1\n",
    "- and only 8037 datapoints fall into cluster 2.\n"
   ]
  },
  {
   "cell_type": "code",
   "execution_count": 83,
   "metadata": {},
   "outputs": [],
   "source": [
    "#Let's separate the clusters into different dataframes\n",
    "data_0=resampled_data[resampled_data['cluster']==0]\n",
    "data_1=resampled_data[resampled_data['cluster']==1]\n",
    "data_2=resampled_data[resampled_data['cluster']==2]\n",
    "#toal three dataframes formed named- data_0, data_1, and data_2 containing cluster0, 1, and 2 respectively."
   ]
  },
  {
   "cell_type": "code",
   "execution_count": 84,
   "metadata": {},
   "outputs": [
    {
     "name": "stdout",
     "output_type": "stream",
     "text": [
      "(17673, 23)\n",
      "(25107, 23)\n",
      "(7452, 23)\n"
     ]
    }
   ],
   "source": [
    "print(data_0.shape)\n",
    "print(data_1.shape)\n",
    "print(data_2.shape)\n"
   ]
  },
  {
   "cell_type": "markdown",
   "metadata": {},
   "source": [
    "## Machine learning algorithms"
   ]
  },
  {
   "cell_type": "code",
   "execution_count": 87,
   "metadata": {},
   "outputs": [],
   "source": [
    "#one hot encoding of the target column\n",
    "data_0_encoded = pd.get_dummies(data_0, columns=['class'], drop_first=True)\n",
    "data_1_encoded = pd.get_dummies(data_1, columns=['class'], drop_first=True)\n",
    "data_2_encoded = pd.get_dummies(data_2, columns=['class'], drop_first=True)\n",
    "\n"
   ]
  },
  {
   "cell_type": "code",
   "execution_count": 91,
   "metadata": {},
   "outputs": [
    {
     "name": "stdout",
     "output_type": "stream",
     "text": [
      "(27212, 24)\n",
      "(18964, 24)\n",
      "(8037, 24)\n"
     ]
    }
   ],
   "source": [
    "print(data_0_encoded.shape)\n",
    "print(data_1_encoded.shape)\n",
    "print(data_2_encoded.shape)"
   ]
  },
  {
   "cell_type": "code",
   "execution_count": 92,
   "metadata": {},
   "outputs": [
    {
     "data": {
      "text/html": [
       "<div>\n",
       "<style scoped>\n",
       "    .dataframe tbody tr th:only-of-type {\n",
       "        vertical-align: middle;\n",
       "    }\n",
       "\n",
       "    .dataframe tbody tr th {\n",
       "        vertical-align: top;\n",
       "    }\n",
       "\n",
       "    .dataframe thead th {\n",
       "        text-align: right;\n",
       "    }\n",
       "</style>\n",
       "<table border=\"1\" class=\"dataframe\">\n",
       "  <thead>\n",
       "    <tr style=\"text-align: right;\">\n",
       "      <th></th>\n",
       "      <th>age</th>\n",
       "      <th>sex</th>\n",
       "      <th>on_thyroxine</th>\n",
       "      <th>query_on_thyroxine</th>\n",
       "      <th>on_antithyroid_medication</th>\n",
       "      <th>sick</th>\n",
       "      <th>pregnant</th>\n",
       "      <th>thyroid_surgery</th>\n",
       "      <th>I131_treatment</th>\n",
       "      <th>query_hypothyroid</th>\n",
       "      <th>...</th>\n",
       "      <th>hypopituitary</th>\n",
       "      <th>psych</th>\n",
       "      <th>TSH</th>\n",
       "      <th>T3</th>\n",
       "      <th>TT4</th>\n",
       "      <th>T4U</th>\n",
       "      <th>FTI</th>\n",
       "      <th>cluster</th>\n",
       "      <th>class_hypothyroid</th>\n",
       "      <th>class_negative</th>\n",
       "    </tr>\n",
       "  </thead>\n",
       "  <tbody>\n",
       "    <tr>\n",
       "      <th>1</th>\n",
       "      <td>23.0</td>\n",
       "      <td>0</td>\n",
       "      <td>0</td>\n",
       "      <td>0</td>\n",
       "      <td>0</td>\n",
       "      <td>0</td>\n",
       "      <td>0</td>\n",
       "      <td>0</td>\n",
       "      <td>0</td>\n",
       "      <td>0</td>\n",
       "      <td>...</td>\n",
       "      <td>0</td>\n",
       "      <td>0</td>\n",
       "      <td>4.1</td>\n",
       "      <td>2.0</td>\n",
       "      <td>102.0</td>\n",
       "      <td>0.00</td>\n",
       "      <td>0.0</td>\n",
       "      <td>0</td>\n",
       "      <td>False</td>\n",
       "      <td>True</td>\n",
       "    </tr>\n",
       "    <tr>\n",
       "      <th>38</th>\n",
       "      <td>64.0</td>\n",
       "      <td>0</td>\n",
       "      <td>0</td>\n",
       "      <td>0</td>\n",
       "      <td>0</td>\n",
       "      <td>0</td>\n",
       "      <td>0</td>\n",
       "      <td>0</td>\n",
       "      <td>0</td>\n",
       "      <td>0</td>\n",
       "      <td>...</td>\n",
       "      <td>0</td>\n",
       "      <td>0</td>\n",
       "      <td>0.0</td>\n",
       "      <td>0.0</td>\n",
       "      <td>0.0</td>\n",
       "      <td>0.00</td>\n",
       "      <td>0.0</td>\n",
       "      <td>0</td>\n",
       "      <td>False</td>\n",
       "      <td>True</td>\n",
       "    </tr>\n",
       "    <tr>\n",
       "      <th>39</th>\n",
       "      <td>44.0</td>\n",
       "      <td>1</td>\n",
       "      <td>0</td>\n",
       "      <td>0</td>\n",
       "      <td>0</td>\n",
       "      <td>0</td>\n",
       "      <td>0</td>\n",
       "      <td>0</td>\n",
       "      <td>0</td>\n",
       "      <td>0</td>\n",
       "      <td>...</td>\n",
       "      <td>0</td>\n",
       "      <td>0</td>\n",
       "      <td>45.0</td>\n",
       "      <td>1.4</td>\n",
       "      <td>39.0</td>\n",
       "      <td>1.16</td>\n",
       "      <td>33.0</td>\n",
       "      <td>0</td>\n",
       "      <td>False</td>\n",
       "      <td>True</td>\n",
       "    </tr>\n",
       "    <tr>\n",
       "      <th>53</th>\n",
       "      <td>53.0</td>\n",
       "      <td>0</td>\n",
       "      <td>0</td>\n",
       "      <td>0</td>\n",
       "      <td>0</td>\n",
       "      <td>0</td>\n",
       "      <td>0</td>\n",
       "      <td>0</td>\n",
       "      <td>0</td>\n",
       "      <td>0</td>\n",
       "      <td>...</td>\n",
       "      <td>0</td>\n",
       "      <td>0</td>\n",
       "      <td>0.0</td>\n",
       "      <td>2.8</td>\n",
       "      <td>0.0</td>\n",
       "      <td>0.00</td>\n",
       "      <td>0.0</td>\n",
       "      <td>0</td>\n",
       "      <td>False</td>\n",
       "      <td>True</td>\n",
       "    </tr>\n",
       "    <tr>\n",
       "      <th>65</th>\n",
       "      <td>69.0</td>\n",
       "      <td>0</td>\n",
       "      <td>0</td>\n",
       "      <td>0</td>\n",
       "      <td>0</td>\n",
       "      <td>0</td>\n",
       "      <td>0</td>\n",
       "      <td>0</td>\n",
       "      <td>0</td>\n",
       "      <td>0</td>\n",
       "      <td>...</td>\n",
       "      <td>0</td>\n",
       "      <td>0</td>\n",
       "      <td>0.0</td>\n",
       "      <td>0.0</td>\n",
       "      <td>0.0</td>\n",
       "      <td>0.00</td>\n",
       "      <td>0.0</td>\n",
       "      <td>0</td>\n",
       "      <td>False</td>\n",
       "      <td>True</td>\n",
       "    </tr>\n",
       "  </tbody>\n",
       "</table>\n",
       "<p>5 rows × 24 columns</p>\n",
       "</div>"
      ],
      "text/plain": [
       "     age  sex  on_thyroxine  query_on_thyroxine  on_antithyroid_medication  \\\n",
       "1   23.0    0             0                   0                          0   \n",
       "38  64.0    0             0                   0                          0   \n",
       "39  44.0    1             0                   0                          0   \n",
       "53  53.0    0             0                   0                          0   \n",
       "65  69.0    0             0                   0                          0   \n",
       "\n",
       "    sick  pregnant  thyroid_surgery  I131_treatment  query_hypothyroid  ...  \\\n",
       "1      0         0                0               0                  0  ...   \n",
       "38     0         0                0               0                  0  ...   \n",
       "39     0         0                0               0                  0  ...   \n",
       "53     0         0                0               0                  0  ...   \n",
       "65     0         0                0               0                  0  ...   \n",
       "\n",
       "    hypopituitary  psych   TSH   T3    TT4   T4U   FTI  cluster  \\\n",
       "1               0      0   4.1  2.0  102.0  0.00   0.0        0   \n",
       "38              0      0   0.0  0.0    0.0  0.00   0.0        0   \n",
       "39              0      0  45.0  1.4   39.0  1.16  33.0        0   \n",
       "53              0      0   0.0  2.8    0.0  0.00   0.0        0   \n",
       "65              0      0   0.0  0.0    0.0  0.00   0.0        0   \n",
       "\n",
       "    class_hypothyroid  class_negative  \n",
       "1               False            True  \n",
       "38              False            True  \n",
       "39              False            True  \n",
       "53              False            True  \n",
       "65              False            True  \n",
       "\n",
       "[5 rows x 24 columns]"
      ]
     },
     "execution_count": 92,
     "metadata": {},
     "output_type": "execute_result"
    }
   ],
   "source": [
    "data_0_encoded.head()"
   ]
  },
  {
   "cell_type": "code",
   "execution_count": null,
   "metadata": {},
   "outputs": [],
   "source": []
  },
  {
   "cell_type": "code",
   "execution_count": null,
   "metadata": {},
   "outputs": [],
   "source": []
  },
  {
   "cell_type": "code",
   "execution_count": null,
   "metadata": {},
   "outputs": [],
   "source": []
  }
 ],
 "metadata": {
  "kernelspec": {
   "display_name": "Python 3",
   "language": "python",
   "name": "python3"
  },
  "language_info": {
   "codemirror_mode": {
    "name": "ipython",
    "version": 3
   },
   "file_extension": ".py",
   "mimetype": "text/x-python",
   "name": "python",
   "nbconvert_exporter": "python",
   "pygments_lexer": "ipython3",
   "version": "3.9.17"
  },
  "orig_nbformat": 4
 },
 "nbformat": 4,
 "nbformat_minor": 2
}
