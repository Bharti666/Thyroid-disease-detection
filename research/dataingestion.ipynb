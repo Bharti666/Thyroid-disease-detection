{
 "cells": [
  {
   "cell_type": "code",
   "execution_count": 3,
   "metadata": {},
   "outputs": [],
   "source": [
    "import pandas as pd\n",
    "import os\n",
    "from thyroid.utils.exception import customException"
   ]
  },
  {
   "cell_type": "code",
   "execution_count": 8,
   "metadata": {},
   "outputs": [
    {
     "name": "stdout",
     "output_type": "stream",
     "text": [
      "File not found.\n"
     ]
    }
   ],
   "source": [
    "import os\n",
    "\n",
    "def read_data_file(file_path):\n",
    "    if file_path.lower().endswith('.data'):\n",
    "        try:\n",
    "            with open(file_path, 'r') as file:\n",
    "                data = file.read()\n",
    "                return data\n",
    "        except FileNotFoundError:\n",
    "            return \"File not found.\"\n",
    "        except Exception as e:\n",
    "            return \"An error occurred: \" + str(e)\n",
    "    else:\n",
    "        return \"File does not have a .DATA extension.\"\n",
    "\n",
    "directory = \"raw_data\"\n",
    "file_name = \"thyroid0387.data\"\n",
    "file_path = os.path.join(directory, file_name)\n",
    "\n",
    "result = read_data_file(file_path)\n",
    "print(result)\n",
    "\n"
   ]
  }
 ],
 "metadata": {
  "kernelspec": {
   "display_name": "Python 3",
   "language": "python",
   "name": "python3"
  },
  "language_info": {
   "codemirror_mode": {
    "name": "ipython",
    "version": 3
   },
   "file_extension": ".py",
   "mimetype": "text/x-python",
   "name": "python",
   "nbconvert_exporter": "python",
   "pygments_lexer": "ipython3",
   "version": "3.9.17"
  },
  "orig_nbformat": 4
 },
 "nbformat": 4,
 "nbformat_minor": 2
}
