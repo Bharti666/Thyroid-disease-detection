{
 "cells": [
  {
   "cell_type": "code",
   "execution_count": 1,
   "metadata": {},
   "outputs": [],
   "source": [
    "import pandas as pd\n",
    "import os\n",
    "import shutil\n",
    "from thyroid.utils.exception import customException"
   ]
  },
  {
   "cell_type": "code",
   "execution_count": 2,
   "metadata": {},
   "outputs": [
    {
     "name": "stdout",
     "output_type": "stream",
     "text": [
      "Current working directory: c:\\Users\\aakas\\Documents\\Projects\\Thyroid-disease-detection\\research\n"
     ]
    }
   ],
   "source": [
    "print(\"Current working directory:\", os.getcwd())"
   ]
  },
  {
   "cell_type": "code",
   "execution_count": 3,
   "metadata": {},
   "outputs": [],
   "source": [
    "os.chdir(\"../\")"
   ]
  },
  {
   "cell_type": "code",
   "execution_count": 4,
   "metadata": {},
   "outputs": [
    {
     "data": {
      "text/plain": [
       "'c:\\\\Users\\\\aakas\\\\Documents\\\\Projects\\\\Thyroid-disease-detection'"
      ]
     },
     "execution_count": 4,
     "metadata": {},
     "output_type": "execute_result"
    }
   ],
   "source": [
    "%pwd"
   ]
  },
  {
   "cell_type": "code",
   "execution_count": 22,
   "metadata": {},
   "outputs": [],
   "source": [
    "# define configuration\n",
    "raw_directory = \"raw_data\"\n",
    "artifact_directory = \"artifact\"\n",
    "file_name = \"allbp.data\"\n",
    "bad_directory = \"bad_data\"\n",
    "ingested_directory = \"ingested_data\""
   ]
  },
  {
   "cell_type": "code",
   "execution_count": 6,
   "metadata": {},
   "outputs": [],
   "source": [
    "# Create the artifact directory if it doesn't exist\n",
    "if not os.path.exists(artifact_directory):\n",
    "    os.makedirs(artifact_directory)\n",
    "\n",
    "# Create the ingested_data directory inside the artifact directory if it doesn't exist\n",
    "ingested_data_directory = os.path.join(artifact_directory, ingested_directory)\n",
    "if not os.path.exists(ingested_data_directory):\n",
    "    os.makedirs(ingested_data_directory)\n",
    "\n",
    "\n",
    "# Create the ingested_data directory inside the artifact directory if it doesn't exist\n",
    "bad_data_directory = os.path.join(artifact_directory, bad_directory)\n",
    "if not os.path.exists(bad_data_directory):\n",
    "    os.makedirs(bad_data_directory)\n"
   ]
  },
  {
   "cell_type": "code",
   "execution_count": 7,
   "metadata": {},
   "outputs": [],
   "source": [
    "import os\n",
    "\n",
    "def read_data_file(file_path):\n",
    "    if file_path.lower().endswith('.data' or '.txt'):\n",
    "        try:\n",
    "            with open(file_path, 'r') as file:\n",
    "                data = file.readlines()\n",
    "                print(\"read_data_file\",)\n",
    "                return data\n",
    "            \n",
    "        except FileNotFoundError:\n",
    "            return \"File not found.\"\n",
    "        except Exception as e:\n",
    "            return \"An error occurred: \" + str(e)\n",
    "    else:\n",
    "        # if the file does not end with .data\n",
    "        return False\n"
   ]
  },
  {
   "cell_type": "code",
   "execution_count": 8,
   "metadata": {},
   "outputs": [],
   "source": [
    "import csv\n",
    "from datetime import datetime"
   ]
  },
  {
   "cell_type": "code",
   "execution_count": 9,
   "metadata": {},
   "outputs": [],
   "source": [
    "def save_to_csv(data, csv_path):\n",
    "    try:\n",
    "        print(len(data))\n",
    "        with open(csv_path, 'w', newline='') as csv_file:\n",
    "            csv_writer = csv.writer(csv_file)\n",
    "            for row in data:\n",
    "                csv_writer.writerow(row)\n",
    "        return \"CSV file saved successfully.\"\n",
    "    except Exception as e:\n",
    "        return \"An error occurred while saving CSV: \" + str(e)"
   ]
  },
  {
   "cell_type": "code",
   "execution_count": null,
   "metadata": {},
   "outputs": [],
   "source": [
    "with open(csv_file_name, 'w', newline='') as csv_file:\n",
    "    csv_writer = csv.writer(csv_file)\n",
    "    for row in processed_data:\n",
    "        csv_writer.writerow(row)"
   ]
  },
  {
   "cell_type": "code",
   "execution_count": 10,
   "metadata": {},
   "outputs": [],
   "source": [
    "import re\n",
    "def process_rows(record):\n",
    "    cleaned_attributes = []\n",
    "    for attribute in record.strip().split(','):\n",
    "        attribute = re.sub(r'-', 'negative', attribute)  # Replace '-' with 'negative'\n",
    "        if '.|' in attribute:\n",
    "            cleaned_attributes.append(attribute.split('.|')[0])\n",
    "        elif '[' in attribute:\n",
    "            cleaned_attributes.append(attribute.split('[')[0])\n",
    "        else:\n",
    "            cleaned_attributes.append(attribute)\n",
    "    return cleaned_attributes"
   ]
  },
  {
   "cell_type": "code",
   "execution_count": 23,
   "metadata": {},
   "outputs": [
    {
     "name": "stdout",
     "output_type": "stream",
     "text": [
      "read_data_file\n"
     ]
    }
   ],
   "source": [
    "# process the file extension\n",
    "file_path = os.path.join(raw_directory, file_name)\n",
    "data_rows = read_data_file(file_path)"
   ]
  },
  {
   "cell_type": "code",
   "execution_count": 16,
   "metadata": {},
   "outputs": [],
   "source": [
    "from datetime import datetime"
   ]
  },
  {
   "cell_type": "code",
   "execution_count": 24,
   "metadata": {},
   "outputs": [
    {
     "name": "stdout",
     "output_type": "stream",
     "text": [
      "Processing: allbp.data\n",
      "2800\n"
     ]
    }
   ],
   "source": [
    "processed_data = []\n",
    "if data_rows:\n",
    "    print(\"Processing:\", file_name)\n",
    "    for row in data_rows:\n",
    "        processed_data.append(process_rows(row))\n",
    "\n",
    "        \n",
    "    # convert file into .csv and save it to artifacts/ingested directory\n",
    "    current_datetime = datetime.now().strftime('%Y%m%d_%H%M%S')\n",
    "    csv_file_name = f\"thyroid_{current_datetime}.csv\"\n",
    "    csv_path = os.path.join(ingested_data_directory, csv_file_name)\n",
    "    save_result = save_to_csv(processed_data, csv_path)\n",
    "else:\n",
    "    bad_file_path = os.path.join(bad_data_directory, file_name)\n",
    "    shutil.move(file_path, bad_file_path)\n",
    "    print(\"Moved to bad_data:\", file_name)     "
   ]
  }
 ],
 "metadata": {
  "kernelspec": {
   "display_name": "Python 3",
   "language": "python",
   "name": "python3"
  },
  "language_info": {
   "codemirror_mode": {
    "name": "ipython",
    "version": 3
   },
   "file_extension": ".py",
   "mimetype": "text/x-python",
   "name": "python",
   "nbconvert_exporter": "python",
   "pygments_lexer": "ipython3",
   "version": "3.9.17"
  },
  "orig_nbformat": 4
 },
 "nbformat": 4,
 "nbformat_minor": 2
}
